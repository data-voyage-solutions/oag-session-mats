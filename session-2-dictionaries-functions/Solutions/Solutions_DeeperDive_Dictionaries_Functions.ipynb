{
 "cells": [
  {
   "cell_type": "markdown",
   "metadata": {},
   "source": [
    "---\n",
    "# FROM Session 1 Practice\n",
    "\n",
    "\n",
    "### Get through as many of the questions below.\n",
    "\n",
    "__Start!__\n",
    "___"
   ]
  },
  {
   "cell_type": "markdown",
   "metadata": {},
   "source": [
    "> __Q1) Using the lists defined below (`list1` and `list2`), add one list to the other.__\n",
    ">\n",
    "> Expected Output:\n",
    ">\n",
    "> `[1, 2, 3, 4]`\n"
   ]
  },
  {
   "cell_type": "code",
   "execution_count": 16,
   "metadata": {},
   "outputs": [],
   "source": [
    "list1 = [1, 2]\n",
    "list2 = [3, 4]"
   ]
  },
  {
   "cell_type": "code",
   "execution_count": 17,
   "metadata": {},
   "outputs": [
    {
     "name": "stdout",
     "output_type": "stream",
     "text": [
      "[1, 2, 3, 4]\n"
     ]
    }
   ],
   "source": [
    "# Solution A\n",
    "print(list1 + list2)"
   ]
  },
  {
   "cell_type": "code",
   "execution_count": 18,
   "metadata": {},
   "outputs": [
    {
     "name": "stdout",
     "output_type": "stream",
     "text": [
      "[1, 2, 3, 4]\n"
     ]
    }
   ],
   "source": [
    "# Solution B\n",
    "list1 = [1, 2]\n",
    "list1.extend(list2)\n",
    "print(list1)"
   ]
  },
  {
   "cell_type": "code",
   "execution_count": null,
   "metadata": {},
   "outputs": [],
   "source": []
  },
  {
   "cell_type": "markdown",
   "metadata": {},
   "source": [
    "---\n",
    "\n",
    "> __Q2)__ If we list all the natural numbers below 10 that are multiples of 3 or 5, we get: 3, 5, 6 and 9.\n",
    ">\n",
    "> The sum of these multiples is 23.\n",
    ">\n",
    "> __Find the sum of all the multiples of 3 or 5 below 1000.__\n"
   ]
  },
  {
   "cell_type": "code",
   "execution_count": 19,
   "metadata": {},
   "outputs": [],
   "source": [
    "multiples_list = []\n"
   ]
  },
  {
   "cell_type": "code",
   "execution_count": 20,
   "metadata": {},
   "outputs": [
    {
     "name": "stdout",
     "output_type": "stream",
     "text": [
      "[3, 5, 6, 9]\n",
      "23\n"
     ]
    }
   ],
   "source": [
    "# Suggested Solution\n",
    "\n",
    "for num in range(1,10):\n",
    "    if num % 3 == 0 or num % 5 == 0:\n",
    "        multiples_list.append(num)\n",
    "\n",
    "print(multiples_list)\n",
    "print(sum(multiples_list))\n",
    "\n",
    "#Answer: 233168"
   ]
  },
  {
   "cell_type": "code",
   "execution_count": null,
   "metadata": {},
   "outputs": [],
   "source": []
  },
  {
   "cell_type": "markdown",
   "metadata": {},
   "source": [
    "---\n",
    "> __Q3)__ I have a list of genders from a database:"
   ]
  },
  {
   "cell_type": "code",
   "execution_count": 21,
   "metadata": {},
   "outputs": [],
   "source": [
    "genders = ['Male', 'Female', 'Female', 'Male', 'Female', 'Male', 'Male', 'Male', 'Female', 'Female', 'Male', 'Female', 'Female', 'Female']"
   ]
  },
  {
   "cell_type": "markdown",
   "metadata": {},
   "source": [
    "> In order to use this list in a machine learning algorithm, we need `genders` to be converted to 1's and 0's.\n",
    ">\n",
    "> __First, write a for loop that appends a new list called `females` with a 1 if the gender is female and 0 otherwise.__\n",
    "\n",
    "> Expected Output:\n",
    ">\n",
    "> `[0, 1, 1, 0, 1, 0, 0, 0, 1, 1, 0, 1, 1, 1]`"
   ]
  },
  {
   "cell_type": "code",
   "execution_count": 22,
   "metadata": {},
   "outputs": [],
   "source": [
    "females = []\n"
   ]
  },
  {
   "cell_type": "code",
   "execution_count": 23,
   "metadata": {},
   "outputs": [
    {
     "data": {
      "text/plain": [
       "[0, 1, 1, 0, 1, 0, 0, 0, 1, 1, 0, 1, 1, 1]"
      ]
     },
     "execution_count": 23,
     "metadata": {},
     "output_type": "execute_result"
    }
   ],
   "source": [
    "# Suggested Solution\n",
    "\n",
    "females = []\n",
    "for gender in genders:\n",
    "    if gender == 'Male':\n",
    "        females.append(0)    # 0 - male\n",
    "    elif gender == 'Female':\n",
    "        females.append(1)    # 1 - female\n",
    "    else:\n",
    "        females.append(2)    # 2 - neither male nor female\n",
    "\n",
    "females"
   ]
  },
  {
   "cell_type": "code",
   "execution_count": null,
   "metadata": {},
   "outputs": [],
   "source": []
  },
  {
   "cell_type": "markdown",
   "metadata": {},
   "source": [
    "---\n",
    "> __Q4) Using a for loop, filter the following array of numbers into a new list containing only the even numbers.__\n",
    "\n",
    "> **Hint:** If i is even, i % 2 == 0. Otherwise, i % 2 == 1. (% is the modulus operator. It returns the remainder.)\n",
    "\n",
    "> Expected Output:\n",
    ">\n",
    "> `[2, 4, 6, 8, 10]`"
   ]
  },
  {
   "cell_type": "code",
   "execution_count": 24,
   "metadata": {},
   "outputs": [],
   "source": [
    "numbers = [1, 2, 3, 4, 5, 6, 7, 8, 9, 10]\n",
    "even_numbers = []"
   ]
  },
  {
   "cell_type": "code",
   "execution_count": 25,
   "metadata": {},
   "outputs": [
    {
     "name": "stdout",
     "output_type": "stream",
     "text": [
      "[2, 4, 6, 8, 10]\n"
     ]
    }
   ],
   "source": [
    "# Suggested Solution\n",
    "\n",
    "for num in numbers:\n",
    "    if num % 2 == 0:\n",
    "        even_numbers.append(num)\n",
    "        \n",
    "print(even_numbers)"
   ]
  },
  {
   "cell_type": "code",
   "execution_count": null,
   "metadata": {},
   "outputs": [],
   "source": []
  },
  {
   "cell_type": "markdown",
   "metadata": {},
   "source": [
    "---\n",
    "> **Q5) Sort the list of numbers below from greatest to least** \n"
   ]
  },
  {
   "cell_type": "code",
   "execution_count": 26,
   "metadata": {},
   "outputs": [],
   "source": [
    "numbers = [10, 2, -1, 0, 3, 5]"
   ]
  },
  {
   "cell_type": "code",
   "execution_count": 27,
   "metadata": {},
   "outputs": [
    {
     "name": "stdout",
     "output_type": "stream",
     "text": [
      "[10, 5, 3, 2, 0, -1]\n"
     ]
    }
   ],
   "source": [
    "# Suggested Solution\n",
    "\n",
    "numbers.sort(reverse=True)\n",
    "print(numbers)"
   ]
  },
  {
   "cell_type": "code",
   "execution_count": null,
   "metadata": {},
   "outputs": [],
   "source": []
  },
  {
   "cell_type": "markdown",
   "metadata": {},
   "source": [
    "---\n",
    "### CHALLENGE QUESTIONS\n",
    "\n",
    "> __Q6A) Create a list called `dwarves_list` that splits `dwarves_string` on the spaces.__\n",
    ">\n",
    "> *Hint: Use the method `.split()`*\n",
    "\n",
    "> Expected Output:\n",
    ">\n",
    "> `['Bashful,', 'Doc,', 'Dopey,', 'Happy,', 'Sleepy,', 'Sneezy', 'and', 'Grumpy']`"
   ]
  },
  {
   "cell_type": "code",
   "execution_count": 1,
   "metadata": {},
   "outputs": [],
   "source": [
    "dwarves_string = \"Bashful, Doc, Dopey, Happy, Sleepy, Sneezy and Grumpy\""
   ]
  },
  {
   "cell_type": "code",
   "execution_count": 2,
   "metadata": {},
   "outputs": [
    {
     "ename": "SyntaxError",
     "evalue": "invalid syntax (<ipython-input-2-e9c748070b8e>, line 1)",
     "output_type": "error",
     "traceback": [
      "\u001b[0;36m  File \u001b[0;32m\"<ipython-input-2-e9c748070b8e>\"\u001b[0;36m, line \u001b[0;32m1\u001b[0m\n\u001b[0;31m    dwarves_list = # this is where you create a list from dwarves_string\u001b[0m\n\u001b[0m                                                                        ^\u001b[0m\n\u001b[0;31mSyntaxError\u001b[0m\u001b[0;31m:\u001b[0m invalid syntax\n"
     ]
    }
   ],
   "source": [
    "dwarves_list = # this is where you create a list from dwarves_string\n",
    "# "
   ]
  },
  {
   "cell_type": "code",
   "execution_count": 3,
   "metadata": {},
   "outputs": [
    {
     "data": {
      "text/plain": [
       "['Bashful,', 'Doc,', 'Dopey,', 'Happy,', 'Sleepy,', 'Sneezy', 'and', 'Grumpy']"
      ]
     },
     "execution_count": 3,
     "metadata": {},
     "output_type": "execute_result"
    }
   ],
   "source": [
    "# Suggested Solution\n",
    "\n",
    "dwarves_list = dwarves_string.split()\n",
    "dwarves_list"
   ]
  },
  {
   "cell_type": "markdown",
   "metadata": {},
   "source": [
    "> **Q6B) Now use a for loop to remove the commas.**\n",
    "\n",
    "> *Hint: use method `.replace()` on string*\n",
    "\n",
    "> *NOTE: You'll still see commas in your output between each element in the list. Just make sure they aren't in the strings.*\n",
    "\n",
    "> Expected Output:\n",
    "\n",
    "> `['Bashful', 'Doc', 'Dopey', 'Happy', 'Sleepy', 'Sneezy', 'and', 'Grumpy']`"
   ]
  },
  {
   "cell_type": "code",
   "execution_count": null,
   "metadata": {},
   "outputs": [],
   "source": []
  },
  {
   "cell_type": "code",
   "execution_count": 4,
   "metadata": {},
   "outputs": [
    {
     "data": {
      "text/plain": [
       "['Bashful', 'Doc', 'Dopey', 'Happy', 'Sleepy', 'Sneezy', 'and', 'Grumpy']"
      ]
     },
     "execution_count": 4,
     "metadata": {},
     "output_type": "execute_result"
    }
   ],
   "source": [
    "# Suggested Solution\n",
    "\n",
    "for position in range(len(dwarves_list)):\n",
    "    name_with_comma = dwarves_list[position]\n",
    "    dwarves_list[position] = name_with_comma.replace(',', '')\n",
    "    \n",
    "dwarves_list"
   ]
  },
  {
   "cell_type": "code",
   "execution_count": null,
   "metadata": {},
   "outputs": [],
   "source": []
  },
  {
   "cell_type": "markdown",
   "metadata": {},
   "source": [
    "> **Q6C) Finally, remove the word 'and' from your list.**\n",
    "\n",
    "> Expected Output:\n",
    "\n",
    "> `['Bashful,', 'Doc,', 'Dopey,', 'Happy,', 'Sleepy,', 'Sneezy', 'Grumpy']`"
   ]
  },
  {
   "cell_type": "code",
   "execution_count": null,
   "metadata": {},
   "outputs": [],
   "source": []
  },
  {
   "cell_type": "code",
   "execution_count": 5,
   "metadata": {},
   "outputs": [
    {
     "data": {
      "text/plain": [
       "['Bashful', 'Doc', 'Dopey', 'Happy', 'Sleepy', 'Sneezy', 'Grumpy']"
      ]
     },
     "execution_count": 5,
     "metadata": {},
     "output_type": "execute_result"
    }
   ],
   "source": [
    "# Suggested Solution\n",
    "\n",
    "dwarves_list.remove('and')\n",
    "dwarves_list"
   ]
  },
  {
   "cell_type": "code",
   "execution_count": null,
   "metadata": {},
   "outputs": [],
   "source": []
  },
  {
   "cell_type": "markdown",
   "metadata": {},
   "source": [
    "# -- End Session 1 Practice -- \n",
    "---"
   ]
  },
  {
   "cell_type": "code",
   "execution_count": null,
   "metadata": {},
   "outputs": [],
   "source": []
  },
  {
   "cell_type": "code",
   "execution_count": null,
   "metadata": {},
   "outputs": [],
   "source": []
  },
  {
   "cell_type": "markdown",
   "metadata": {},
   "source": [
    "---\n",
    "\n",
    "# FROM Session 2 Practice -- Independent Practice: Dictionaries\n",
    "\n",
    "10 - 15 min.\n",
    "\n",
    "**Using what we have learned so far, how would we build a program that takes a name and provides me with the person’s number if they are in our contacts?**\n",
    "\n",
    "---\n",
    "\n",
    "Make a phone book program that:\n",
    "- takes a name and finds number.\n",
    "- if the name is not in the phone book, prints `\"Not a contact. Would you like to add that name: Yes or No?\"`\n",
    "- if yes, ask for the number and add number to phonebook then print: `“Added ‘Name: Phone Number’”`\n",
    "- if no, print `\"Not a contact and not added.\"`\n"
   ]
  },
  {
   "cell_type": "code",
   "execution_count": 34,
   "metadata": {},
   "outputs": [],
   "source": [
    "phonebook = {\n",
    "    'Luna': '444 - 4444',\n",
    "    'Tee': '123 - 4567',\n",
    "    'Ada Lovelace': '101 - 0101',\n",
    "    'P1': '1emailAddress@gmail.com',\n",
    "    'P2': 'emailAddress2@gmail.com',\n",
    "    'P3': 'P3emailAddress@gmail.com',\n",
    "    'Friend Two': '222-222'\n",
    "    }"
   ]
  },
  {
   "cell_type": "code",
   "execution_count": null,
   "metadata": {},
   "outputs": [],
   "source": []
  },
  {
   "cell_type": "code",
   "execution_count": 41,
   "metadata": {},
   "outputs": [
    {
     "name": "stdout",
     "output_type": "stream",
     "text": [
      "Whose number do you need? Katie\n",
      "Katie is not a contact. Would you like to add that name: Yes or No?Yes\n",
      "What is the number?333-3333\n",
      "Added Katie :  333-3333\n"
     ]
    }
   ],
   "source": [
    "# Suggested Solution\n",
    "\n",
    "# takes a name and finds number.\n",
    "name = input(\"Whose number do you need? \")\n",
    "\n",
    "if name in list(phonebook.keys()):\n",
    "    print(name.title(), phonebook[name])\n",
    "\n",
    "# if the name is not in the phone book, prints \"Not a contact. Would you like to add that name: Yes or No?\"\n",
    "else:\n",
    "    response = input(\"{} is not a contact. Would you like to add that name: Yes or No?\".format(name))\n",
    "    \n",
    "    # if yes, ask for the number and add to phonebook\n",
    "    if response == 'Yes':\n",
    "        new_number = input(\"What is the number?\")\n",
    "        phonebook[name] = new_number\n",
    "        print(\"Added\", name.title(), \": \", new_number)\n",
    "    # if no, print \"Not a contact and not added.\"\n",
    "    elif response == 'No':\n",
    "        print(\"Not a contact and not added.\")"
   ]
  },
  {
   "cell_type": "code",
   "execution_count": null,
   "metadata": {},
   "outputs": [],
   "source": []
  },
  {
   "cell_type": "code",
   "execution_count": null,
   "metadata": {},
   "outputs": [],
   "source": []
  },
  {
   "cell_type": "code",
   "execution_count": null,
   "metadata": {},
   "outputs": [],
   "source": []
  },
  {
   "cell_type": "code",
   "execution_count": null,
   "metadata": {},
   "outputs": [],
   "source": []
  },
  {
   "cell_type": "markdown",
   "metadata": {},
   "source": [
    "---\n",
    "# GUIDED WALKTHROUGH: Nesting Dictionaries\n",
    "\n",
    "---\n",
    "## List OF dictionaries\n",
    "\n",
    "- It’s common to store a number of dictionaries in a list when each dictionary contains many kinds of information about one object.\n",
    "\n",
    "- For example, you might create a dictionary for each user on a website and store the individual dictionaries in a list called users.\n",
    "\n",
    "- All of the dictionaries in the list **should have an identical structure** so you can loop through the list and work with each dictionary object in the same way.\n",
    "\n",
    "---\n",
    "\n",
    "> Consider the dictionary called `users` below. \n",
    "\n",
    "> **Filter through the array of users, returning only those who are older than 18. Add these users to a new list and print the list.**\n",
    "\n",
    "> Expected Output:\n",
    "\n",
    "> `[{'age': 21, 'name': 'Sally'},\n",
    "  {'age': 77, 'name': 'Moe'},\n",
    "  {'age': 19, 'name': 'Leslie'}]`"
   ]
  },
  {
   "cell_type": "code",
   "execution_count": 42,
   "metadata": {},
   "outputs": [],
   "source": [
    "users = [\n",
    "    {'name': 'John', 'age': 17},\n",
    "    {'name': 'Sally', 'age': 21},\n",
    "    {'name': 'Bill', 'age': 10},\n",
    "    {'name': 'Moe', 'age': 77},\n",
    "    {'name': 'Jane', 'age': 18},\n",
    "    {'name': 'Leslie', 'age': 19}\n",
    "]"
   ]
  },
  {
   "cell_type": "code",
   "execution_count": 43,
   "metadata": {},
   "outputs": [
    {
     "data": {
      "text/plain": [
       "[{'age': 21, 'name': 'Sally'},\n",
       " {'age': 77, 'name': 'Moe'},\n",
       " {'age': 19, 'name': 'Leslie'}]"
      ]
     },
     "execution_count": 43,
     "metadata": {},
     "output_type": "execute_result"
    }
   ],
   "source": [
    "# Suggested Solution\n",
    "\n",
    "users_over18 = []\n",
    "\n",
    "for user in users:\n",
    "    if user['age'] > 18:\n",
    "        users_over18.append(user)\n",
    "        \n",
    "users_over18"
   ]
  },
  {
   "cell_type": "code",
   "execution_count": null,
   "metadata": {},
   "outputs": [],
   "source": []
  },
  {
   "cell_type": "markdown",
   "metadata": {},
   "source": [
    "> Consider the dictionary called `users` below. \n",
    "\n",
    "> **Filter through the array of users, returning only those who are students. Add these students to a new list and print the list.**\n",
    "\n",
    "> Expected Output:\n",
    "\n",
    "> `[{'name': 'Kelly', 'role': 'Student'},\n",
    "  {'name': 'Alex', 'role': 'Student'},\n",
    "  {'name': 'Lia', 'role': 'Student'}]`\n",
    "    "
   ]
  },
  {
   "cell_type": "code",
   "execution_count": 44,
   "metadata": {},
   "outputs": [],
   "source": [
    "users = [\n",
    "    {'name': 'Kelly', 'role': 'Student'},\n",
    "    {'name': 'Alex', 'role': 'Student'},\n",
    "    {'name': 'Lia', 'role': 'Student'},\n",
    "    {'name': 'Katie', 'role': 'Teacher'}\n",
    "]"
   ]
  },
  {
   "cell_type": "code",
   "execution_count": null,
   "metadata": {},
   "outputs": [],
   "source": []
  },
  {
   "cell_type": "code",
   "execution_count": 45,
   "metadata": {},
   "outputs": [
    {
     "data": {
      "text/plain": [
       "[{'name': 'Kelly', 'role': 'Student'},\n",
       " {'name': 'Alex', 'role': 'Student'},\n",
       " {'name': 'Lia', 'role': 'Student'}]"
      ]
     },
     "execution_count": 45,
     "metadata": {},
     "output_type": "execute_result"
    }
   ],
   "source": [
    "# Suggested Solution\n",
    "\n",
    "students = []\n",
    "\n",
    "for user in users:\n",
    "    if user['role'] == 'Student':\n",
    "        students.append(user)\n",
    "        \n",
    "students"
   ]
  },
  {
   "cell_type": "code",
   "execution_count": null,
   "metadata": {},
   "outputs": [],
   "source": []
  },
  {
   "cell_type": "code",
   "execution_count": null,
   "metadata": {},
   "outputs": [],
   "source": []
  },
  {
   "cell_type": "markdown",
   "metadata": {},
   "source": [
    "> Consider the list called `names` below. \n",
    "\n",
    "> **Return a list of full names based on the dictionaries in the list.**\n",
    "\n",
    "> Expected Output:\n",
    "\n",
    "> `['Grace Hopper', 'Radia Perlman', 'Ada Lovelace']`"
   ]
  },
  {
   "cell_type": "code",
   "execution_count": 46,
   "metadata": {},
   "outputs": [],
   "source": [
    "names = [\n",
    "    {'first_name': 'Grace', 'last_name': 'Hopper'},\n",
    "    {'first_name': 'Radia', 'last_name': 'Perlman'},\n",
    "    {'first_name': 'Ada', 'last_name': 'Lovelace'}\n",
    "]"
   ]
  },
  {
   "cell_type": "code",
   "execution_count": null,
   "metadata": {},
   "outputs": [],
   "source": []
  },
  {
   "cell_type": "code",
   "execution_count": 47,
   "metadata": {},
   "outputs": [
    {
     "data": {
      "text/plain": [
       "['Grace Hopper', 'Radia Perlman', 'Ada Lovelace']"
      ]
     },
     "execution_count": 47,
     "metadata": {},
     "output_type": "execute_result"
    }
   ],
   "source": [
    "# Suggested Solution\n",
    "\n",
    "full_names = []\n",
    "\n",
    "for person in names:\n",
    "    full_names.append(person['first_name'] + ' ' + person['last_name'])\n",
    "        \n",
    "full_names"
   ]
  },
  {
   "cell_type": "code",
   "execution_count": null,
   "metadata": {},
   "outputs": [],
   "source": []
  },
  {
   "cell_type": "code",
   "execution_count": null,
   "metadata": {},
   "outputs": [],
   "source": []
  },
  {
   "cell_type": "markdown",
   "metadata": {},
   "source": [
    "---\n",
    "\n",
    "# FROM Session 2 Practice -- Independent Practice: Dictionaries and Data!\n",
    "\n",
    "15 min.\n",
    "\n",
    "---\n",
    "\n",
    "\n",
    "## LYFT Intra-day JSON Exploration\n",
    "\n",
    "> 1) Download the `lyft_040219_cleaned.json` file from Slack.\n",
    "\n",
    "> 2) Open up the BQuant Project that you have been working in.\n",
    "\n",
    "> 3) Click the Up arrow above the list of files (in older versions of BQuant, this will be a + sign).\n",
    "\n",
    "> 4) This will allow you to choose a file to upload to your project. You can select the `.json` file from there and it will import into your project.\n",
    "\n",
    "> 5) You may have to click the Refresh icon at the top to refresh the file list and see the `.json` file.\n",
    "\n",
    "> **6) Make sure that this `.json` file is in the same folder as this jupyter notebook.**\n",
    "\n",
    "---\n",
    "\n",
    "#### If you are curious...\n",
    "\n",
    "*FROM Dan, Instructor of NYC Cohort:*\n",
    "\n",
    "This data was retrieved using AlphaVantage's intra-day stock API.\n",
    "\n",
    "MSFT Demo: https://www.alphavantage.co/query?function=TIME_SERIES_INTRADAY&symbol=MSFT&interval=5min&outputsize=full&apikey=demo\n",
    "\n",
    "Query used for LYFT data (note: you must enter an apikey (https://www.alphavantage.co/support/#api-key) at the very end for it work): https://www.alphavantage.co/query?function=TIME_SERIES_INTRADAY&symbol=LYFT&interval=5min&outputsize=full&apikey="
   ]
  },
  {
   "cell_type": "code",
   "execution_count": 48,
   "metadata": {},
   "outputs": [],
   "source": [
    "# Run this cell in order to import a library that we need to read in the `.json` file\n",
    "\n",
    "import json"
   ]
  },
  {
   "cell_type": "code",
   "execution_count": 57,
   "metadata": {},
   "outputs": [],
   "source": [
    "# Open the JSON text file for reading ('r')\n",
    "#   This file contains a bunch of dictionaries.\n",
    "#   Here, we convert it from JavaScript to a Python object\n",
    "\n",
    "data = json.load(open('lyft_040219_cleaned.json', 'r'))"
   ]
  },
  {
   "cell_type": "code",
   "execution_count": 58,
   "metadata": {
    "scrolled": true
   },
   "outputs": [
    {
     "data": {
      "text/plain": [
       "{'meta_data': {'information': 'Intraday (5min) open, high, low, close prices and volume',\n",
       "  'interval': '5min',\n",
       "  'last_refreshed': '2019-04-02 16:00:00',\n",
       "  'outputsize': 'Full size',\n",
       "  'symbol': 'LYFT',\n",
       "  'time_zone': 'US/Eastern'},\n",
       " 'time_series_5mins': {'2019-03-29 11:50:00': {'close': '86.6671',\n",
       "   'high': '88.5800',\n",
       "   'low': '86.5000',\n",
       "   'open': '87.5000',\n",
       "   'volume': '2698956'},\n",
       "  '2019-03-29 11:55:00': {'close': '86.6900',\n",
       "   'high': '87.2600',\n",
       "   'low': '85.5100',\n",
       "   'open': '86.6300',\n",
       "   'volume': '5938757'},\n",
       "  '2019-03-29 12:00:00': {'close': '85.4300',\n",
       "   'high': '87.4500',\n",
       "   'low': '85.2600',\n",
       "   'open': '86.6000',\n",
       "   'volume': '4240446'},\n",
       "  '2019-03-29 12:05:00': {'close': '85.4000',\n",
       "   'high': '86.2500',\n",
       "   'low': '85.1500',\n",
       "   'open': '85.3800',\n",
       "   'volume': '2501364'},\n",
       "  '2019-03-29 12:10:00': {'close': '85.3400',\n",
       "   'high': '85.6000',\n",
       "   'low': '85.0000',\n",
       "   'open': '85.3800',\n",
       "   'volume': '2756692'},\n",
       "  '2019-03-29 12:15:00': {'close': '84.1280',\n",
       "   'high': '85.7400',\n",
       "   'low': '84.0000',\n",
       "   'open': '85.3100',\n",
       "   'volume': '3390947'},\n",
       "  '2019-03-29 12:20:00': {'close': '83.0000',\n",
       "   'high': '84.3600',\n",
       "   'low': '82.5000',\n",
       "   'open': '84.2000',\n",
       "   'volume': '2700606'},\n",
       "  '2019-03-29 12:25:00': {'close': '83.2200',\n",
       "   'high': '83.6800',\n",
       "   'low': '82.5700',\n",
       "   'open': '83.0000',\n",
       "   'volume': '1667727'},\n",
       "  '2019-03-29 12:30:00': {'close': '83.2500',\n",
       "   'high': '83.5000',\n",
       "   'low': '82.1600',\n",
       "   'open': '83.2200',\n",
       "   'volume': '1719621'},\n",
       "  '2019-03-29 12:35:00': {'close': '83.0500',\n",
       "   'high': '83.2500',\n",
       "   'low': '82.2600',\n",
       "   'open': '83.2500',\n",
       "   'volume': '1130012'},\n",
       "  '2019-03-29 12:40:00': {'close': '82.2300',\n",
       "   'high': '83.0800',\n",
       "   'low': '82.1100',\n",
       "   'open': '83.0600',\n",
       "   'volume': '1025176'},\n",
       "  '2019-03-29 12:45:00': {'close': '80.6400',\n",
       "   'high': '82.2200',\n",
       "   'low': '80.3900',\n",
       "   'open': '82.2100',\n",
       "   'volume': '2136367'},\n",
       "  '2019-03-29 12:50:00': {'close': '80.6600',\n",
       "   'high': '80.8700',\n",
       "   'low': '80.1100',\n",
       "   'open': '80.7100',\n",
       "   'volume': '1727561'},\n",
       "  '2019-03-29 12:55:00': {'close': '80.5500',\n",
       "   'high': '81.3400',\n",
       "   'low': '80.3000',\n",
       "   'open': '80.7000',\n",
       "   'volume': '1109857'},\n",
       "  '2019-03-29 13:00:00': {'close': '81.0100',\n",
       "   'high': '81.4100',\n",
       "   'low': '80.5100',\n",
       "   'open': '80.5200',\n",
       "   'volume': '917509'},\n",
       "  '2019-03-29 13:05:00': {'close': '80.4100',\n",
       "   'high': '81.1500',\n",
       "   'low': '80.2100',\n",
       "   'open': '81.0400',\n",
       "   'volume': '713509'},\n",
       "  '2019-03-29 13:10:00': {'close': '80.2000',\n",
       "   'high': '80.7500',\n",
       "   'low': '80.0300',\n",
       "   'open': '80.4260',\n",
       "   'volume': '949407'},\n",
       "  '2019-03-29 13:15:00': {'close': '80.2300',\n",
       "   'high': '80.4500',\n",
       "   'low': '80.0000',\n",
       "   'open': '80.1800',\n",
       "   'volume': '1095341'},\n",
       "  '2019-03-29 13:20:00': {'close': '80.8100',\n",
       "   'high': '80.9800',\n",
       "   'low': '80.1200',\n",
       "   'open': '80.2350',\n",
       "   'volume': '767649'},\n",
       "  '2019-03-29 13:25:00': {'close': '80.8500',\n",
       "   'high': '81.6600',\n",
       "   'low': '80.6400',\n",
       "   'open': '80.8800',\n",
       "   'volume': '827545'},\n",
       "  '2019-03-29 13:30:00': {'close': '80.3800',\n",
       "   'high': '80.8900',\n",
       "   'low': '80.1700',\n",
       "   'open': '80.8200',\n",
       "   'volume': '459844'},\n",
       "  '2019-03-29 13:35:00': {'close': '80.4900',\n",
       "   'high': '80.8650',\n",
       "   'low': '80.2200',\n",
       "   'open': '80.3600',\n",
       "   'volume': '429657'},\n",
       "  '2019-03-29 13:40:00': {'close': '80.8200',\n",
       "   'high': '81.1900',\n",
       "   'low': '80.4450',\n",
       "   'open': '80.4450',\n",
       "   'volume': '608188'},\n",
       "  '2019-03-29 13:45:00': {'close': '80.6600',\n",
       "   'high': '80.8900',\n",
       "   'low': '80.2300',\n",
       "   'open': '80.8000',\n",
       "   'volume': '523211'},\n",
       "  '2019-03-29 13:50:00': {'close': '80.6500',\n",
       "   'high': '80.9600',\n",
       "   'low': '80.4100',\n",
       "   'open': '80.6600',\n",
       "   'volume': '310226'},\n",
       "  '2019-03-29 13:55:00': {'close': '80.8050',\n",
       "   'high': '80.8900',\n",
       "   'low': '80.3200',\n",
       "   'open': '80.6200',\n",
       "   'volume': '641202'},\n",
       "  '2019-03-29 14:00:00': {'close': '80.5941',\n",
       "   'high': '81.0400',\n",
       "   'low': '80.5300',\n",
       "   'open': '80.8200',\n",
       "   'volume': '404190'},\n",
       "  '2019-03-29 14:05:00': {'close': '80.6000',\n",
       "   'high': '80.8400',\n",
       "   'low': '80.4000',\n",
       "   'open': '80.5800',\n",
       "   'volume': '600404'},\n",
       "  '2019-03-29 14:10:00': {'close': '80.7700',\n",
       "   'high': '81.4300',\n",
       "   'low': '80.6200',\n",
       "   'open': '80.6200',\n",
       "   'volume': '675732'},\n",
       "  '2019-03-29 14:15:00': {'close': '81.0600',\n",
       "   'high': '81.1200',\n",
       "   'low': '80.4000',\n",
       "   'open': '80.7800',\n",
       "   'volume': '693202'},\n",
       "  '2019-03-29 14:20:00': {'close': '81.8450',\n",
       "   'high': '81.9700',\n",
       "   'low': '81.0000',\n",
       "   'open': '81.0600',\n",
       "   'volume': '1138904'},\n",
       "  '2019-03-29 14:25:00': {'close': '81.8700',\n",
       "   'high': '82.3600',\n",
       "   'low': '81.6000',\n",
       "   'open': '81.8000',\n",
       "   'volume': '728105'},\n",
       "  '2019-03-29 14:30:00': {'close': '81.6400',\n",
       "   'high': '82.3000',\n",
       "   'low': '81.3830',\n",
       "   'open': '81.9300',\n",
       "   'volume': '544237'},\n",
       "  '2019-03-29 14:35:00': {'close': '82.4450',\n",
       "   'high': '82.6100',\n",
       "   'low': '81.6200',\n",
       "   'open': '81.6899',\n",
       "   'volume': '631402'},\n",
       "  '2019-03-29 14:40:00': {'close': '81.7900',\n",
       "   'high': '82.6400',\n",
       "   'low': '81.6400',\n",
       "   'open': '82.4800',\n",
       "   'volume': '621656'},\n",
       "  '2019-03-29 14:45:00': {'close': '81.3800',\n",
       "   'high': '82.0700',\n",
       "   'low': '81.1600',\n",
       "   'open': '81.7850',\n",
       "   'volume': '526032'},\n",
       "  '2019-03-29 14:50:00': {'close': '80.8400',\n",
       "   'high': '81.4000',\n",
       "   'low': '80.7100',\n",
       "   'open': '81.3800',\n",
       "   'volume': '637496'},\n",
       "  '2019-03-29 14:55:00': {'close': '81.1400',\n",
       "   'high': '81.1900',\n",
       "   'low': '80.6100',\n",
       "   'open': '80.8224',\n",
       "   'volume': '498786'},\n",
       "  '2019-03-29 15:00:00': {'close': '80.7500',\n",
       "   'high': '81.2500',\n",
       "   'low': '80.6000',\n",
       "   'open': '81.1700',\n",
       "   'volume': '452352'},\n",
       "  '2019-03-29 15:05:00': {'close': '80.6800',\n",
       "   'high': '80.8900',\n",
       "   'low': '80.5000',\n",
       "   'open': '80.7200',\n",
       "   'volume': '532019'},\n",
       "  '2019-03-29 15:10:00': {'close': '81.1000',\n",
       "   'high': '81.2000',\n",
       "   'low': '80.6900',\n",
       "   'open': '80.7200',\n",
       "   'volume': '500538'},\n",
       "  '2019-03-29 15:15:00': {'close': '81.4015',\n",
       "   'high': '81.5300',\n",
       "   'low': '80.9900',\n",
       "   'open': '81.1200',\n",
       "   'volume': '659432'},\n",
       "  '2019-03-29 15:20:00': {'close': '80.8000',\n",
       "   'high': '81.4000',\n",
       "   'low': '80.7600',\n",
       "   'open': '81.3800',\n",
       "   'volume': '599767'},\n",
       "  '2019-03-29 15:25:00': {'close': '80.8500',\n",
       "   'high': '81.0600',\n",
       "   'low': '80.6600',\n",
       "   'open': '80.8500',\n",
       "   'volume': '403691'},\n",
       "  '2019-03-29 15:30:00': {'close': '80.7000',\n",
       "   'high': '81.0000',\n",
       "   'low': '80.6100',\n",
       "   'open': '80.8500',\n",
       "   'volume': '437477'},\n",
       "  '2019-03-29 15:35:00': {'close': '80.3600',\n",
       "   'high': '80.7300',\n",
       "   'low': '80.0000',\n",
       "   'open': '80.7200',\n",
       "   'volume': '1659655'},\n",
       "  '2019-03-29 15:40:00': {'close': '80.3800',\n",
       "   'high': '80.7000',\n",
       "   'low': '80.1800',\n",
       "   'open': '80.4000',\n",
       "   'volume': '651031'},\n",
       "  '2019-03-29 15:45:00': {'close': '80.1564',\n",
       "   'high': '80.5700',\n",
       "   'low': '80.1564',\n",
       "   'open': '80.3950',\n",
       "   'volume': '531231'},\n",
       "  '2019-03-29 15:50:00': {'close': '79.0900',\n",
       "   'high': '80.3000',\n",
       "   'low': '78.6200',\n",
       "   'open': '80.1800',\n",
       "   'volume': '2080994'},\n",
       "  '2019-03-29 15:55:00': {'close': '79.0000',\n",
       "   'high': '79.4000',\n",
       "   'low': '78.9500',\n",
       "   'open': '79.1200',\n",
       "   'volume': '1173781'},\n",
       "  '2019-03-29 16:00:00': {'close': '78.3600',\n",
       "   'high': '79.1700',\n",
       "   'low': '78.0500',\n",
       "   'open': '79.0099',\n",
       "   'volume': '2124194'},\n",
       "  '2019-04-01 09:35:00': {'close': '72.2000',\n",
       "   'high': '75.0000',\n",
       "   'low': '72.2000',\n",
       "   'open': '74.8100',\n",
       "   'volume': '4349412'},\n",
       "  '2019-04-01 09:40:00': {'close': '72.1600',\n",
       "   'high': '72.3500',\n",
       "   'low': '71.1300',\n",
       "   'open': '72.1700',\n",
       "   'volume': '4480765'},\n",
       "  '2019-04-01 09:45:00': {'close': '69.7000',\n",
       "   'high': '72.1800',\n",
       "   'low': '69.3500',\n",
       "   'open': '72.1125',\n",
       "   'volume': '2791876'},\n",
       "  '2019-04-01 09:50:00': {'close': '70.9400',\n",
       "   'high': '71.0900',\n",
       "   'low': '69.1600',\n",
       "   'open': '69.5958',\n",
       "   'volume': '1712790'},\n",
       "  '2019-04-01 09:55:00': {'close': '70.8000',\n",
       "   'high': '71.2900',\n",
       "   'low': '70.1100',\n",
       "   'open': '70.8950',\n",
       "   'volume': '1060019'},\n",
       "  '2019-04-01 10:00:00': {'close': '70.1945',\n",
       "   'high': '71.0000',\n",
       "   'low': '69.7600',\n",
       "   'open': '70.7589',\n",
       "   'volume': '1205160'},\n",
       "  '2019-04-01 10:05:00': {'close': '70.8900',\n",
       "   'high': '71.1000',\n",
       "   'low': '69.8500',\n",
       "   'open': '70.2400',\n",
       "   'volume': '915827'},\n",
       "  '2019-04-01 10:10:00': {'close': '70.4300',\n",
       "   'high': '71.0000',\n",
       "   'low': '70.1200',\n",
       "   'open': '71.0000',\n",
       "   'volume': '464422'},\n",
       "  '2019-04-01 10:15:00': {'close': '71.5000',\n",
       "   'high': '71.5100',\n",
       "   'low': '70.4503',\n",
       "   'open': '70.4503',\n",
       "   'volume': '819962'},\n",
       "  '2019-04-01 10:20:00': {'close': '71.2000',\n",
       "   'high': '71.7400',\n",
       "   'low': '71.0000',\n",
       "   'open': '71.4500',\n",
       "   'volume': '593471'},\n",
       "  '2019-04-01 10:25:00': {'close': '71.4800',\n",
       "   'high': '71.7800',\n",
       "   'low': '71.1000',\n",
       "   'open': '71.3000',\n",
       "   'volume': '643951'},\n",
       "  '2019-04-01 10:30:00': {'close': '70.6600',\n",
       "   'high': '71.7500',\n",
       "   'low': '70.5000',\n",
       "   'open': '71.4100',\n",
       "   'volume': '878158'},\n",
       "  '2019-04-01 10:35:00': {'close': '70.8900',\n",
       "   'high': '71.0600',\n",
       "   'low': '70.5000',\n",
       "   'open': '70.6900',\n",
       "   'volume': '431076'},\n",
       "  '2019-04-01 10:40:00': {'close': '70.7000',\n",
       "   'high': '70.9700',\n",
       "   'low': '70.5100',\n",
       "   'open': '70.8450',\n",
       "   'volume': '337205'},\n",
       "  '2019-04-01 10:45:00': {'close': '70.4700',\n",
       "   'high': '70.8200',\n",
       "   'low': '70.1500',\n",
       "   'open': '70.6650',\n",
       "   'volume': '380883'},\n",
       "  '2019-04-01 10:50:00': {'close': '70.7100',\n",
       "   'high': '71.0000',\n",
       "   'low': '70.3000',\n",
       "   'open': '70.4625',\n",
       "   'volume': '315142'},\n",
       "  '2019-04-01 10:55:00': {'close': '70.5100',\n",
       "   'high': '70.7443',\n",
       "   'low': '70.2500',\n",
       "   'open': '70.7443',\n",
       "   'volume': '450176'},\n",
       "  '2019-04-01 11:00:00': {'close': '70.3450',\n",
       "   'high': '70.9008',\n",
       "   'low': '70.2500',\n",
       "   'open': '70.5000',\n",
       "   'volume': '398251'},\n",
       "  '2019-04-01 11:05:00': {'close': '70.4600',\n",
       "   'high': '70.6700',\n",
       "   'low': '70.3300',\n",
       "   'open': '70.4100',\n",
       "   'volume': '234667'},\n",
       "  '2019-04-01 11:10:00': {'close': '70.6200',\n",
       "   'high': '70.8600',\n",
       "   'low': '70.4300',\n",
       "   'open': '70.5000',\n",
       "   'volume': '290855'},\n",
       "  '2019-04-01 11:15:00': {'close': '70.5700',\n",
       "   'high': '70.8900',\n",
       "   'low': '70.4300',\n",
       "   'open': '70.6000',\n",
       "   'volume': '231798'},\n",
       "  '2019-04-01 11:20:00': {'close': '69.8100',\n",
       "   'high': '70.7500',\n",
       "   'low': '69.8000',\n",
       "   'open': '70.5800',\n",
       "   'volume': '789605'},\n",
       "  '2019-04-01 11:25:00': {'close': '69.6000',\n",
       "   'high': '69.8800',\n",
       "   'low': '69.2500',\n",
       "   'open': '69.8100',\n",
       "   'volume': '740160'},\n",
       "  '2019-04-01 11:30:00': {'close': '69.7000',\n",
       "   'high': '69.8800',\n",
       "   'low': '69.6100',\n",
       "   'open': '69.6728',\n",
       "   'volume': '215918'},\n",
       "  '2019-04-01 11:35:00': {'close': '69.7300',\n",
       "   'high': '69.7600',\n",
       "   'low': '69.5401',\n",
       "   'open': '69.7100',\n",
       "   'volume': '225274'},\n",
       "  '2019-04-01 11:40:00': {'close': '69.7450',\n",
       "   'high': '69.8500',\n",
       "   'low': '69.4600',\n",
       "   'open': '69.7395',\n",
       "   'volume': '363727'},\n",
       "  '2019-04-01 11:45:00': {'close': '70.5900',\n",
       "   'high': '70.6700',\n",
       "   'low': '69.7900',\n",
       "   'open': '69.9000',\n",
       "   'volume': '536870'},\n",
       "  '2019-04-01 11:50:00': {'close': '70.3200',\n",
       "   'high': '70.5700',\n",
       "   'low': '70.2100',\n",
       "   'open': '70.5700',\n",
       "   'volume': '227305'},\n",
       "  '2019-04-01 11:55:00': {'close': '70.1400',\n",
       "   'high': '70.5000',\n",
       "   'low': '70.1400',\n",
       "   'open': '70.3300',\n",
       "   'volume': '181564'},\n",
       "  '2019-04-01 12:00:00': {'close': '69.3200',\n",
       "   'high': '70.1000',\n",
       "   'low': '69.3000',\n",
       "   'open': '70.1000',\n",
       "   'volume': '598162'},\n",
       "  '2019-04-01 12:05:00': {'close': '69.5500',\n",
       "   'high': '69.6800',\n",
       "   'low': '69.2500',\n",
       "   'open': '69.4200',\n",
       "   'volume': '269626'},\n",
       "  '2019-04-01 12:10:00': {'close': '69.6195',\n",
       "   'high': '69.7500',\n",
       "   'low': '69.5200',\n",
       "   'open': '69.5500',\n",
       "   'volume': '151271'},\n",
       "  '2019-04-01 12:15:00': {'close': '69.6374',\n",
       "   'high': '69.6800',\n",
       "   'low': '69.5000',\n",
       "   'open': '69.6000',\n",
       "   'volume': '134439'},\n",
       "  '2019-04-01 12:20:00': {'close': '69.6578',\n",
       "   'high': '69.6900',\n",
       "   'low': '69.4400',\n",
       "   'open': '69.6321',\n",
       "   'volume': '175231'},\n",
       "  '2019-04-01 12:25:00': {'close': '69.8350',\n",
       "   'high': '70.0000',\n",
       "   'low': '69.6450',\n",
       "   'open': '69.6450',\n",
       "   'volume': '229898'},\n",
       "  '2019-04-01 12:30:00': {'close': '69.6100',\n",
       "   'high': '69.8500',\n",
       "   'low': '69.6100',\n",
       "   'open': '69.8400',\n",
       "   'volume': '140313'},\n",
       "  '2019-04-01 12:35:00': {'close': '69.8900',\n",
       "   'high': '69.9300',\n",
       "   'low': '69.5400',\n",
       "   'open': '69.6471',\n",
       "   'volume': '141787'},\n",
       "  '2019-04-01 12:40:00': {'close': '70.0150',\n",
       "   'high': '70.2670',\n",
       "   'low': '69.8800',\n",
       "   'open': '69.9000',\n",
       "   'volume': '281980'},\n",
       "  '2019-04-01 12:45:00': {'close': '69.6101',\n",
       "   'high': '70.0350',\n",
       "   'low': '69.6100',\n",
       "   'open': '70.0100',\n",
       "   'volume': '203423'},\n",
       "  '2019-04-01 12:50:00': {'close': '69.7600',\n",
       "   'high': '69.8900',\n",
       "   'low': '69.6598',\n",
       "   'open': '69.6600',\n",
       "   'volume': '103518'},\n",
       "  '2019-04-01 12:55:00': {'close': '70.4300',\n",
       "   'high': '70.5000',\n",
       "   'low': '69.7500',\n",
       "   'open': '69.7800',\n",
       "   'volume': '284308'},\n",
       "  '2019-04-01 13:00:00': {'close': '70.3400',\n",
       "   'high': '70.7800',\n",
       "   'low': '70.2600',\n",
       "   'open': '70.4200',\n",
       "   'volume': '420741'},\n",
       "  '2019-04-01 13:05:00': {'close': '70.5025',\n",
       "   'high': '70.7500',\n",
       "   'low': '70.2500',\n",
       "   'open': '70.3200',\n",
       "   'volume': '316332'},\n",
       "  '2019-04-01 13:10:00': {'close': '69.6608',\n",
       "   'high': '70.7300',\n",
       "   'low': '69.5400',\n",
       "   'open': '70.5500',\n",
       "   'volume': '415453'},\n",
       "  '2019-04-01 13:15:00': {'close': '69.7353',\n",
       "   'high': '69.8900',\n",
       "   'low': '69.4300',\n",
       "   'open': '69.7000',\n",
       "   'volume': '298308'},\n",
       "  '2019-04-01 13:20:00': {'close': '70.0100',\n",
       "   'high': '70.1800',\n",
       "   'low': '69.6100',\n",
       "   'open': '69.6600',\n",
       "   'volume': '223450'},\n",
       "  '2019-04-01 13:25:00': {'close': '70.0800',\n",
       "   'high': '70.3490',\n",
       "   'low': '69.9300',\n",
       "   'open': '70.0000',\n",
       "   'volume': '168336'},\n",
       "  '2019-04-01 13:30:00': {'close': '70.1600',\n",
       "   'high': '70.3000',\n",
       "   'low': '70.0300',\n",
       "   'open': '70.0800',\n",
       "   'volume': '180441'},\n",
       "  '2019-04-01 13:35:00': {'close': '70.3500',\n",
       "   'high': '70.5250',\n",
       "   'low': '70.1400',\n",
       "   'open': '70.1400',\n",
       "   'volume': '210054'},\n",
       "  '2019-04-01 13:40:00': {'close': '70.0700',\n",
       "   'high': '70.4700',\n",
       "   'low': '70.0000',\n",
       "   'open': '70.3350',\n",
       "   'volume': '157641'},\n",
       "  '2019-04-01 13:45:00': {'close': '70.3800',\n",
       "   'high': '70.4300',\n",
       "   'low': '69.7800',\n",
       "   'open': '70.1000',\n",
       "   'volume': '242067'},\n",
       "  '2019-04-01 13:50:00': {'close': '70.7225',\n",
       "   'high': '71.1200',\n",
       "   'low': '70.3650',\n",
       "   'open': '70.3900',\n",
       "   'volume': '534351'},\n",
       "  '2019-04-01 13:55:00': {'close': '70.6900',\n",
       "   'high': '70.9700',\n",
       "   'low': '70.4589',\n",
       "   'open': '70.8000',\n",
       "   'volume': '249202'},\n",
       "  '2019-04-01 14:00:00': {'close': '70.5108',\n",
       "   'high': '70.7200',\n",
       "   'low': '70.2600',\n",
       "   'open': '70.6950',\n",
       "   'volume': '153879'},\n",
       "  '2019-04-01 14:05:00': {'close': '70.3400',\n",
       "   'high': '70.6200',\n",
       "   'low': '70.2500',\n",
       "   'open': '70.5700',\n",
       "   'volume': '113239'},\n",
       "  '2019-04-01 14:10:00': {'close': '70.4800',\n",
       "   'high': '70.5200',\n",
       "   'low': '70.3600',\n",
       "   'open': '70.3600',\n",
       "   'volume': '70513'},\n",
       "  '2019-04-01 14:15:00': {'close': '70.1500',\n",
       "   'high': '70.4600',\n",
       "   'low': '70.0000',\n",
       "   'open': '70.4600',\n",
       "   'volume': '241280'},\n",
       "  '2019-04-01 14:20:00': {'close': '69.9325',\n",
       "   'high': '70.2750',\n",
       "   'low': '69.5800',\n",
       "   'open': '70.1500',\n",
       "   'volume': '400423'},\n",
       "  '2019-04-01 14:25:00': {'close': '70.0800',\n",
       "   'high': '70.1500',\n",
       "   'low': '69.9000',\n",
       "   'open': '69.9300',\n",
       "   'volume': '95875'},\n",
       "  '2019-04-01 14:30:00': {'close': '70.0847',\n",
       "   'high': '70.2400',\n",
       "   'low': '70.0000',\n",
       "   'open': '70.1000',\n",
       "   'volume': '175973'},\n",
       "  '2019-04-01 14:35:00': {'close': '70.0300',\n",
       "   'high': '70.2400',\n",
       "   'low': '70.0000',\n",
       "   'open': '70.0400',\n",
       "   'volume': '164693'},\n",
       "  '2019-04-01 14:40:00': {'close': '69.9161',\n",
       "   'high': '70.3300',\n",
       "   'low': '69.9000',\n",
       "   'open': '70.0600',\n",
       "   'volume': '183623'},\n",
       "  '2019-04-01 14:45:00': {'close': '70.1000',\n",
       "   'high': '70.1600',\n",
       "   'low': '69.8800',\n",
       "   'open': '69.9300',\n",
       "   'volume': '138870'},\n",
       "  '2019-04-01 14:50:00': {'close': '69.9940',\n",
       "   'high': '70.1000',\n",
       "   'low': '69.9500',\n",
       "   'open': '70.0901',\n",
       "   'volume': '99982'},\n",
       "  '2019-04-01 14:55:00': {'close': '70.2000',\n",
       "   'high': '70.3500',\n",
       "   'low': '69.9200',\n",
       "   'open': '69.9600',\n",
       "   'volume': '193801'},\n",
       "  '2019-04-01 15:00:00': {'close': '70.0700',\n",
       "   'high': '70.2000',\n",
       "   'low': '69.9700',\n",
       "   'open': '70.1600',\n",
       "   'volume': '136715'},\n",
       "  '2019-04-01 15:05:00': {'close': '69.7900',\n",
       "   'high': '70.1000',\n",
       "   'low': '69.5200',\n",
       "   'open': '70.0400',\n",
       "   'volume': '340726'},\n",
       "  '2019-04-01 15:10:00': {'close': '69.0050',\n",
       "   'high': '69.8300',\n",
       "   'low': '69.0000',\n",
       "   'open': '69.8000',\n",
       "   'volume': '712369'},\n",
       "  '2019-04-01 15:15:00': {'close': '68.7650',\n",
       "   'high': '69.0100',\n",
       "   'low': '68.5500',\n",
       "   'open': '69.0000',\n",
       "   'volume': '741464'},\n",
       "  '2019-04-01 15:20:00': {'close': '68.5850',\n",
       "   'high': '69.0000',\n",
       "   'low': '68.5645',\n",
       "   'open': '68.7600',\n",
       "   'volume': '356081'},\n",
       "  '2019-04-01 15:25:00': {'close': '68.6800',\n",
       "   'high': '68.9900',\n",
       "   'low': '68.5760',\n",
       "   'open': '68.5760',\n",
       "   'volume': '246502'},\n",
       "  '2019-04-01 15:30:00': {'close': '68.9000',\n",
       "   'high': '68.9000',\n",
       "   'low': '68.6200',\n",
       "   'open': '68.6800',\n",
       "   'volume': '271802'},\n",
       "  '2019-04-01 15:35:00': {'close': '68.6100',\n",
       "   'high': '68.9000',\n",
       "   'low': '68.5701',\n",
       "   'open': '68.8600',\n",
       "   'volume': '384996'},\n",
       "  '2019-04-01 15:40:00': {'close': '68.7800',\n",
       "   'high': '68.7800',\n",
       "   'low': '68.4300',\n",
       "   'open': '68.6000',\n",
       "   'volume': '657773'},\n",
       "  '2019-04-01 15:45:00': {'close': '68.5810',\n",
       "   'high': '68.7889',\n",
       "   'low': '68.5000',\n",
       "   'open': '68.7400',\n",
       "   'volume': '316517'},\n",
       "  '2019-04-01 15:50:00': {'close': '68.2700',\n",
       "   'high': '68.6232',\n",
       "   'low': '68.2500',\n",
       "   'open': '68.6200',\n",
       "   'volume': '460992'},\n",
       "  '2019-04-01 15:55:00': {'close': '67.8575',\n",
       "   'high': '68.4400',\n",
       "   'low': '67.7899',\n",
       "   'open': '68.2600',\n",
       "   'volume': '953479'},\n",
       "  '2019-04-01 16:00:00': {'close': '69.0400',\n",
       "   'high': '69.5000',\n",
       "   'low': '67.7901',\n",
       "   'open': '67.8500',\n",
       "   'volume': '1356883'},\n",
       "  '2019-04-02 09:35:00': {'close': '68.4500',\n",
       "   'high': '68.9000',\n",
       "   'low': '66.1000',\n",
       "   'open': '66.9000',\n",
       "   'volume': '2844120'},\n",
       "  '2019-04-02 09:40:00': {'close': '69.3920',\n",
       "   'high': '69.7000',\n",
       "   'low': '67.8100',\n",
       "   'open': '68.4500',\n",
       "   'volume': '1282471'},\n",
       "  '2019-04-02 09:45:00': {'close': '69.5450',\n",
       "   'high': '69.9700',\n",
       "   'low': '69.0400',\n",
       "   'open': '69.4400',\n",
       "   'volume': '1121338'},\n",
       "  '2019-04-02 09:50:00': {'close': '70.0700',\n",
       "   'high': '70.2000',\n",
       "   'low': '69.4000',\n",
       "   'open': '69.5629',\n",
       "   'volume': '911457'},\n",
       "  '2019-04-02 09:55:00': {'close': '68.3500',\n",
       "   'high': '70.2000',\n",
       "   'low': '68.1000',\n",
       "   'open': '70.0700',\n",
       "   'volume': '978004'},\n",
       "  '2019-04-02 10:00:00': {'close': '68.5800',\n",
       "   'high': '68.7700',\n",
       "   'low': '67.8500',\n",
       "   'open': '68.3500',\n",
       "   'volume': '593086'},\n",
       "  '2019-04-02 10:05:00': {'close': '68.5595',\n",
       "   'high': '68.8650',\n",
       "   'low': '68.1625',\n",
       "   'open': '68.5800',\n",
       "   'volume': '315832'},\n",
       "  '2019-04-02 10:10:00': {'close': '69.2100',\n",
       "   'high': '69.7000',\n",
       "   'low': '68.5046',\n",
       "   'open': '68.5800',\n",
       "   'volume': '509972'},\n",
       "  '2019-04-02 10:15:00': {'close': '68.7521',\n",
       "   'high': '69.4000',\n",
       "   'low': '68.6600',\n",
       "   'open': '69.2500',\n",
       "   'volume': '318711'},\n",
       "  '2019-04-02 10:20:00': {'close': '69.2900',\n",
       "   'high': '69.4500',\n",
       "   'low': '68.7000',\n",
       "   'open': '68.8876',\n",
       "   'volume': '191803'},\n",
       "  '2019-04-02 10:25:00': {'close': '68.8648',\n",
       "   'high': '69.4700',\n",
       "   'low': '68.7100',\n",
       "   'open': '69.3100',\n",
       "   'volume': '236286'},\n",
       "  '2019-04-02 10:30:00': {'close': '68.1200',\n",
       "   'high': '69.0800',\n",
       "   'low': '67.8600',\n",
       "   'open': '68.8404',\n",
       "   'volume': '380425'},\n",
       "  '2019-04-02 10:35:00': {'close': '68.4347',\n",
       "   'high': '68.5000',\n",
       "   'low': '67.9800',\n",
       "   'open': '68.1200',\n",
       "   'volume': '221792'},\n",
       "  '2019-04-02 10:40:00': {'close': '68.2100',\n",
       "   'high': '68.7000',\n",
       "   'low': '68.1200',\n",
       "   'open': '68.4900',\n",
       "   'volume': '122361'},\n",
       "  '2019-04-02 10:45:00': {'close': '68.5695',\n",
       "   'high': '68.6500',\n",
       "   'low': '68.1700',\n",
       "   'open': '68.2000',\n",
       "   'volume': '131137'},\n",
       "  '2019-04-02 10:50:00': {'close': '68.2200',\n",
       "   'high': '68.5412',\n",
       "   'low': '68.0700',\n",
       "   'open': '68.5412',\n",
       "   'volume': '96455'},\n",
       "  '2019-04-02 10:55:00': {'close': '68.1700',\n",
       "   'high': '68.4500',\n",
       "   'low': '68.0700',\n",
       "   'open': '68.2200',\n",
       "   'volume': '84472'},\n",
       "  '2019-04-02 11:00:00': {'close': '67.6500',\n",
       "   'high': '68.2900',\n",
       "   'low': '67.3000',\n",
       "   'open': '68.1800',\n",
       "   'volume': '335448'},\n",
       "  '2019-04-02 11:05:00': {'close': '67.2700',\n",
       "   'high': '67.8600',\n",
       "   'low': '67.0500',\n",
       "   'open': '67.6382',\n",
       "   'volume': '335111'},\n",
       "  '2019-04-02 11:10:00': {'close': '66.6700',\n",
       "   'high': '67.4000',\n",
       "   'low': '66.4900',\n",
       "   'open': '67.2500',\n",
       "   'volume': '451808'},\n",
       "  '2019-04-02 11:15:00': {'close': '67.3116',\n",
       "   'high': '67.3700',\n",
       "   'low': '66.6201',\n",
       "   'open': '66.6300',\n",
       "   'volume': '352762'},\n",
       "  '2019-04-02 11:20:00': {'close': '67.7800',\n",
       "   'high': '67.8000',\n",
       "   'low': '67.1000',\n",
       "   'open': '67.2801',\n",
       "   'volume': '268964'},\n",
       "  '2019-04-02 11:25:00': {'close': '67.3001',\n",
       "   'high': '67.7700',\n",
       "   'low': '67.2300',\n",
       "   'open': '67.7700',\n",
       "   'volume': '173326'},\n",
       "  '2019-04-02 11:30:00': {'close': '67.0701',\n",
       "   'high': '67.3500',\n",
       "   'low': '67.0200',\n",
       "   'open': '67.3131',\n",
       "   'volume': '147284'},\n",
       "  '2019-04-02 11:35:00': {'close': '67.4135',\n",
       "   'high': '67.4400',\n",
       "   'low': '67.0501',\n",
       "   'open': '67.0846',\n",
       "   'volume': '101687'},\n",
       "  '2019-04-02 11:40:00': {'close': '67.5500',\n",
       "   'high': '67.6500',\n",
       "   'low': '67.3602',\n",
       "   'open': '67.4001',\n",
       "   'volume': '102711'},\n",
       "  '2019-04-02 11:45:00': {'close': '67.2650',\n",
       "   'high': '67.5498',\n",
       "   'low': '67.1800',\n",
       "   'open': '67.5100',\n",
       "   'volume': '91040'},\n",
       "  '2019-04-02 11:50:00': {'close': '67.3735',\n",
       "   'high': '67.5000',\n",
       "   'low': '67.1932',\n",
       "   'open': '67.2600',\n",
       "   'volume': '70769'},\n",
       "  '2019-04-02 11:55:00': {'close': '66.9750',\n",
       "   'high': '67.3401',\n",
       "   'low': '66.9750',\n",
       "   'open': '67.3401',\n",
       "   'volume': '141073'},\n",
       "  '2019-04-02 12:00:00': {'close': '66.9398',\n",
       "   'high': '66.9800',\n",
       "   'low': '66.8300',\n",
       "   'open': '66.9700',\n",
       "   'volume': '116510'},\n",
       "  '2019-04-02 12:05:00': {'close': '66.7100',\n",
       "   'high': '66.9800',\n",
       "   'low': '66.6500',\n",
       "   'open': '66.9200',\n",
       "   'volume': '159035'},\n",
       "  '2019-04-02 12:10:00': {'close': '67.3032',\n",
       "   'high': '67.3500',\n",
       "   'low': '66.7000',\n",
       "   'open': '66.7499',\n",
       "   'volume': '147671'},\n",
       "  '2019-04-02 12:15:00': {'close': '66.9300',\n",
       "   'high': '67.3004',\n",
       "   'low': '66.9201',\n",
       "   'open': '67.2849',\n",
       "   'volume': '65734'},\n",
       "  '2019-04-02 12:20:00': {'close': '67.3200',\n",
       "   'high': '67.3200',\n",
       "   'low': '66.9580',\n",
       "   'open': '66.9764',\n",
       "   'volume': '104649'},\n",
       "  '2019-04-02 12:25:00': {'close': '67.1301',\n",
       "   'high': '67.4100',\n",
       "   'low': '67.0900',\n",
       "   'open': '67.3131',\n",
       "   'volume': '83430'},\n",
       "  '2019-04-02 12:30:00': {'close': '67.4783',\n",
       "   'high': '67.6800',\n",
       "   'low': '67.1300',\n",
       "   'open': '67.1700',\n",
       "   'volume': '123113'},\n",
       "  '2019-04-02 12:35:00': {'close': '67.9500',\n",
       "   'high': '68.0000',\n",
       "   'low': '67.4650',\n",
       "   'open': '67.4745',\n",
       "   'volume': '270997'},\n",
       "  '2019-04-02 12:40:00': {'close': '68.1001',\n",
       "   'high': '68.3300',\n",
       "   'low': '67.9300',\n",
       "   'open': '67.9400',\n",
       "   'volume': '275181'},\n",
       "  '2019-04-02 12:45:00': {'close': '67.9870',\n",
       "   'high': '68.1900',\n",
       "   'low': '67.8700',\n",
       "   'open': '68.1589',\n",
       "   'volume': '125745'},\n",
       "  '2019-04-02 12:50:00': {'close': '68.7500',\n",
       "   'high': '68.7500',\n",
       "   'low': '67.9400',\n",
       "   'open': '67.9400',\n",
       "   'volume': '293593'},\n",
       "  '2019-04-02 12:55:00': {'close': '68.8500',\n",
       "   'high': '68.8900',\n",
       "   'low': '68.3214',\n",
       "   'open': '68.7200',\n",
       "   'volume': '155735'},\n",
       "  '2019-04-02 13:00:00': {'close': '68.7600',\n",
       "   'high': '68.9500',\n",
       "   'low': '68.7005',\n",
       "   'open': '68.8590',\n",
       "   'volume': '172401'},\n",
       "  '2019-04-02 13:05:00': {'close': '68.7800',\n",
       "   'high': '68.9000',\n",
       "   'low': '68.5126',\n",
       "   'open': '68.7600',\n",
       "   'volume': '150769'},\n",
       "  '2019-04-02 13:10:00': {'close': '68.5439',\n",
       "   'high': '68.8400',\n",
       "   'low': '68.5100',\n",
       "   'open': '68.7500',\n",
       "   'volume': '132042'},\n",
       "  '2019-04-02 13:15:00': {'close': '68.4500',\n",
       "   'high': '68.5150',\n",
       "   'low': '68.0500',\n",
       "   'open': '68.5150',\n",
       "   'volume': '151813'},\n",
       "  '2019-04-02 13:20:00': {'close': '68.4578',\n",
       "   'high': '68.7500',\n",
       "   'low': '68.2600',\n",
       "   'open': '68.4300',\n",
       "   'volume': '98665'},\n",
       "  '2019-04-02 13:25:00': {'close': '68.2500',\n",
       "   'high': '68.5000',\n",
       "   'low': '68.1100',\n",
       "   'open': '68.4550',\n",
       "   'volume': '116555'},\n",
       "  '2019-04-02 13:30:00': {'close': '68.2569',\n",
       "   'high': '68.6500',\n",
       "   'low': '68.2100',\n",
       "   'open': '68.2950',\n",
       "   'volume': '108818'},\n",
       "  '2019-04-02 13:35:00': {'close': '68.3100',\n",
       "   'high': '68.4800',\n",
       "   'low': '68.2100',\n",
       "   'open': '68.2697',\n",
       "   'volume': '116692'},\n",
       "  '2019-04-02 13:40:00': {'close': '68.5600',\n",
       "   'high': '68.5600',\n",
       "   'low': '68.2100',\n",
       "   'open': '68.3100',\n",
       "   'volume': '125289'},\n",
       "  '2019-04-02 13:45:00': {'close': '68.6200',\n",
       "   'high': '68.8500',\n",
       "   'low': '68.4700',\n",
       "   'open': '68.5600',\n",
       "   'volume': '184920'},\n",
       "  '2019-04-02 13:50:00': {'close': '68.5860',\n",
       "   'high': '68.8400',\n",
       "   'low': '68.4700',\n",
       "   'open': '68.6165',\n",
       "   'volume': '94847'},\n",
       "  '2019-04-02 13:55:00': {'close': '69.0197',\n",
       "   'high': '69.1500',\n",
       "   'low': '68.5301',\n",
       "   'open': '68.5301',\n",
       "   'volume': '312604'},\n",
       "  '2019-04-02 14:00:00': {'close': '68.6800',\n",
       "   'high': '69.0657',\n",
       "   'low': '68.6000',\n",
       "   'open': '69.0600',\n",
       "   'volume': '134571'},\n",
       "  '2019-04-02 14:05:00': {'close': '68.7296',\n",
       "   'high': '68.9000',\n",
       "   'low': '68.6500',\n",
       "   'open': '68.6817',\n",
       "   'volume': '86306'},\n",
       "  '2019-04-02 14:10:00': {'close': '69.0600',\n",
       "   'high': '69.3400',\n",
       "   'low': '68.6000',\n",
       "   'open': '68.7400',\n",
       "   'volume': '300882'},\n",
       "  '2019-04-02 14:15:00': {'close': '69.3400',\n",
       "   'high': '69.3900',\n",
       "   'low': '68.9900',\n",
       "   'open': '69.0900',\n",
       "   'volume': '238254'},\n",
       "  '2019-04-02 14:20:00': {'close': '69.2200',\n",
       "   'high': '69.4400',\n",
       "   'low': '69.0300',\n",
       "   'open': '69.3200',\n",
       "   'volume': '230497'},\n",
       "  '2019-04-02 14:25:00': {'close': '69.1380',\n",
       "   'high': '69.3800',\n",
       "   'low': '69.0500',\n",
       "   'open': '69.2200',\n",
       "   'volume': '251112'},\n",
       "  '2019-04-02 14:30:00': {'close': '69.0700',\n",
       "   'high': '69.2500',\n",
       "   'low': '69.0100',\n",
       "   'open': '69.1567',\n",
       "   'volume': '107891'},\n",
       "  '2019-04-02 14:35:00': {'close': '69.3490',\n",
       "   'high': '69.4500',\n",
       "   'low': '69.1905',\n",
       "   'open': '69.2500',\n",
       "   'volume': '203464'},\n",
       "  '2019-04-02 14:40:00': {'close': '68.7754',\n",
       "   'high': '69.3800',\n",
       "   'low': '68.6100',\n",
       "   'open': '69.3500',\n",
       "   'volume': '223397'},\n",
       "  '2019-04-02 14:45:00': {'close': '68.7000',\n",
       "   'high': '68.8676',\n",
       "   'low': '68.6000',\n",
       "   'open': '68.7800',\n",
       "   'volume': '137727'},\n",
       "  '2019-04-02 14:50:00': {'close': '68.7250',\n",
       "   'high': '68.9400',\n",
       "   'low': '68.6700',\n",
       "   'open': '68.7037',\n",
       "   'volume': '80506'},\n",
       "  '2019-04-02 14:55:00': {'close': '68.1000',\n",
       "   'high': '68.7193',\n",
       "   'low': '67.8800',\n",
       "   'open': '68.7100',\n",
       "   'volume': '244028'},\n",
       "  '2019-04-02 15:00:00': {'close': '68.1084',\n",
       "   'high': '68.3400',\n",
       "   'low': '68.0200',\n",
       "   'open': '68.1000',\n",
       "   'volume': '139264'},\n",
       "  '2019-04-02 15:05:00': {'close': '68.1957',\n",
       "   'high': '68.2200',\n",
       "   'low': '67.6711',\n",
       "   'open': '68.1120',\n",
       "   'volume': '158804'},\n",
       "  '2019-04-02 15:10:00': {'close': '68.2550',\n",
       "   'high': '68.2800',\n",
       "   'low': '68.1100',\n",
       "   'open': '68.2199',\n",
       "   'volume': '99408'},\n",
       "  '2019-04-02 15:15:00': {'close': '68.3900',\n",
       "   'high': '68.6000',\n",
       "   'low': '68.2550',\n",
       "   'open': '68.2795',\n",
       "   'volume': '176296'},\n",
       "  '2019-04-02 15:20:00': {'close': '68.8500',\n",
       "   'high': '68.9500',\n",
       "   'low': '68.3900',\n",
       "   'open': '68.3900',\n",
       "   'volume': '221063'},\n",
       "  '2019-04-02 15:25:00': {'close': '68.8700',\n",
       "   'high': '68.9500',\n",
       "   'low': '68.8000',\n",
       "   'open': '68.8300',\n",
       "   'volume': '115248'},\n",
       "  '2019-04-02 15:30:00': {'close': '69.3400',\n",
       "   'high': '69.3700',\n",
       "   'low': '68.8800',\n",
       "   'open': '68.8999',\n",
       "   'volume': '228678'},\n",
       "  '2019-04-02 15:35:00': {'close': '69.3000',\n",
       "   'high': '69.4400',\n",
       "   'low': '69.1100',\n",
       "   'open': '69.3550',\n",
       "   'volume': '177864'},\n",
       "  '2019-04-02 15:40:00': {'close': '69.0500',\n",
       "   'high': '69.3400',\n",
       "   'low': '68.8100',\n",
       "   'open': '69.2500',\n",
       "   'volume': '196255'},\n",
       "  '2019-04-02 15:45:00': {'close': '69.0896',\n",
       "   'high': '69.1700',\n",
       "   'low': '68.7500',\n",
       "   'open': '69.0200',\n",
       "   'volume': '137980'},\n",
       "  '2019-04-02 15:50:00': {'close': '69.0600',\n",
       "   'high': '69.1700',\n",
       "   'low': '68.8400',\n",
       "   'open': '69.0900',\n",
       "   'volume': '196375'},\n",
       "  '2019-04-02 15:55:00': {'close': '69.0053',\n",
       "   'high': '69.2500',\n",
       "   'low': '68.9600',\n",
       "   'open': '69.0665',\n",
       "   'volume': '356746'},\n",
       "  '2019-04-02 16:00:00': {'close': '69.0900',\n",
       "   'high': '69.6000',\n",
       "   'low': '68.9100',\n",
       "   'open': '68.9700',\n",
       "   'volume': '887264'}}}"
      ]
     },
     "execution_count": 58,
     "metadata": {},
     "output_type": "execute_result"
    }
   ],
   "source": [
    "data"
   ]
  },
  {
   "cell_type": "markdown",
   "metadata": {},
   "source": [
    "---\n",
    "### About the Data:\n",
    "\n",
    "- LYFT intra-day price data from AlphaVantage\n",
    "- Five-minute interval, starting at '2019-03-29 11:50:00'\n",
    "\n",
    "---\n",
    "> **Q1) Access the value associated with the key `'meta_data'`.**"
   ]
  },
  {
   "cell_type": "code",
   "execution_count": null,
   "metadata": {},
   "outputs": [],
   "source": []
  },
  {
   "cell_type": "code",
   "execution_count": 59,
   "metadata": {},
   "outputs": [
    {
     "data": {
      "text/plain": [
       "{'information': 'Intraday (5min) open, high, low, close prices and volume',\n",
       " 'interval': '5min',\n",
       " 'last_refreshed': '2019-04-02 16:00:00',\n",
       " 'outputsize': 'Full size',\n",
       " 'symbol': 'LYFT',\n",
       " 'time_zone': 'US/Eastern'}"
      ]
     },
     "execution_count": 59,
     "metadata": {},
     "output_type": "execute_result"
    }
   ],
   "source": [
    "# Suggested Solution\n",
    "\n",
    "data['meta_data']"
   ]
  },
  {
   "cell_type": "code",
   "execution_count": null,
   "metadata": {},
   "outputs": [],
   "source": []
  },
  {
   "cell_type": "markdown",
   "metadata": {},
   "source": [
    "> **Q2) How many price data points are there?**"
   ]
  },
  {
   "cell_type": "code",
   "execution_count": null,
   "metadata": {},
   "outputs": [],
   "source": []
  },
  {
   "cell_type": "code",
   "execution_count": 60,
   "metadata": {},
   "outputs": [
    {
     "name": "stdout",
     "output_type": "stream",
     "text": [
      "Number of price datapoints:  207\n"
     ]
    }
   ],
   "source": [
    "# Suggested Solution\n",
    "\n",
    "num_prices = len(data['time_series_5mins'])\n",
    "print('Number of price datapoints: ', num_prices)\n"
   ]
  },
  {
   "cell_type": "code",
   "execution_count": null,
   "metadata": {},
   "outputs": [],
   "source": []
  },
  {
   "cell_type": "markdown",
   "metadata": {},
   "source": [
    "> **Q3) Print all the data for the most recent price datapoint (i.e., close, high, low, open, volume).** "
   ]
  },
  {
   "cell_type": "code",
   "execution_count": 61,
   "metadata": {},
   "outputs": [
    {
     "data": {
      "text/plain": [
       "{'close': '69.0900',\n",
       " 'high': '69.6000',\n",
       " 'low': '68.9100',\n",
       " 'open': '68.9700',\n",
       " 'volume': '887264'}"
      ]
     },
     "execution_count": 61,
     "metadata": {},
     "output_type": "execute_result"
    }
   ],
   "source": [
    "# Suggested Solution\n",
    "\n",
    "# First datapoint\n",
    "data['time_series_5mins']['2019-04-02 16:00:00']\n"
   ]
  },
  {
   "cell_type": "code",
   "execution_count": null,
   "metadata": {},
   "outputs": [],
   "source": []
  },
  {
   "cell_type": "markdown",
   "metadata": {},
   "source": [
    "> **Q4) Create a new list called `closing_prices`. And then:** \n",
    "\n",
    "> - Convert each close price to a float.\n",
    "\n",
    "> - Add each converted close price to that list `closing_prices`.\n",
    "\n",
    "> - Print the first 50 prices in `closing_prices`.\n",
    "\n",
    "> - Get the average of the close prices."
   ]
  },
  {
   "cell_type": "code",
   "execution_count": null,
   "metadata": {},
   "outputs": [],
   "source": []
  },
  {
   "cell_type": "code",
   "execution_count": 62,
   "metadata": {},
   "outputs": [
    {
     "name": "stdout",
     "output_type": "stream",
     "text": [
      "[69.09, 69.0053, 69.06, 69.0896, 69.05, 69.3, 69.34, 68.87, 68.85, 68.39, 68.255, 68.1957, 68.1084, 68.1, 68.725, 68.7, 68.7754, 69.349, 69.07, 69.138, 69.22, 69.34, 69.06, 68.7296, 68.68, 69.0197, 68.586, 68.62, 68.56, 68.31, 68.2569, 68.25, 68.4578, 68.45, 68.5439, 68.78, 68.76, 68.85, 68.75, 67.987, 68.1001, 67.95, 67.4783, 67.1301, 67.32, 66.93, 67.3032, 66.71, 66.9398, 66.975]\n",
      "Average Close Price: 72.23465845410627\n"
     ]
    }
   ],
   "source": [
    "# Suggested Solution\n",
    "\n",
    "closing_prices = []\n",
    "\n",
    "for day, prices in data['time_series_5mins'].items():\n",
    "    closing_prices.append(float(prices['close']))\n",
    "    \n",
    "print(closing_prices[:50])\n",
    "\n",
    "\n",
    "average_close_price = sum(closing_prices)/len(closing_prices)\n",
    "\n",
    "print(\"Average Close Price:\", str(average_close_price))"
   ]
  },
  {
   "cell_type": "code",
   "execution_count": null,
   "metadata": {},
   "outputs": [],
   "source": []
  },
  {
   "cell_type": "code",
   "execution_count": null,
   "metadata": {},
   "outputs": [],
   "source": []
  },
  {
   "cell_type": "code",
   "execution_count": null,
   "metadata": {},
   "outputs": [],
   "source": []
  },
  {
   "cell_type": "code",
   "execution_count": null,
   "metadata": {},
   "outputs": [],
   "source": []
  },
  {
   "cell_type": "markdown",
   "metadata": {},
   "source": [
    "---\n",
    "\n",
    "# FROM Session 2 Practice -- Independent Practice: Basic Functions\n",
    "\n",
    "---\n",
    "\n",
    "> **Q1) Write a function called `high_low()` that prints \"High!\" if a variable `my_number` is greater than 10, and \"Low!\" if it isn't. Then call the function to make sure it works.**\n"
   ]
  },
  {
   "cell_type": "code",
   "execution_count": null,
   "metadata": {},
   "outputs": [],
   "source": []
  },
  {
   "cell_type": "code",
   "execution_count": 63,
   "metadata": {},
   "outputs": [
    {
     "name": "stdout",
     "output_type": "stream",
     "text": [
      "High!\n",
      "Low!\n"
     ]
    }
   ],
   "source": [
    "# Suggested Solution\n",
    "\n",
    "def high_low():\n",
    "  if my_number > 10:\n",
    "    print(\"High!\")\n",
    "  else:\n",
    "    print(\"Low!\")\n",
    "\n",
    "my_number = 17\n",
    "high_low()\n",
    "\n",
    "my_number = 8\n",
    "high_low()"
   ]
  },
  {
   "cell_type": "markdown",
   "metadata": {},
   "source": [
    "> **Q2) Thanks a Latte**\n",
    "\n",
    "> Imagine that you are tasked with creating a program to calculate the total amount, including sales tax, for each item at a coffee shop.\n",
    "> - Wrtie a function called `calculate_total()`. \n",
    "> - This function should be able to take 1 parameter for the price of an item.\n",
    "> - This function should print the calculated total of any price passed to the function, which is: price + (price * sales_tax_rate)\n",
    "> - Use 0.10 for the sales_tax_rate.\n",
    "\n",
    "> Expected Output:\n",
    "\n",
    "> `The total is $ 6.05`\n",
    "\n",
    "> `The total is $ 5.225`\n"
   ]
  },
  {
   "cell_type": "code",
   "execution_count": 64,
   "metadata": {},
   "outputs": [],
   "source": [
    "price_latte = 5.5\n",
    "price_americano = 4.75\n"
   ]
  },
  {
   "cell_type": "code",
   "execution_count": 65,
   "metadata": {},
   "outputs": [],
   "source": [
    "# Suggested Solution\n",
    "\n",
    "def calculate_total(price):\n",
    "    sales_tax_rate = .10\n",
    "    total_amount = price + (price * sales_tax_rate)\n",
    "    print(\"The total is $\", total_amount)\n",
    "#this would round it:\n",
    "#print(\"The total is $\", round(total_amount,2))\n"
   ]
  },
  {
   "cell_type": "code",
   "execution_count": 66,
   "metadata": {},
   "outputs": [
    {
     "name": "stdout",
     "output_type": "stream",
     "text": [
      "The total is $ 6.05\n",
      "The total is $ 5.225\n"
     ]
    }
   ],
   "source": [
    "calculate_total(price_latte) # This will print 6.05.\n",
    "calculate_total(price_americano) # This will print 5.225.\n"
   ]
  },
  {
   "cell_type": "code",
   "execution_count": null,
   "metadata": {},
   "outputs": [],
   "source": []
  },
  {
   "cell_type": "markdown",
   "metadata": {},
   "source": [
    "---\n",
    "\n",
    "# FROM Session 2 Practice -- Independent Practice: Multiple Parameters\n",
    "\n",
    "---\n",
    "\n",
    "> **Q1) Let's revisit the previous independent practice exercise, 'Thanks a Latte'.**\n",
    "\n",
    "> What about changing sales tax? We can pass as many values into the function as we want, and we can have as many parameters as we want. \n",
    "\n",
    "> So go ahead and rewrite your previous `calculate_total()` function to allow for a second parameter — `taxes`."
   ]
  },
  {
   "cell_type": "code",
   "execution_count": null,
   "metadata": {},
   "outputs": [],
   "source": []
  },
  {
   "cell_type": "code",
   "execution_count": 67,
   "metadata": {},
   "outputs": [
    {
     "name": "stdout",
     "output_type": "stream",
     "text": [
      "The total is $ 6.05\n",
      "The total is $ 5.32\n"
     ]
    }
   ],
   "source": [
    "# Suggested Solution\n",
    "\n",
    "def calculate_total(price, taxes):\n",
    "    total_amount = price + (price * taxes)\n",
    "    print(\"The total is $\", total_amount)\n",
    "\n",
    "calculate_total(price_latte, .10) # \"price\" is 5.5; \"taxes\" is .10. This will print 6.05.\n",
    "calculate_total(price_americano, .12) # \"price\" is 4.75; \"taxes\" is .12. This will print 5.32."
   ]
  },
  {
   "cell_type": "code",
   "execution_count": null,
   "metadata": {},
   "outputs": [],
   "source": []
  },
  {
   "cell_type": "markdown",
   "metadata": {},
   "source": [
    "> **Q2) Functions With Logic**\n",
    "\n",
    "> Let's consider a shipping example. Depending on the order amount, a customer might get free shipping, so the print statement is different depending on the order amount.\n",
    "> Use the starter code below, which works for one product. Can you build a function from it that works for any product and `order_amount`?\n",
    "\n",
    "> Free shipping for any orders greater than $30. \n",
    "\n",
    "> Otherwise there is a $5.00 shipping charge."
   ]
  },
  {
   "cell_type": "code",
   "execution_count": 68,
   "metadata": {},
   "outputs": [
    {
     "name": "stdout",
     "output_type": "stream",
     "text": [
      "Thank you for ordering the Hanging Planter.\n",
      "It's your lucky day! There is no shipping charge for orders over $30.00.\n"
     ]
    }
   ],
   "source": [
    "product = \"Hanging Planter\"\n",
    "order_amount = 35\n",
    "\n",
    "# Starter Code\n",
    "\n",
    "print(\"Thank you for ordering the Hanging Planter.\")\n",
    "if order_amount >= 30:\n",
    "    print(\"It's your lucky day! There is no shipping charge for orders over $30.00.\")\n",
    "else:\n",
    "    print(\"There will be a $5.00 shipping charge for this order.\")\n",
    "\n"
   ]
  },
  {
   "cell_type": "code",
   "execution_count": 69,
   "metadata": {},
   "outputs": [
    {
     "name": "stdout",
     "output_type": "stream",
     "text": [
      "Thank you for ordering the Hanging Planter .\n",
      "It's your lucky day! There is no shipping charge for orders over $30.00.\n",
      "Thank you for ordering the Shell Mirror .\n",
      "There will be a $5.00 shipping charge for this order.\n",
      "Thank you for ordering the Modern Shag Rug .\n",
      "It's your lucky day! There is no shipping charge for orders over $30.00.\n"
     ]
    }
   ],
   "source": [
    "# Suggested Solution\n",
    "\n",
    "def print_order(product, order_amount):\n",
    "    print(\"Thank you for ordering the\", product, \".\")\n",
    "    if order_amount >= 30:\n",
    "        print(\"It's your lucky day! There is no shipping charge for orders over $30.00.\")\n",
    "    else:\n",
    "        print(\"There will be a $5.00 shipping charge for this order.\")\n",
    "\n",
    "print_order(\"Hanging Planter\", 35)\n",
    "print_order(\"Shell Mirror\", 15)\n",
    "print_order(\"Modern Shag Rug\", 75)\n"
   ]
  },
  {
   "cell_type": "code",
   "execution_count": null,
   "metadata": {},
   "outputs": [],
   "source": []
  },
  {
   "cell_type": "code",
   "execution_count": null,
   "metadata": {},
   "outputs": [],
   "source": []
  },
  {
   "cell_type": "markdown",
   "metadata": {},
   "source": [
    "---\n",
    "\n",
    "# Independent Practice: Return Statements\n",
    "\n",
    "---\n",
    "\n",
    "> **Q1) Sum all positives**\n",
    "\n",
    "> Create a function that accepts an array of numbers.\n",
    "\n",
    "> This function should return a sum of all positive numbers.\n"
   ]
  },
  {
   "cell_type": "code",
   "execution_count": 70,
   "metadata": {},
   "outputs": [],
   "source": [
    "test_list_1 = [1, -2, -3, 1]\n",
    "test_list_2 = [-1]\n",
    "\n"
   ]
  },
  {
   "cell_type": "code",
   "execution_count": 71,
   "metadata": {},
   "outputs": [],
   "source": [
    "# Suggested Solution\n",
    "\n",
    "def sum_positive(number_array):\n",
    "    pos_nums = []\n",
    "    for i in number_array:\n",
    "        if i > 0:\n",
    "            pos_nums.append(i)\n",
    "    \n",
    "    return sum(pos_nums)"
   ]
  },
  {
   "cell_type": "code",
   "execution_count": 72,
   "metadata": {},
   "outputs": [
    {
     "data": {
      "text/plain": [
       "2"
      ]
     },
     "execution_count": 72,
     "metadata": {},
     "output_type": "execute_result"
    }
   ],
   "source": [
    "sum_positive(test_list_1) # should return 2\n"
   ]
  },
  {
   "cell_type": "code",
   "execution_count": 73,
   "metadata": {},
   "outputs": [
    {
     "data": {
      "text/plain": [
       "0"
      ]
     },
     "execution_count": 73,
     "metadata": {},
     "output_type": "execute_result"
    }
   ],
   "source": [
    "sum_positive(test_list_2) # Should return 0"
   ]
  },
  {
   "cell_type": "code",
   "execution_count": null,
   "metadata": {},
   "outputs": [],
   "source": []
  },
  {
   "cell_type": "markdown",
   "metadata": {},
   "source": [
    "> **Q2) Let's generate some fake data for our next exercise.** \n",
    "\n",
    "> We are generating monthly sales for each department in a store, for the year 2044."
   ]
  },
  {
   "cell_type": "code",
   "execution_count": 74,
   "metadata": {},
   "outputs": [],
   "source": [
    "import random\n",
    "\n",
    "dept_store_sales = [\n",
    "    {'dept_name':'Food', '2044_monthly_sales': []},\n",
    "    {'dept_name':'Kids', '2044_monthly_sales': []},\n",
    "    {'dept_name':'Women', '2044_monthly_sales': []},\n",
    "    {'dept_name':'Men', '2044_monthly_sales': []}\n",
    "]\n",
    "\n",
    "for dept in dept_store_sales:\n",
    "    dept['2044_monthly_sales'] = random.sample(range(10000, 50000), 12)\n"
   ]
  },
  {
   "cell_type": "code",
   "execution_count": 75,
   "metadata": {},
   "outputs": [
    {
     "data": {
      "text/plain": [
       "{'2044_monthly_sales': [48175,\n",
       "  32985,\n",
       "  10227,\n",
       "  19495,\n",
       "  33830,\n",
       "  38909,\n",
       "  48333,\n",
       "  41828,\n",
       "  30598,\n",
       "  31368,\n",
       "  37951,\n",
       "  32358],\n",
       " 'dept_name': 'Food'}"
      ]
     },
     "execution_count": 75,
     "metadata": {},
     "output_type": "execute_result"
    }
   ],
   "source": [
    "dept_store_sales[0]"
   ]
  },
  {
   "cell_type": "markdown",
   "metadata": {},
   "source": [
    "> **Q2A) Loop through all the monthly sales for all departments, adding each amount to the `total_2044_sales` variable defined below.**"
   ]
  },
  {
   "cell_type": "code",
   "execution_count": 76,
   "metadata": {},
   "outputs": [],
   "source": [
    "total_2044_sales = 0\n",
    "  "
   ]
  },
  {
   "cell_type": "code",
   "execution_count": 77,
   "metadata": {},
   "outputs": [],
   "source": [
    "# Suggested Solution\n",
    "\n",
    "for dept in dept_store_sales:\n",
    "    for month_sale in dept['2044_monthly_sales']:\n",
    "        total_2044_sales += month_sale"
   ]
  },
  {
   "cell_type": "code",
   "execution_count": 78,
   "metadata": {},
   "outputs": [
    {
     "data": {
      "text/plain": [
       "1502638"
      ]
     },
     "execution_count": 78,
     "metadata": {},
     "output_type": "execute_result"
    }
   ],
   "source": [
    "total_2044_sales"
   ]
  },
  {
   "cell_type": "code",
   "execution_count": null,
   "metadata": {},
   "outputs": [],
   "source": []
  },
  {
   "cell_type": "markdown",
   "metadata": {},
   "source": [
    "> **Q2B) Write a function that calculates and returns the percent of total sales (for 2044) for each department.**\n",
    "\n",
    "> Then use your function on the simulated data in `dept_store_sales`."
   ]
  },
  {
   "cell_type": "code",
   "execution_count": null,
   "metadata": {},
   "outputs": [],
   "source": []
  },
  {
   "cell_type": "code",
   "execution_count": 79,
   "metadata": {},
   "outputs": [
    {
     "name": "stdout",
     "output_type": "stream",
     "text": [
      "Food Department -- Percent of Total 2044 Sales: 27.02%\n",
      "Kids Department -- Percent of Total 2044 Sales: 24.43%\n",
      "Women Department -- Percent of Total 2044 Sales: 22.57%\n",
      "Men Department -- Percent of Total 2044 Sales: 25.98%\n"
     ]
    }
   ],
   "source": [
    "# Suggested Solution\n",
    "\n",
    "def get_percent(dept_total, total_sales):\n",
    "    percent_of_total = (sum(dept_total)/total_sales)*100\n",
    "    return percent_of_total\n",
    "\n",
    "for dept in dept_store_sales:\n",
    "    percent = get_percent(dept['2044_monthly_sales'], total_2044_sales)\n",
    "    print(dept['dept_name'], \"Department -- Percent of Total 2044 Sales:\", format(percent, '.2f') + '%')\n"
   ]
  },
  {
   "cell_type": "code",
   "execution_count": null,
   "metadata": {},
   "outputs": [],
   "source": []
  },
  {
   "cell_type": "code",
   "execution_count": null,
   "metadata": {},
   "outputs": [],
   "source": []
  },
  {
   "cell_type": "code",
   "execution_count": null,
   "metadata": {},
   "outputs": [],
   "source": []
  },
  {
   "cell_type": "markdown",
   "metadata": {},
   "source": [
    "> **Q3) Building a Copy**\n",
    "\n",
    "> Write a function called `copy_list()` that takes in a list, `original_list`, as a parameter. \n",
    "\n",
    "> Your function should create a new list, `my_new_list`, with the contents of the original list + 2 each. \n",
    "\n",
    "> Your function should return `my_new_list`.\n"
   ]
  },
  {
   "cell_type": "code",
   "execution_count": null,
   "metadata": {},
   "outputs": [],
   "source": []
  },
  {
   "cell_type": "code",
   "execution_count": 80,
   "metadata": {},
   "outputs": [],
   "source": [
    "# Suggested Solution\n",
    "\n",
    "def copy_list(list_arg):\n",
    "    my_new_list = []\n",
    "    for item in range(len(list_arg)):\n",
    "        my_new_list.append(list_arg[item] + 2)\n",
    "    return my_new_list\n"
   ]
  },
  {
   "cell_type": "code",
   "execution_count": 82,
   "metadata": {},
   "outputs": [
    {
     "name": "stdout",
     "output_type": "stream",
     "text": [
      "[3, 4, 5]\n"
     ]
    }
   ],
   "source": [
    "my_list = [1, 2, 3]\n",
    "\n",
    "my_final_list = copy_list(my_list)\n",
    "\n",
    "print(my_final_list)\n",
    "# Will print [3, 4, 5]"
   ]
  },
  {
   "cell_type": "markdown",
   "metadata": {},
   "source": [
    "\n"
   ]
  },
  {
   "cell_type": "code",
   "execution_count": null,
   "metadata": {},
   "outputs": [],
   "source": []
  }
 ],
 "metadata": {
  "kernelspec": {
   "display_name": "Python 3",
   "language": "python",
   "name": "python3"
  },
  "language_info": {
   "codemirror_mode": {
    "name": "ipython",
    "version": 3
   },
   "file_extension": ".py",
   "mimetype": "text/x-python",
   "name": "python",
   "nbconvert_exporter": "python",
   "pygments_lexer": "ipython3",
   "version": "3.6.8"
  }
 },
 "nbformat": 4,
 "nbformat_minor": 4
}
