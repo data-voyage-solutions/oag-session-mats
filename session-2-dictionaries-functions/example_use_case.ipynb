{
 "cells": [
  {
   "cell_type": "code",
   "execution_count": null,
   "metadata": {},
   "outputs": [],
   "source": [
    "import pandas as pd\n",
    "\n",
    "folder_names = ['2015-07','2015-08','2015-09','2015-10','2015-11','2015-12']\n",
    "file_names = ['empty_full_results','bikeshare_nyc_raw']\n",
    "\n",
    "for folder in folder_names:\n",
    "    for file in file_names:\n",
    "        if file == 'bikeshare_nyc_raw':\n",
    "#             data = pd.read_csv(folder + '/' + file + '.csv', delim_whitespace=True)\n",
    "            data = pd.read_csv(folder + '/' + file + '.csv', sep='\\\\t', engine='python')\n",
    "        elif file == 'empty_full_results':\n",
    "            data = pd.read_csv(folder + '/' + file + '.csv')\n",
    "        else: pass\n",
    "        \n",
    "        data['union_id'] = data['dock_id']\n",
    "        data['union_id'] = data['union_id'].astype(str)\n",
    "        data['union_id'] = data['union_id'] + \"-\" + folder\n",
    "\n",
    "        data.to_csv(folder + '/' + file + '_vf' + '.csv')\n"
   ]
  }
 ],
 "metadata": {
  "kernelspec": {
   "display_name": "Python 3",
   "language": "python",
   "name": "python3"
  },
  "language_info": {
   "codemirror_mode": {
    "name": "ipython",
    "version": 3
   },
   "file_extension": ".py",
   "mimetype": "text/x-python",
   "name": "python",
   "nbconvert_exporter": "python",
   "pygments_lexer": "ipython3",
   "version": "3.6.8"
  }
 },
 "nbformat": 4,
 "nbformat_minor": 2
}
