{
 "cells": [
  {
   "cell_type": "code",
   "execution_count": null,
   "metadata": {},
   "outputs": [],
   "source": []
  },
  {
   "cell_type": "markdown",
   "metadata": {},
   "source": [
    "---\n",
    "# Functions\n",
    "\n",
    "---\n",
    "\n",
    "### Introduction to user-defined functions\n",
    "\n",
    "In this lesson, we'll learn to write functions, which are named blocks of code that are _designed to do one specific job_.\n",
    "\n",
    "---\n",
    "\n",
    "**Here’s a simple function named `greet_user()` that prints a greeting:**\n"
   ]
  },
  {
   "cell_type": "code",
   "execution_count": null,
   "metadata": {},
   "outputs": [],
   "source": [
    "def greet_user():\n",
    "    \"\"\"Display a simple greeting.\"\"\"\n",
    "    print(\"Hello!\")"
   ]
  },
  {
   "cell_type": "markdown",
   "metadata": {},
   "source": [
    "__Why didn't anything print?__"
   ]
  },
  {
   "cell_type": "code",
   "execution_count": null,
   "metadata": {},
   "outputs": [],
   "source": []
  },
  {
   "cell_type": "markdown",
   "metadata": {},
   "source": [
    "** **\n",
    "_Notes on syntax:_\n",
    "\n",
    "- The keyword `def` informs Python that you are defining a function.\n",
    "- This is the function definition, which tells Python: \n",
    "    - the name of the function \n",
    "    - and, if applicable, what kind of information the function needs to do its job.\n",
    "- Any indented lines that follow `def greet_user():` make up the body of the function.\n",
    "\n",
    "\n",
    "__Now let's use that function!__\n",
    "\n",
    "___\n",
    "\n",
    "### Calling a function:"
   ]
  },
  {
   "cell_type": "code",
   "execution_count": null,
   "metadata": {},
   "outputs": [],
   "source": [
    "greet_user()"
   ]
  },
  {
   "cell_type": "markdown",
   "metadata": {},
   "source": [
    "#### When you want to use this function, you call it.\n",
    "\n",
    "A function call tells Python to execute the code in the function.\n",
    "\n",
    "- To call a function, you write the name of the function, followed by any necessary information in parentheses.\n",
    "\n",
    "Because no information is needed in the example above, calling our function is as simple as entering `greet_user()`.\n",
    "\n",
    "---\n",
    "\n",
    "---\n",
    "\n",
    "What about this line of code:\n",
    "> `\"\"\"Display a simple greeting.\"\"\"`\n",
    "\n",
    "This is a comment called a __docstring__, which describes what the function does.\n",
    "- Docstrings are enclosed in triple quotes, which Python looks for when it generates documentation for the functions in your programs.\n",
    "\n",
    "__Use the `help()` function to generate the docstrings in the function.__"
   ]
  },
  {
   "cell_type": "code",
   "execution_count": null,
   "metadata": {},
   "outputs": [],
   "source": [
    "\n",
    "\n",
    "# You can try the `help()` function with any built-in function, like `range`.\n"
   ]
  },
  {
   "cell_type": "markdown",
   "metadata": {},
   "source": [
    "***\n",
    "\n",
    "## Passing information to a function\n",
    "\n",
    "#### What's going on in the function below?\n",
    "- What is the main difference from the previous version of this function?\n",
    "\n",
    "** **\n"
   ]
  },
  {
   "cell_type": "code",
   "execution_count": null,
   "metadata": {},
   "outputs": [],
   "source": [
    "def greet_user(username):\n",
    "    \"\"\"Display a simple greeting.\"\"\"\n",
    "    print(\"Hello, \" + username.title() + \"!\")\n",
    "\n",
    "\n",
    "greet_user('jesse')"
   ]
  },
  {
   "cell_type": "code",
   "execution_count": null,
   "metadata": {},
   "outputs": [],
   "source": []
  },
  {
   "cell_type": "code",
   "execution_count": null,
   "metadata": {},
   "outputs": [],
   "source": []
  },
  {
   "cell_type": "code",
   "execution_count": null,
   "metadata": {},
   "outputs": [],
   "source": []
  },
  {
   "cell_type": "markdown",
   "metadata": {},
   "source": [
    "___\n",
    "### Arguments and Parameters\n",
    "\n",
    "1) We defined `greet_user()` to __require__ a value for the variable `username`.\n",
    "\n",
    "2) Once we called the function and gave it the information it requires (a person’s name), it printed the greeting.\n",
    "\n",
    "- The variable `username` in the definition of `greet_user()` is an example of a __parameter__, a piece of information the function needs to do its job.\n",
    "\n",
    "- The value 'jesse' in `greet_user('jesse')` is an example of an __argument__, a piece of information that is passed from a function call to a function.\n",
    "\n",
    "When we call the function, we place the value we want the function to work with in parentheses.\n",
    "\n",
    "- In this case the argument 'jesse' was passed to the function `greet_user()`, and the value was stored in the parameter `username`.\n",
    "\n",
    "> __NOTE:__\n",
    "\n",
    "> People sometimes speak of arguments and parameters interchangeably. Don’t be surprised if you see the variables in a function definition referred to as arguments or the variables in a function call referred to as parameters."
   ]
  },
  {
   "cell_type": "code",
   "execution_count": null,
   "metadata": {},
   "outputs": [],
   "source": []
  },
  {
   "cell_type": "markdown",
   "metadata": {},
   "source": [
    "___\n",
    "### Avoiding Argument Errors\n",
    "\n",
    "__Unmatched arguments__ occur when you provide _fewer or more arguments_ than a function needs to do its work. \n",
    "\n",
    "- For example, let’s see what happens if we try to call `greet_user()` with no arguments:"
   ]
  },
  {
   "cell_type": "code",
   "execution_count": null,
   "metadata": {},
   "outputs": [],
   "source": []
  },
  {
   "cell_type": "markdown",
   "metadata": {},
   "source": [
    "- Now let's see what happens if we try to call `greet_user()` with 2 arguments:"
   ]
  },
  {
   "cell_type": "code",
   "execution_count": null,
   "metadata": {},
   "outputs": [],
   "source": []
  },
  {
   "cell_type": "markdown",
   "metadata": {},
   "source": [
    "__Answer: Python recognizes that some information is missing from the function call.__\n",
    "\n",
    "Python is helpful in that it reads the function’s code for us and tells us the names of the arguments we need to provide in the error message.\n",
    "- This is another motivation for giving your variables and functions descriptive names.\n",
    "- If you do, Python’s error messages will be more useful to you and anyone else who might use your code.\n",
    "\n",
    "If you provide too many arguments, you should get a similar traceback that can help you correctly match your function call to the function definition."
   ]
  },
  {
   "cell_type": "code",
   "execution_count": null,
   "metadata": {},
   "outputs": [],
   "source": []
  },
  {
   "cell_type": "markdown",
   "metadata": {},
   "source": [
    "***\n",
    "\n",
    "### Passing a list\n",
    "\n",
    "\n",
    "You’ll often find it useful to pass a list to a function, whether it’s a list of names, numbers, or more complex objects, such as dictionaries.\n",
    "\n",
    "When you pass a list to a function, the function gets direct access to the contents of the list.\n",
    "\n",
    "__Let’s use functions to make working with lists more efficient.__\n",
    "\n",
    "> Say we have a list of users and want to print a greeting to each.\n",
    "\n",
    "> The following example sends a list of names to a function called `greet_users()`, which greets each person in the list individually:"
   ]
  },
  {
   "cell_type": "code",
   "execution_count": null,
   "metadata": {},
   "outputs": [],
   "source": [
    "def greet_users(names):\n",
    "    \"\"\"Print a simple greeting to each user in the list.\"\"\"\n",
    "    for name in names:\n",
    "        msg = \"Hello, \" + name.title() + \"!\"\n",
    "        print(msg)"
   ]
  },
  {
   "cell_type": "code",
   "execution_count": null,
   "metadata": {},
   "outputs": [],
   "source": [
    "usernames = ['hannah', 'ty', 'margot']\n",
    "greet_users(usernames)"
   ]
  },
  {
   "cell_type": "markdown",
   "metadata": {},
   "source": [
    "---\n",
    "### Let's break down the execution of the function step-by-step:\n",
    "\n",
    "1) We define `greet_users()` so it expects a list of names, which it stores in the parameter `names`.\n",
    "___\n",
    "\n",
    "2) The function loops through the list it receives and prints a greeting to each user.\n",
    "___\n",
    "\n",
    "3) We define a list of users and then pass the list `usernames` to `greet_users()` in our function call. Every user sees a personalized greeting, and you can call the function any time you want to greet a specific set of users."
   ]
  },
  {
   "cell_type": "code",
   "execution_count": null,
   "metadata": {},
   "outputs": [],
   "source": []
  },
  {
   "cell_type": "code",
   "execution_count": null,
   "metadata": {},
   "outputs": [],
   "source": []
  },
  {
   "attachments": {
    "image.png": {
     "image/png": "[encoded data removed]"
    }
   },
   "cell_type": "markdown",
   "metadata": {},
   "source": [
    "---\n",
    "# Go to:\n",
    "![image.png](attachment:image.png)\n",
    "\n",
    "---\n"
   ]
  },
  {
   "cell_type": "code",
   "execution_count": null,
   "metadata": {},
   "outputs": [],
   "source": []
  },
  {
   "cell_type": "code",
   "execution_count": null,
   "metadata": {},
   "outputs": [],
   "source": []
  },
  {
   "cell_type": "markdown",
   "metadata": {},
   "source": [
    "# Functions: Multiple Parameters\n",
    "\n",
    "- Because a function definition can have multiple parameters, a function call may need multiple arguments.\n",
    "\n",
    "> You can pass arguments to your functions in a number of ways.\n",
    "\n",
    "> You can use:\n",
    "> - __positional arguments__, which need to be in the same order the parameters were written\n",
    "> - __keyword arguments__, where each argument consists of a variable name and a value\n",
    "> - __lists and dictionaries__ of values\n",
    "  \n",
    "** **\n",
    "\n",
    "Let's Review:\n",
    "\n",
    "    - Positional Arguments\n",
    "    - Keyword Arguments\n",
    "    - Default Values\n",
    "    - Arbitrary Number of Arguments\n",
    "    - Mixing Positional, Keyword, and Arbitrary Arguments\n",
    "    \n",
    "---"
   ]
  },
  {
   "cell_type": "markdown",
   "metadata": {},
   "source": [
    "### Positional Arguments\n",
    "\n",
    "When you call a function, Python must match each argument in the function call with a parameter in the function definition.\n",
    "\n",
    "> The simplest way to do this is based on the __order of the arguments provided__.\n",
    "\n",
    "> Values matched up this way are called __positional arguments__.\n"
   ]
  },
  {
   "cell_type": "code",
   "execution_count": null,
   "metadata": {},
   "outputs": [],
   "source": [
    "def describe_pet(animal_type, pet_name):\n",
    "    \"\"\"Display information about a pet.\"\"\"\n",
    "    print(\"\\nI have a \" + animal_type + \".\")\n",
    "    print(\"My \" + animal_type + \"'s name is \" + pet_name.title() + \".\")"
   ]
  },
  {
   "cell_type": "markdown",
   "metadata": {},
   "source": [
    "__Notes:__\n",
    "\n",
    "- You can use _as many_ positional arguments as you need in your functions.\n",
    "- Python works through the arguments you provide when calling the function and matches each one with the corresponding parameter in the function’s definition.\n"
   ]
  },
  {
   "cell_type": "code",
   "execution_count": null,
   "metadata": {},
   "outputs": [],
   "source": [
    "describe_pet('hamster', 'harry')\n",
    "describe_pet('dog', 'willie')\n",
    "describe_pet('cat', 'felix')"
   ]
  },
  {
   "cell_type": "markdown",
   "metadata": {},
   "source": [
    "** **\n",
    "\n",
    "__What's happening in the function call below?__"
   ]
  },
  {
   "cell_type": "code",
   "execution_count": null,
   "metadata": {},
   "outputs": [],
   "source": [
    "describe_pet('harry', 'hamster')"
   ]
  },
  {
   "cell_type": "code",
   "execution_count": null,
   "metadata": {},
   "outputs": [],
   "source": []
  },
  {
   "cell_type": "code",
   "execution_count": null,
   "metadata": {},
   "outputs": [],
   "source": []
  },
  {
   "cell_type": "code",
   "execution_count": null,
   "metadata": {},
   "outputs": [],
   "source": []
  },
  {
   "cell_type": "markdown",
   "metadata": {},
   "source": [
    "__Answer: Order matters in positional arguments.__\n",
    "\n",
    "You can get unexpected results if you mix up the order of the arguments in a function call when using positional arguments.\n",
    "\n",
    "- In this function call, we list the name first and the type of animal second.\n",
    "- Because the argument 'harry' is listed first this time, that value is stored in the parameter `animal_type`.\n",
    "- Likewise, 'hamster' is stored in `pet_name`."
   ]
  },
  {
   "cell_type": "code",
   "execution_count": null,
   "metadata": {},
   "outputs": [],
   "source": []
  },
  {
   "cell_type": "markdown",
   "metadata": {},
   "source": [
    "** **\n",
    "### Keyword Arguments\n",
    " \n",
    "A keyword argument is a __name-value pair__ that you pass to a function.\n",
    "\n",
    "_Advantages of keyword arguments:_\n",
    "- You directly associate the name and the value within the argument, so when you pass the argument to the function, there’s no confusion (you won’t end up with a harry named Hamster).\n",
    "\n",
    "- Keyword arguments free you from having to worry about correctly ordering your arguments in the function call, and they clarify the role of each value in the function call."
   ]
  },
  {
   "cell_type": "code",
   "execution_count": null,
   "metadata": {},
   "outputs": [],
   "source": [
    "def describe_pet(animal_type, pet_name):\n",
    "    \"\"\"Display information about a pet.\"\"\"\n",
    "    print(\"\\nI have a \" + animal_type + \".\")\n",
    "    print(\"My \" + animal_type + \"'s name is \" + pet_name.title() + \".\")"
   ]
  },
  {
   "cell_type": "markdown",
   "metadata": {},
   "source": [
    "> __NOTE:__ The function `describe_pet()` hasn’t changed.\n"
   ]
  },
  {
   "cell_type": "code",
   "execution_count": null,
   "metadata": {},
   "outputs": [],
   "source": [
    "describe_pet(pet_name='harry', animal_type='hamster')"
   ]
  },
  {
   "cell_type": "markdown",
   "metadata": {},
   "source": [
    "- But now when we call the function, we __explicitly__ tell Python which parameter each argument should be matched with.\n",
    "- When Python reads the function call, it knows to store the argument 'hamster' in the parameter `animal_type` and the argument 'harry' in `pet_name`.\n",
    "    - The output correctly shows that we have a hamster named Harry.\n",
    "\n",
    "#### The order of keyword arguments doesn’t matter because Python knows where each value should go.\n",
    "\n",
    "The following two function calls are equivalent:"
   ]
  },
  {
   "cell_type": "code",
   "execution_count": null,
   "metadata": {},
   "outputs": [],
   "source": [
    "describe_pet(animal_type='hamster', pet_name='harry')"
   ]
  },
  {
   "cell_type": "code",
   "execution_count": null,
   "metadata": {},
   "outputs": [],
   "source": [
    "describe_pet(pet_name='harry', animal_type='hamster')"
   ]
  },
  {
   "cell_type": "markdown",
   "metadata": {},
   "source": [
    "> __NOTE:__\n",
    "\n",
    "> - When you use keyword arguments, be sure to use the _exact_ names of the parameters in the function’s definition."
   ]
  },
  {
   "cell_type": "code",
   "execution_count": null,
   "metadata": {},
   "outputs": [],
   "source": []
  },
  {
   "attachments": {
    "image.png": {
     "image/png": "[encoded data removed]"
    }
   },
   "cell_type": "markdown",
   "metadata": {},
   "source": [
    "---\n",
    "\n",
    "# Go to:\n",
    "![image.png](attachment:image.png)\n",
    "\n",
    "---"
   ]
  },
  {
   "cell_type": "code",
   "execution_count": null,
   "metadata": {},
   "outputs": [],
   "source": []
  },
  {
   "cell_type": "markdown",
   "metadata": {},
   "source": [
    "** **\n",
    "### Default Values\n",
    "\n",
    "When writing a function, you can define a __default value__ for each parameter.\n",
    "\n",
    "- If an argument for a parameter is provided in the function call, Python uses the argument value.\n",
    "- If not, it uses the parameter’s _default value_.\n",
    "\n",
    "So when you define a default value for a parameter, you can exclude the corresponding argument you’d usually write in the function call.\n",
    "\n",
    "Using default values can simplify your function calls and clarify the ways in which your functions are typically used.\n",
    "\n",
    "- For example, if you notice that most of the calls to `describe_pet()` are being used to describe dogs, you can set the default value of `animal_type` to 'dog'.\n",
    "\n",
    "Now anyone calling `describe_pet()` for a dog can omit that information, as shown below:"
   ]
  },
  {
   "cell_type": "code",
   "execution_count": null,
   "metadata": {},
   "outputs": [],
   "source": [
    "def describe_pet(pet_name, animal_type='dog'):\n",
    "    \"\"\"Display information about a pet.\"\"\"\n",
    "    print(\"\\nI have a \" + animal_type + \".\")\n",
    "    print(\"My \" + animal_type + \"'s name is \" + pet_name.title() + \".\")"
   ]
  },
  {
   "cell_type": "code",
   "execution_count": null,
   "metadata": {},
   "outputs": [],
   "source": [
    "describe_pet(pet_name='willie')"
   ]
  },
  {
   "cell_type": "markdown",
   "metadata": {},
   "source": [
    "__What is happening above?__\n",
    "\n",
    "- We changed the definition of `describe_pet()` to include a _default value_, 'dog', for `animal_type`.\n",
    "- Now when the function is called with no `animal_type` specified, Python knows to use the value 'dog' for this parameter.\n",
    "\n",
    "__Now, the simplest way to use this function is to provide just a dog’s name in the function call:__"
   ]
  },
  {
   "cell_type": "code",
   "execution_count": null,
   "metadata": {},
   "outputs": [],
   "source": [
    "describe_pet('willie')"
   ]
  },
  {
   "cell_type": "markdown",
   "metadata": {},
   "source": [
    "__To describe an animal other than a dog, you could use a function call like this:__"
   ]
  },
  {
   "cell_type": "code",
   "execution_count": null,
   "metadata": {},
   "outputs": [],
   "source": [
    "describe_pet(pet_name='felix', animal_type='cat')"
   ]
  },
  {
   "cell_type": "markdown",
   "metadata": {},
   "source": [
    "> __Why does the function call above work?__\n",
    "\n",
    "> Because an explicit argument for `animal_type` is provided, Python will ignore the parameter’s default value.\n",
    "\n",
    "\n",
    "__NOTE:__ The order of the parameters in the function definition had to be changed.\n",
    "\n",
    "- Because the default value makes it unnecessary to specify a type of animal as an argument, the only argument left in the function call is the pet’s name.\n",
    "- Python still interprets this as a ___positional argument___, so if the function is called with just a pet’s name, that argument will match up with the first parameter listed in the function’s definition.\n",
    "- __This is the reason the first parameter needs to be pet_name.__\n",
    "\n",
    "> So just remember:\n",
    "\n",
    "> When you use default values, any parameter with a default value _needs to be listed after all the parameters that don’t have default values._\n",
    "\n",
    "> - This allows Python to continue interpreting positional arguments correctly."
   ]
  },
  {
   "cell_type": "code",
   "execution_count": null,
   "metadata": {},
   "outputs": [],
   "source": []
  },
  {
   "cell_type": "markdown",
   "metadata": {},
   "source": [
    "** **\n",
    "### Making an Argument Optional\n",
    "\n",
    "Sometimes it makes sense to make an argument optional so that people using the function can choose to provide extra information only if they want to.\n",
    "\n",
    "You can use __default values__ to make an argument optional.\n",
    "\n",
    "- For example, say we want to expand `get_formatted_name()` to handle middle names as well."
   ]
  },
  {
   "cell_type": "code",
   "execution_count": null,
   "metadata": {},
   "outputs": [],
   "source": [
    "# Original function\n",
    "\n",
    "def get_formatted_name(first_name, last_name):\n",
    "    \"\"\"Return a full name, neatly formatted.\"\"\"\n",
    "    full_name = first_name + ' ' + last_name\n",
    "    return full_name.title()"
   ]
  },
  {
   "cell_type": "code",
   "execution_count": null,
   "metadata": {},
   "outputs": [],
   "source": [
    "# What happens when we try to pass a third parameter, a middle name, to the function?\n",
    "\n",
    "musician = get_formatted_name('norah', 'jones', 'shankar')\n",
    "print(musician)"
   ]
  },
  {
   "cell_type": "markdown",
   "metadata": {},
   "source": [
    "> A first attempt to include middle names might look like this:\n"
   ]
  },
  {
   "cell_type": "code",
   "execution_count": null,
   "metadata": {},
   "outputs": [],
   "source": [
    "def get_formatted_name(first_name, middle_name, last_name):\n",
    "    \"\"\"Return a full name, neatly formatted.\"\"\"\n",
    "    full_name = first_name + ' ' + middle_name + ' ' + last_name\n",
    "    return full_name.title()\n"
   ]
  },
  {
   "cell_type": "code",
   "execution_count": null,
   "metadata": {},
   "outputs": [],
   "source": [
    "# New version of function works well for our musician with a middle name:\n",
    "\n",
    "musician = get_formatted_name('norah', 'jones', 'shankar')\n",
    "print(musician)"
   ]
  },
  {
   "cell_type": "markdown",
   "metadata": {},
   "source": [
    "- This function works when given a first, middle, and last name.\n",
    "- The function takes in all three parts of a name and then builds a string out of them.\n",
    "- The function adds spaces where appropriate and converts the full name to title case.\n",
    "\n",
    "> ___But middle names aren’t always needed___, and this function as written would not work if you tried to call it with only a first name and a last name.\n",
    "\n",
    "To make the middle name optional, we can give the middle_name argument an _empty default value_ and ignore the argument unless the user provides a value.\n",
    "\n",
    "To make `get_formatted_name()` work without a middle name, we set the default value of `middle_name` to an empty string and move it to the end of the list of parameters:"
   ]
  },
  {
   "cell_type": "code",
   "execution_count": null,
   "metadata": {},
   "outputs": [],
   "source": [
    "# Write a function that works for names with AND without middle names.\n",
    "\n",
    "# Starter Code\n",
    "\n",
    "if middle_name:\n",
    "    # do something\n",
    "else:\n",
    "    # do this\n",
    "return full_name.title()"
   ]
  },
  {
   "cell_type": "code",
   "execution_count": null,
   "metadata": {},
   "outputs": [],
   "source": [
    "# Newest version of function works well for names with AND without middle names:\n",
    "\n",
    "musician = get_formatted_name('regina', 'spektor')\n",
    "print(musician)\n",
    "\n",
    "musician = get_formatted_name('norah', 'shankar', 'jones')\n",
    "print(musician)"
   ]
  },
  {
   "cell_type": "markdown",
   "metadata": {},
   "source": [
    "---\n",
    "### Let's break down the execution of the function step-by-step:\n",
    "\n",
    "1) In this example, the name is built from three possible parts. Because there’s always a first and last name, these parameters are listed first in the function’s definition.\n",
    "___\n",
    "\n",
    "2) The middle name is optional, so it’s listed last in the definition, and its default value is an empty string.\n",
    "___\n",
    "\n",
    "3) In the body of the function, we check to see if a middle name has been provided.\n",
    "- Python interprets non-empty strings as `True`, so `if middle_name` evaluates to `True` if a middle name argument is in the function call. \n",
    "___ \n",
    "\n",
    "4) If a middle name is provided, the first, middle, and last names are combined to form a full name.\n",
    "- This name is then changed to title case and returned to the function call line where it’s stored in the variable `musician` and printed.\n",
    "___\n",
    "\n",
    "5) If no middle name is provided, the empty string fails the `if` test and the `else` block runs.\n",
    "- The full name is made with just a first and last name, and the formatted name is returned to the calling line where it’s stored in `musician` and printed."
   ]
  },
  {
   "cell_type": "markdown",
   "metadata": {},
   "source": [
    "Calling this function with a first and last name is straightforward. __If we’re using a middle name, however, we have to make sure the middle name is _the last argument passed___ so Python will match up the positional arguments correctly.\n",
    "\n",
    "This modified version of our function works for people with just a first and last name, and it works for people who have a middle name as well.\n",
    "\n",
    "> __MAIN TAKEAWAY:__\n",
    "\n",
    "> Optional values allow functions to handle a wide range of use cases while letting function calls remain as simple as possible."
   ]
  },
  {
   "cell_type": "code",
   "execution_count": null,
   "metadata": {},
   "outputs": [],
   "source": []
  },
  {
   "cell_type": "markdown",
   "metadata": {},
   "source": [
    "** **\n",
    "### Side Note: Function within a Function\n",
    "\n",
    "You can call a function within a function."
   ]
  },
  {
   "cell_type": "code",
   "execution_count": null,
   "metadata": {},
   "outputs": [],
   "source": [
    "# EXAMPLE OF FUNCTION WITHIN A FUNCTION\n",
    "\n",
    "def addition(int1, int2):\n",
    "    \"\"\"This function adds two numbers.\"\"\"\n",
    "    sum_of_args = int1 + int2\n",
    "    return sum_of_args\n",
    "\n",
    "\n",
    "def multiplication(int1, int2):\n",
    "    \"\"\"This function multiplies two numbers.\"\"\"\n",
    "    mult_of_args = int1 * int2\n",
    "    return mult_of_args\n",
    "\n",
    "\n",
    "def basic_calc(math_operator, int1, int2):\n",
    "    \"\"\"This function uses the two previous functions\n",
    "       to either multiply or add two numbers.\"\"\"\n",
    "    if math_operator == '*':\n",
    "        return multiplication(int1, int2)\n",
    "    else:\n",
    "        return addition(int1, int2)\n",
    "\n",
    "\n",
    "print(basic_calc('*', 2400, 4400))"
   ]
  },
  {
   "cell_type": "code",
   "execution_count": null,
   "metadata": {},
   "outputs": [],
   "source": []
  },
  {
   "cell_type": "markdown",
   "metadata": {},
   "source": [
    "***\n",
    "\n",
    "### Passing an arbitrary number of arguments\n",
    "\n",
    "Sometimes you won’t know ahead of time how many arguments a function needs to accept.\n",
    "\n",
    "Fortunately, Python allows a function to collect an __arbitrary number__ of arguments from the calling statement.\n",
    "\n",
    "> For example, consider a function that builds a pizza.\n",
    "\n",
    "> It needs to accept a number of toppings, but you can’t know ahead of time how many toppings a person will want.\n",
    "  \n",
    "---\n",
    "\n",
    "** The function in the following example has one parameter, `*toppings`, but this parameter collects as many arguments as the calling line provides:**\n"
   ]
  },
  {
   "cell_type": "code",
   "execution_count": null,
   "metadata": {},
   "outputs": [],
   "source": [
    "def make_pizza(*toppings):\n",
    "    \"\"\"Print the list of toppings that have been requested.\"\"\"\n",
    "    print(toppings)"
   ]
  },
  {
   "cell_type": "code",
   "execution_count": null,
   "metadata": {},
   "outputs": [],
   "source": [
    "make_pizza('pepperoni')\n",
    "make_pizza('mushrooms', 'green peppers', 'extra cheese')"
   ]
  },
  {
   "cell_type": "markdown",
   "metadata": {},
   "source": [
    "- The asterisk (`*`) in the parameter name `*toppings` tells Python to make an empty tuple called `toppings` and pack whatever values it receives into this tuple. The `print` statement in the function body produces output showing that Python can handle a function call with one value and a call with three values.\n",
    "\n",
    "- It treats the different calls similarly.\n",
    "\n",
    "__NOTE:__ Python packs the arguments into a tuple, even if the function receives only one value, as shown below:\n",
    ">`('pepperoni',)`\n",
    "\n",
    ">`('mushrooms', 'green peppers', 'extra cheese')`\n",
    "\n",
    "__Now we can replace the `print` statement with a loop that runs through the list (or to be exact, tuple) of toppings and describes the pizza being ordered:__"
   ]
  },
  {
   "cell_type": "code",
   "execution_count": null,
   "metadata": {},
   "outputs": [],
   "source": [
    "def make_pizza(*toppings):\n",
    "    \"\"\"Summarize the pizza we are about to make.\"\"\"\n",
    "    print(\"\\nMaking a pizza with the following toppings:\")\n",
    "\n",
    "    for topping in toppings:\n",
    "        print(\"- \" + topping)"
   ]
  },
  {
   "cell_type": "code",
   "execution_count": null,
   "metadata": {},
   "outputs": [],
   "source": [
    "make_pizza('pepperoni')\n",
    "make_pizza('mushrooms', 'green peppers', 'extra cheese')"
   ]
  },
  {
   "cell_type": "markdown",
   "metadata": {},
   "source": [
    "- The function responds appropriately, whether it receives one value or three values.\n",
    "\n",
    "- This syntax works no matter how many arguments the function receives."
   ]
  },
  {
   "cell_type": "code",
   "execution_count": null,
   "metadata": {},
   "outputs": [],
   "source": []
  },
  {
   "cell_type": "markdown",
   "metadata": {},
   "source": [
    "** **\n",
    "### Mixing Positional and Arbitrary Arguments\n",
    "\n",
    "If you want a function to accept several different kinds of arguments, the parameter that accepts an arbitrary number of arguments _must be placed last in the function definition._\n",
    "\n",
    "Python __matches__ positional and keyword arguments first and __then collects__ any remaining arguments in the final parameter.\n",
    "\n",
    "__For example, if the function needs to take in a size for the pizza, that parameter must come before the parameter `*toppings`:__"
   ]
  },
  {
   "cell_type": "code",
   "execution_count": null,
   "metadata": {},
   "outputs": [],
   "source": [
    "def make_pizza(size, *toppings):\n",
    "    \"\"\"Summarize the pizza we are about to make.\"\"\"\n",
    "    print(\"\\nMaking a \" + str(size) +\n",
    "          \"-inch pizza with the following toppings:\")\n",
    "\n",
    "    for topping in toppings:\n",
    "        print(\"- \" + topping)"
   ]
  },
  {
   "cell_type": "code",
   "execution_count": null,
   "metadata": {},
   "outputs": [],
   "source": [
    "make_pizza(16, 'pepperoni')\n",
    "make_pizza(12, 'mushrooms', 'green peppers', 'extra cheese')\n"
   ]
  },
  {
   "cell_type": "markdown",
   "metadata": {},
   "source": [
    "---\n",
    "### Let's break down the execution of the function step-by-step:\n",
    "\n",
    "1) In the function definition, Python stores the first value it receives in the parameter `size`. All other values that come after are stored in the tuple `toppings`.\n",
    "___\n",
    "\n",
    "2) The function calls include an argument for the size first, followed by as many toppings as needed.\n",
    "___\n",
    "\n",
    "3) Now each pizza has a size and a number of toppings, and each piece of information is printed in the proper place, showing size first and toppings after."
   ]
  },
  {
   "cell_type": "code",
   "execution_count": null,
   "metadata": {},
   "outputs": [],
   "source": []
  },
  {
   "cell_type": "markdown",
   "metadata": {},
   "source": [
    "** **\n",
    "### Using Arbitrary Keyword Arguments\n",
    "\n",
    "Sometimes you’ll want to accept an arbitrary number of arguments, but you won’t know ahead of time what kind of information will be passed to the function.\n",
    "\n",
    "In this case, you can write __functions that accept as many key-value pairs__ as the calling statement provides.\n",
    "\n",
    "> One example involves building user profiles: you know you’ll get information about a user, but you’re not sure what kind of information you’ll receive.\n",
    "\n",
    "__The function `build_profile()` in the following example always takes in a first and last name, but it accepts an arbitrary number of keyword arguments as well:__"
   ]
  },
  {
   "cell_type": "code",
   "execution_count": null,
   "metadata": {},
   "outputs": [],
   "source": [
    "def build_profile(first, last, **user_info):\n",
    "    \"\"\"Build a dictionary containing everything we know about a user.\"\"\"\n",
    "    profile = {}\n",
    "    profile['first_name'] = first\n",
    "    profile['last_name'] = last\n",
    "\n",
    "    for key, value in user_info.items():\n",
    "        profile[key] = value\n",
    "\n",
    "    return profile"
   ]
  },
  {
   "cell_type": "code",
   "execution_count": null,
   "metadata": {},
   "outputs": [],
   "source": [
    "user_profile = build_profile('albert', 'einstein',\n",
    "                             location='princeton',\n",
    "                             field='physics')\n",
    "\n",
    "print(user_profile)"
   ]
  },
  {
   "cell_type": "markdown",
   "metadata": {},
   "source": [
    "---\n",
    "### Let's break down the execution of the function step-by-step:\n",
    "\n",
    "1) The definition of `build_profile()` expects a first and last name, and then it allows the user to pass in as many name-value pairs as they want. \n",
    "- The double asterisks (`**`) before the parameter `**user_info` cause Python to create an empty dictionary called `user_info` and pack whatever name-value pairs it receives into this dictionary.\n",
    "___\n",
    "\n",
    "2) Within the function, you can access the name-value pairs in `user_info` just as you would for any dictionary.\n",
    "___\n",
    "\n",
    "3) In the body of `build_profile()`, we make an empty dictionary called profile to hold the user’s profile.\n",
    "___\n",
    "\n",
    "4) We add the first and last names to this dictionary because we’ll always receive these two pieces of information from the user.\n",
    "___\n",
    "\n",
    "5) At we loop through the additional key-value pairs in the dictionary `user_info` and add each pair to the profile dictionary.\n",
    "___\n",
    "\n",
    "6) Finally, we return the profile dictionary to the function call line.\n",
    "___\n",
    "\n",
    "7) We call `build_profile()`, passing it the first name 'albert', the last name 'einstein', and the two key-value pairs `location='princeton'` and `field='physics'`.\n",
    "___\n",
    "\n",
    "8) We store the returned profile in `user_profile` and print `user_profile`.\n"
   ]
  },
  {
   "cell_type": "code",
   "execution_count": null,
   "metadata": {},
   "outputs": [],
   "source": []
  },
  {
   "cell_type": "markdown",
   "metadata": {},
   "source": [
    "** **\n",
    "### Last Notes\n",
    "\n",
    "- The returned dictionary contains the user’s first and last names and, in this case, the location and field of study as well.\n",
    "\n",
    "- The function would work _no matter_ how many additional key-value pairs are provided in the function call.\n",
    "\n",
    "- You can mix positional, keyword, and arbitrary values in many different ways when writing your own functions.\n",
    "\n",
    "- It’s useful to know that all these argument types exist because you’ll see them often when you start reading other people’s code.\n",
    "\n",
    "- It takes practice to learn to use the different types correctly and to know when to use each type.\n",
    "\n",
    "__For now, remember to use the simplest approach that gets the job done. As you progress, you’ll learn to use the most efficient approach each time.__\n"
   ]
  },
  {
   "cell_type": "code",
   "execution_count": null,
   "metadata": {},
   "outputs": [],
   "source": []
  },
  {
   "cell_type": "code",
   "execution_count": null,
   "metadata": {},
   "outputs": [],
   "source": []
  },
  {
   "cell_type": "markdown",
   "metadata": {},
   "source": [
    "---\n",
    "# GUIDED WALKTHROUGH: Return Statement\n",
    "\n",
    "---\n",
    "\n",
    "A function doesn’t always have to display its output directly.\n",
    "\n",
    "- In fact, some would argue that printing in a function should really only be used for debugging or learning.\n",
    "\n",
    "> Instead, it can process some data and then __return__ a value or set of values.\n",
    "\n",
    "> The value the function returns is called a ___return value___.\n",
    "\n",
    "\n",
    "The `return` statement takes a value from inside a function and sends it back to the line that called the function.\n",
    "\n",
    "Return values allow you to move much of your program’s grunt work into functions, which can simplify the body of your program.\n",
    "  \n",
    "** **\n",
    "\n",
    "Topics to review:\n",
    "\n",
    "    - Returning a Simple Value\n",
    "    - Exiting a Function (versus a loop)\n",
    "    - Returning a Dictionary"
   ]
  },
  {
   "cell_type": "code",
   "execution_count": null,
   "metadata": {},
   "outputs": [],
   "source": []
  },
  {
   "cell_type": "markdown",
   "metadata": {},
   "source": [
    "** **\n",
    "### Returning a Simple Value\n",
    "\n",
    "> Let’s look at a function that takes a first and last name, and creates a neatly formatted full name:"
   ]
  },
  {
   "cell_type": "code",
   "execution_count": null,
   "metadata": {},
   "outputs": [],
   "source": [
    "def get_formatted_name(first_name, last_name):\n",
    "    \"\"\"Return a full name, neatly formatted.\"\"\"\n",
    "    full_name = first_name + ' ' + last_name"
   ]
  },
  {
   "cell_type": "code",
   "execution_count": null,
   "metadata": {},
   "outputs": [],
   "source": [
    "musician = get_formatted_name('regina', 'spektor')\n",
    "print(musician)"
   ]
  },
  {
   "cell_type": "markdown",
   "metadata": {},
   "source": [
    "> Now let's look at a function that takes a first and last name, and ***returns*** a neatly formatted full name:"
   ]
  },
  {
   "cell_type": "code",
   "execution_count": null,
   "metadata": {},
   "outputs": [],
   "source": [
    "def get_formatted_name(first_name, last_name):\n",
    "    \"\"\"Return a full name, neatly formatted.\"\"\"\n",
    "    full_name = first_name + ' ' + last_name\n",
    "    return full_name.title()"
   ]
  },
  {
   "cell_type": "code",
   "execution_count": null,
   "metadata": {},
   "outputs": [],
   "source": [
    "musician = get_formatted_name('regina', 'spektor')\n",
    "print(musician)"
   ]
  },
  {
   "cell_type": "markdown",
   "metadata": {},
   "source": [
    "> What is the `return` statement doing?"
   ]
  },
  {
   "cell_type": "markdown",
   "metadata": {},
   "source": [
    "---\n",
    "### Let's break down the execution of the function step-by-step:\n",
    "\n",
    "\n",
    "1) The definition of `get_formatted_name()` takes as parameters a first and last name.\n",
    "___\n",
    "\n",
    "2) The function combines these two names, adds a space between them, and stores the result in `full_name`.\n",
    "___\n",
    "\n",
    "3) The value of `full_name` is converted to title case, and then returned to the calling line.\n",
    "\n",
    "> __NOTE:__\n",
    "\n",
    "> When you call a function that returns a value, you need to provide a variable where the return value can be stored.\n",
    "\n",
    "> In this case, the returned value is stored in the variable `musician`. \n",
    "\n",
    "___\n",
    "4) The output shows a neatly formatted name made up of the parts of a person’s name.\n",
    "\n",
    "___\n",
    "\n",
    "\n",
    "_Now, this might seem like a lot of work to get a neatly formatted name when we could have just written:_"
   ]
  },
  {
   "cell_type": "code",
   "execution_count": null,
   "metadata": {},
   "outputs": [],
   "source": [
    "print(\"Regina Spektor\")"
   ]
  },
  {
   "cell_type": "markdown",
   "metadata": {},
   "source": [
    "__But when you consider working with a large program that needs to store many first and last names separately, functions like `get_formatted_name()` become very useful.__ \n",
    "\n",
    "You store first and last names separately and then call this function whenever you want to display a full name."
   ]
  },
  {
   "cell_type": "code",
   "execution_count": null,
   "metadata": {},
   "outputs": [],
   "source": []
  },
  {
   "cell_type": "markdown",
   "metadata": {},
   "source": [
    "> Define a function called `add_two()` that takes a parameter `number`.\n",
    "\n",
    "> It adds 2 to `number`, saving that in a new variable called `total`.\n",
    "\n",
    "> In the function definition, include code that **prints** the total and **then, returns** total.\n",
    "\n"
   ]
  },
  {
   "cell_type": "code",
   "execution_count": null,
   "metadata": {},
   "outputs": [],
   "source": []
  },
  {
   "cell_type": "markdown",
   "metadata": {},
   "source": [
    "> The return statement **exits a function**, not executing any further code in it. \n",
    "\n",
    "> **What do you think the following will print?**"
   ]
  },
  {
   "cell_type": "code",
   "execution_count": null,
   "metadata": {},
   "outputs": [],
   "source": [
    "def mystery():\n",
    "    return 6\n",
    "    return 5\n",
    "\n",
    "my_number = mystery()\n",
    "print(my_number)\n"
   ]
  },
  {
   "cell_type": "code",
   "execution_count": null,
   "metadata": {},
   "outputs": [],
   "source": []
  },
  {
   "cell_type": "markdown",
   "metadata": {},
   "source": [
    "> The code after the second return statement, will never be executed and will be ignored completely.\n",
    "\n",
    "> The function stopped executing at the first return statement it hit.\n"
   ]
  },
  {
   "cell_type": "markdown",
   "metadata": {},
   "source": [
    "---\n",
    "### Exiting a Function\n",
    "\n",
    "We can also use return by itself as a way to exit the function and prevent any code that follows from running."
   ]
  },
  {
   "cell_type": "code",
   "execution_count": null,
   "metadata": {},
   "outputs": [],
   "source": [
    "def rock_and_roll(muted):\n",
    "    song = \"It's only Rock 'N' Roll\"\n",
    "    artist = \"Rolling Stones\"\n",
    "\n",
    "    if muted == True:\n",
    "        return\n",
    "        # Here, we use return as a way to exit a function\n",
    "        # We don't actually return any value.\n",
    "    print(\"Now playing: \", song, \" by \", artist)\n",
    "\n",
    "rock_and_roll(True)"
   ]
  },
  {
   "cell_type": "markdown",
   "metadata": {},
   "source": [
    "> Here, we use return as a way to exit the function instead of returning any value. \n",
    "\n",
    "> When we call the function and pass in `True` as an argument for muted, this statement will **never** run: \n",
    "\n",
    "> `print \"Now playing: \", song, \" by \", artist.\"`\n",
    "\n",
    "> **Try changing true to false.**\n"
   ]
  },
  {
   "cell_type": "markdown",
   "metadata": {},
   "source": [
    "### What's the difference between `return` and `break`?"
   ]
  },
  {
   "cell_type": "code",
   "execution_count": null,
   "metadata": {},
   "outputs": [],
   "source": [
    "def loop3():\n",
    "    for a in range(0,10):\n",
    "        print(a)\n",
    "        if a == 3:\n",
    "            # We found a three, let's stop looping\n",
    "            break\n",
    "    print(\"Found 3!\")\n",
    "\n",
    "loop3()"
   ]
  },
  {
   "cell_type": "code",
   "execution_count": null,
   "metadata": {},
   "outputs": [],
   "source": [
    "def loop3():\n",
    "    for a in range(0, 6):\n",
    "        print(a)\n",
    "        if a == 3:\n",
    "            # We found a three, let's end the function and \"go back\"\n",
    "            return\n",
    "\n",
    "    print(\"Found 3!\")\n",
    "\n",
    "loop3()"
   ]
  },
  {
   "cell_type": "markdown",
   "metadata": {},
   "source": [
    "- `break` is used to ***end a loop*** prematurely, while `return` is the keyword used to ***pass back a return value*** to the caller of the function. \n",
    "- If `return` is used without an argument, it simply ends the function and returns to where the code was executing previously.\n",
    "- There are situations where they can fulfil the same purpose."
   ]
  },
  {
   "cell_type": "code",
   "execution_count": null,
   "metadata": {},
   "outputs": [],
   "source": []
  },
  {
   "cell_type": "markdown",
   "metadata": {},
   "source": [
    "> **Quick Knowledge Check**\n",
    "\n",
    "> Looking at the code below, where will the function stop if x is 10?\n"
   ]
  },
  {
   "cell_type": "code",
   "execution_count": null,
   "metadata": {},
   "outputs": [],
   "source": [
    "def categorize(x):\n",
    "    if (x < 8):\n",
    "        return 8\n",
    "    x += 3\n",
    "    if (x < 15):\n",
    "        return x\n",
    "    return 100\n"
   ]
  },
  {
   "cell_type": "code",
   "execution_count": null,
   "metadata": {},
   "outputs": [],
   "source": []
  },
  {
   "cell_type": "markdown",
   "metadata": {},
   "source": [
    "> **Another Knowledge Check**\n",
    "\n",
    "> Take this simple adder function:"
   ]
  },
  {
   "cell_type": "code",
   "execution_count": null,
   "metadata": {},
   "outputs": [],
   "source": [
    "def adder(number1, number2):\n",
    "    return number1 + number2"
   ]
  },
  {
   "cell_type": "markdown",
   "metadata": {},
   "source": [
    "> Which of the following statements will result in an error?\n",
    "\n",
    "> A. adder(10, 100.) \n",
    "\n",
    "> B. adder(10, '10') \n",
    "\n",
    "> C. adder(100) \n",
    "\n",
    "> D. adder('abc', 'def') \n",
    "\n",
    "> E. adder(10, 20, 30) "
   ]
  },
  {
   "cell_type": "code",
   "execution_count": null,
   "metadata": {},
   "outputs": [],
   "source": [
    "print(adder(10, 100.))"
   ]
  },
  {
   "cell_type": "code",
   "execution_count": null,
   "metadata": {},
   "outputs": [],
   "source": [
    "print(adder(10, '10'))\n"
   ]
  },
  {
   "cell_type": "code",
   "execution_count": null,
   "metadata": {},
   "outputs": [],
   "source": [
    "print(adder(100))\n"
   ]
  },
  {
   "cell_type": "code",
   "execution_count": null,
   "metadata": {},
   "outputs": [],
   "source": [
    "print(adder('abc', 'def'))\n"
   ]
  },
  {
   "cell_type": "code",
   "execution_count": null,
   "metadata": {},
   "outputs": [],
   "source": [
    "print(adder(10, 20, 30))"
   ]
  },
  {
   "cell_type": "code",
   "execution_count": null,
   "metadata": {},
   "outputs": [],
   "source": []
  },
  {
   "cell_type": "markdown",
   "metadata": {},
   "source": [
    "** **\n",
    "### Returning a Dictionary\n",
    "\n",
    "A function can return any kind of value you need it to, including more complicated data structures like lists and dictionaries.\n",
    "\n",
    "__For example, the following function takes in parts of a name and returns a dictionary representing a person:__"
   ]
  },
  {
   "cell_type": "code",
   "execution_count": null,
   "metadata": {},
   "outputs": [],
   "source": [
    "def build_person(first_name, last_name):\n",
    "    \"\"\"Return a dictionary of information about a person.\"\"\"\n",
    "    person = {'first': first_name, 'last': last_name}\n",
    "    return person"
   ]
  },
  {
   "cell_type": "code",
   "execution_count": null,
   "metadata": {},
   "outputs": [],
   "source": [
    "musician = build_person('david', 'bowie')\n",
    "print(musician)"
   ]
  },
  {
   "cell_type": "markdown",
   "metadata": {},
   "source": [
    "---\n",
    "### Let's break down the execution of the function step-by-step:\n",
    "\n",
    "1) The function `build_person()` takes in a first and last name, and packs these values into a dictionary called `person`.\n",
    "___\n",
    "\n",
    "2) The value of `first_name` is stored with the key 'first', and the value of `last_name` is stored with the key 'last'.\n",
    "___\n",
    "\n",
    "3) The entire dictionary representing the person is returned.\n",
    "___\n",
    "\n",
    "4) The return value is printed with the original two pieces of textual information now stored in a dictionary:\n",
    "`{'first': 'david', 'last': 'bowie'}`"
   ]
  },
  {
   "cell_type": "markdown",
   "metadata": {},
   "source": [
    "This function takes in simple textual information and puts it into a more meaningful data structure that lets you work with the information beyond just printing it. \n",
    "\n",
    "The strings 'david' and 'bowie' are now labeled as a first name and last name. You can easily extend this function to accept optional values like a middle name, an age, an occupation, or any other information you want to store about a person.\n",
    "\n",
    "__For example, the following change allows you to store a person’s age as well:__"
   ]
  },
  {
   "cell_type": "code",
   "execution_count": null,
   "metadata": {},
   "outputs": [],
   "source": [
    "def build_person(first_name, last_name, age=''):\n",
    "    \"\"\"Return a dictionary of information about a person.\"\"\"\n",
    "    person = {'first': first_name, 'last': last_name}\n",
    "    if age:\n",
    "        person['age'] = age\n",
    "    return person"
   ]
  },
  {
   "cell_type": "code",
   "execution_count": null,
   "metadata": {},
   "outputs": [],
   "source": [
    "musician = build_person('david', 'bowie', age=69)\n",
    "print(musician)"
   ]
  },
  {
   "cell_type": "markdown",
   "metadata": {},
   "source": [
    "- We add a new optional parameter `age` to the function definition and assign the parameter an empty default value.\n",
    "\n",
    "- If the function call includes a value for this parameter, the value is stored in the dictionary.\n",
    "\n",
    "- This function always stores a person’s name, but it can also be modified to store any other information you want about a person."
   ]
  },
  {
   "cell_type": "code",
   "execution_count": null,
   "metadata": {},
   "outputs": [],
   "source": []
  },
  {
   "cell_type": "code",
   "execution_count": null,
   "metadata": {},
   "outputs": [],
   "source": []
  },
  {
   "attachments": {
    "image.png": {
     "image/png": "[encoded data removed]"
    }
   },
   "cell_type": "markdown",
   "metadata": {},
   "source": [
    "---\n",
    "\n",
    "# Go to:\n",
    "![image.png](attachment:image.png)\n",
    "\n",
    "---"
   ]
  },
  {
   "cell_type": "code",
   "execution_count": null,
   "metadata": {},
   "outputs": [],
   "source": []
  }
 ],
 "metadata": {
  "kernelspec": {
   "display_name": "Python 3",
   "language": "python",
   "name": "python3"
  },
  "language_info": {
   "codemirror_mode": {
    "name": "ipython",
    "version": 3
   },
   "file_extension": ".py",
   "mimetype": "text/x-python",
   "name": "python",
   "nbconvert_exporter": "python",
   "pygments_lexer": "ipython3",
   "version": "3.6.8"
  }
 },
 "nbformat": 4,
 "nbformat_minor": 2
}
