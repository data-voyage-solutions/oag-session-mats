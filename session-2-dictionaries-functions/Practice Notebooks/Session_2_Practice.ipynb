{
 "cells": [
  {
   "cell_type": "code",
   "execution_count": null,
   "metadata": {},
   "outputs": [],
   "source": []
  },
  {
   "cell_type": "markdown",
   "metadata": {},
   "source": [
    "---\n",
    "\n",
    "# Independent Practice: Dictionaries\n",
    "\n",
    "10 - 15 min.\n",
    "\n",
    "**Using what we have learned so far, how would we build a program that takes a name and provides me with the person’s number if they are in our contacts?**\n",
    "\n",
    "---\n",
    "\n",
    "Make a phone book program that:\n",
    "- takes a name and finds number.\n",
    "- if the name is not in the phone book, prints `\"Not a contact. Would you like to add that name: Yes or No?\"`\n",
    "- if yes, ask for the number and add number to phonebook then print: `“Added ‘Name: Phone Number’”`\n",
    "- if no, print `\"Not a contact and not added.\"`\n"
   ]
  },
  {
   "cell_type": "code",
   "execution_count": null,
   "metadata": {},
   "outputs": [],
   "source": [
    "phonebook = {\n",
    "    'Luna': '444 - 4444',\n",
    "    'Tee': '123 - 4567',\n",
    "    'Ada Lovelace': '101 - 0101',\n",
    "    'P1': '1emailAddress@gmail.com',\n",
    "    'P2': 'emailAddress2@gmail.com',\n",
    "    'P3': 'P3emailAddress@gmail.com',\n",
    "    'Friend Two': '222-222'\n",
    "    }"
   ]
  },
  {
   "cell_type": "code",
   "execution_count": null,
   "metadata": {},
   "outputs": [],
   "source": []
  },
  {
   "cell_type": "code",
   "execution_count": null,
   "metadata": {},
   "outputs": [],
   "source": []
  },
  {
   "cell_type": "markdown",
   "metadata": {},
   "source": [
    "---\n",
    "\n",
    "# Independent Practice: Dictionaries and Data!\n",
    "\n",
    "---\n",
    "\n",
    "\n",
    "## LYFT Intra-day JSON Exploration\n",
    "\n",
    "> Make sure that this `.json` file is in the same folder as this jupyter notebook.\n",
    "\n",
    "---\n",
    "\n",
    "#### If you are curious...\n",
    "\n",
    "This data was retrieved using AlphaVantage's intra-day stock API.\n",
    "\n",
    "MSFT Demo: https://www.alphavantage.co/query?function=TIME_SERIES_INTRADAY&symbol=MSFT&interval=5min&outputsize=full&apikey=demo\n",
    "\n",
    "Query used for LYFT data (note: you must enter an apikey (https://www.alphavantage.co/support/#api-key) at the very end for it work): https://www.alphavantage.co/query?function=TIME_SERIES_INTRADAY&symbol=LYFT&interval=5min&outputsize=full&apikey="
   ]
  },
  {
   "cell_type": "code",
   "execution_count": null,
   "metadata": {},
   "outputs": [],
   "source": [
    "# Run this cell in order to import a library that we need to read in the `.json` file\n",
    "\n",
    "import json"
   ]
  },
  {
   "cell_type": "code",
   "execution_count": null,
   "metadata": {},
   "outputs": [],
   "source": [
    "# Open the JSON text file for reading ('r')\n",
    "#   This file contains a bunch of dictionaries.\n",
    "#   Here, we convert it from JavaScript to a Python object\n",
    "\n",
    "data = json.load(open('lyft_040219_cleaned.json', 'r'))"
   ]
  },
  {
   "cell_type": "code",
   "execution_count": null,
   "metadata": {
    "scrolled": true
   },
   "outputs": [],
   "source": [
    "data"
   ]
  },
  {
   "cell_type": "markdown",
   "metadata": {},
   "source": [
    "---\n",
    "### About the Data:\n",
    "\n",
    "- LYFT intra-day price data from AlphaVantage\n",
    "- Five-minute interval, starting at '2019-03-29 11:50:00'\n",
    "\n",
    "---\n",
    "> **Q1) Access the value associated with the key `'meta_data'`.**"
   ]
  },
  {
   "cell_type": "code",
   "execution_count": null,
   "metadata": {},
   "outputs": [],
   "source": []
  },
  {
   "cell_type": "code",
   "execution_count": null,
   "metadata": {},
   "outputs": [],
   "source": []
  },
  {
   "cell_type": "markdown",
   "metadata": {},
   "source": [
    "> **Q2) How many price data points are there?**"
   ]
  },
  {
   "cell_type": "code",
   "execution_count": null,
   "metadata": {},
   "outputs": [],
   "source": []
  },
  {
   "cell_type": "code",
   "execution_count": null,
   "metadata": {},
   "outputs": [],
   "source": []
  },
  {
   "cell_type": "markdown",
   "metadata": {},
   "source": [
    "> **Q3) Print all the data for the most recent price datapoint (i.e., close, high, low, open, volume).** "
   ]
  },
  {
   "cell_type": "code",
   "execution_count": null,
   "metadata": {},
   "outputs": [],
   "source": []
  },
  {
   "cell_type": "markdown",
   "metadata": {},
   "source": [
    "> **Q4) Create a new list called `closing_prices`. And then:** \n",
    "\n",
    "> - Convert each close price to a float.\n",
    "\n",
    "> - Add each converted close price to that list `closing_prices`.\n",
    "\n",
    "> - Print the first 50 prices in `closing_prices`.\n",
    "\n",
    "> - Get the average of the close prices."
   ]
  },
  {
   "cell_type": "code",
   "execution_count": null,
   "metadata": {},
   "outputs": [],
   "source": []
  },
  {
   "cell_type": "code",
   "execution_count": null,
   "metadata": {},
   "outputs": [],
   "source": []
  },
  {
   "cell_type": "markdown",
   "metadata": {},
   "source": [
    "---\n",
    "\n",
    "# Independent Practice: Basic Functions\n",
    "\n",
    "---\n",
    "\n",
    "> **Q1) Write a function called `high_low()` that prints \"High!\" if a variable `my_number` is greater than 10, and \"Low!\" if it isn't. Then call the function to make sure it works.**\n"
   ]
  },
  {
   "cell_type": "code",
   "execution_count": null,
   "metadata": {},
   "outputs": [],
   "source": []
  },
  {
   "cell_type": "markdown",
   "metadata": {},
   "source": [
    "> **Q2) Thanks a Latte**\n",
    "\n",
    "> Imagine that you are tasked with creating a program to calculate the total amount, including sales tax, for each item at a coffee shop.\n",
    "> - Wrtie a function called `calculate_total()`. \n",
    "> - This function should be able to take 1 parameter for the price of an item.\n",
    "> - This function should print the calculated total of any price passed to the function, which is: price + (price * sales_tax_rate)\n",
    "> - Use 0.10 for the sales_tax_rate.\n",
    "\n",
    "> Expected Output:\n",
    "\n",
    "> `The total is $ 6.05`\n",
    "\n",
    "> `The total is $ 5.225`\n"
   ]
  },
  {
   "cell_type": "code",
   "execution_count": 2,
   "metadata": {},
   "outputs": [],
   "source": [
    "price_latte = 5.5\n",
    "price_americano = 4.75\n"
   ]
  },
  {
   "cell_type": "code",
   "execution_count": 7,
   "metadata": {},
   "outputs": [
    {
     "name": "stdout",
     "output_type": "stream",
     "text": [
      "The total is 6.05\n"
     ]
    }
   ],
   "source": [
    "def calculate_total(price):\n",
    "    total = price + (price*0.10)\n",
    "    print(\"The total is\", total)\n",
    "\n",
    "calculate_total(price_latte)"
   ]
  },
  {
   "cell_type": "code",
   "execution_count": 8,
   "metadata": {},
   "outputs": [
    {
     "name": "stdout",
     "output_type": "stream",
     "text": [
      "The total is 6.05\n"
     ]
    }
   ],
   "source": [
    "def calculate_total(price):\n",
    "    total = price + (price*0.10)\n",
    "    print(\"The total is \" + str(total))\n",
    "\n",
    "calculate_total(price_latte)"
   ]
  },
  {
   "cell_type": "markdown",
   "metadata": {},
   "source": [
    "---\n",
    "\n",
    "# Independent Practice: Multiple Parameters\n",
    "\n",
    "---\n",
    "\n",
    "> **Q1) Let's revisit the previous independent practice exercise, 'Thanks a Latte'.**\n",
    "\n",
    "> What about changing sales tax? We can pass as many values into the function as we want, and we can have as many parameters as we want. \n",
    "\n",
    "> So go ahead and rewrite your previous `calculate_total()` function to allow for a second parameter — `taxes`."
   ]
  },
  {
   "cell_type": "code",
   "execution_count": 14,
   "metadata": {},
   "outputs": [
    {
     "name": "stdout",
     "output_type": "stream",
     "text": [
      "The total is 9.9\n"
     ]
    }
   ],
   "source": [
    "def calculate_total(price, tax):\n",
    "    total = price + (price*float(tax))\n",
    "    print(\"The total is \" + str(total))\n",
    "\n",
    "calculate_total(price_latte, 0.8)"
   ]
  },
  {
   "cell_type": "code",
   "execution_count": 17,
   "metadata": {},
   "outputs": [
    {
     "name": "stdout",
     "output_type": "stream",
     "text": [
      "The total is 9.9\n"
     ]
    },
    {
     "data": {
      "text/plain": [
       "9.9"
      ]
     },
     "execution_count": 17,
     "metadata": {},
     "output_type": "execute_result"
    }
   ],
   "source": [
    "def calculate_total(price, tax):\n",
    "    total = price + (price*float(tax))\n",
    "    print(\"The total is \" + str(total))\n",
    "    return total\n",
    "\n",
    "calculate_total(price_latte, 0.8)"
   ]
  },
  {
   "cell_type": "code",
   "execution_count": 18,
   "metadata": {},
   "outputs": [
    {
     "name": "stdout",
     "output_type": "stream",
     "text": [
      "The total is 9.9\n"
     ]
    },
    {
     "data": {
      "text/plain": [
       "float"
      ]
     },
     "execution_count": 18,
     "metadata": {},
     "output_type": "execute_result"
    }
   ],
   "source": [
    "type(calculate_total(price_latte, 0.8))"
   ]
  },
  {
   "cell_type": "markdown",
   "metadata": {},
   "source": [
    "> **Q2) Functions With Logic**\n",
    "\n",
    "> Let's consider a shipping example. Depending on the order amount, a customer might get free shipping, so the print statement is different depending on the order amount.\n",
    "> Use the starter code below, which works for one product. Can you build a function from it that works for any product and `order_amount`?\n",
    "\n",
    "> Free shipping for any orders greater than $30. \n",
    "\n",
    "> Otherwise there is a $5.00 shipping charge."
   ]
  },
  {
   "cell_type": "code",
   "execution_count": null,
   "metadata": {},
   "outputs": [],
   "source": [
    "product = \"Hanging Planter\"\n",
    "order_amount = 35\n",
    "\n",
    "# Starter Code\n",
    "\n",
    "print(\"Thank you for ordering the Hanging Planter.\")\n",
    "if order_amount >= 30:\n",
    "    print(\"It's your lucky day! There is no shipping charge for orders over $30.00.\")\n",
    "else:\n",
    "    print(\"There will be a $5.00 shipping charge for this order.\")\n",
    "\n"
   ]
  },
  {
   "cell_type": "code",
   "execution_count": null,
   "metadata": {},
   "outputs": [],
   "source": []
  },
  {
   "cell_type": "code",
   "execution_count": null,
   "metadata": {},
   "outputs": [],
   "source": []
  },
  {
   "cell_type": "markdown",
   "metadata": {},
   "source": [
    "---\n",
    "\n",
    "# Independent Practice: Return Statements\n",
    "\n",
    "---\n",
    "\n",
    "> **Q1) Sum all positives**\n",
    "\n",
    "> Create a function that accepts an array of numbers.\n",
    "\n",
    "> This function should return a sum of all positive numbers.\n"
   ]
  },
  {
   "cell_type": "code",
   "execution_count": null,
   "metadata": {},
   "outputs": [],
   "source": [
    "test_list_1 = [1, -2, -3, 1]\n",
    "test_list_2 = [-1]\n",
    "\n"
   ]
  },
  {
   "cell_type": "code",
   "execution_count": null,
   "metadata": {},
   "outputs": [],
   "source": []
  },
  {
   "cell_type": "markdown",
   "metadata": {},
   "source": [
    "> **Q2) Let's generate some fake data for our next exercise.** \n",
    "\n",
    "> We are generating monthly sales for each department in a store, for the year 2044."
   ]
  },
  {
   "cell_type": "code",
   "execution_count": null,
   "metadata": {},
   "outputs": [],
   "source": [
    "import random\n",
    "\n",
    "dept_store_sales = [\n",
    "    {'dept_name':'Food', '2044_monthly_sales': []},\n",
    "    {'dept_name':'Kids', '2044_monthly_sales': []},\n",
    "    {'dept_name':'Women', '2044_monthly_sales': []},\n",
    "    {'dept_name':'Men', '2044_monthly_sales': []}\n",
    "]\n",
    "\n",
    "for dept in dept_store_sales:\n",
    "    dept['2044_monthly_sales'] = random.sample(range(10000, 50000), 12)\n"
   ]
  },
  {
   "cell_type": "code",
   "execution_count": null,
   "metadata": {},
   "outputs": [],
   "source": [
    "dept_store_sales[0]"
   ]
  },
  {
   "cell_type": "markdown",
   "metadata": {},
   "source": [
    "> **Q2A) Loop through all the monthly sales for all departments, adding each amount to the `total_2044_sales` variable defined below.**"
   ]
  },
  {
   "cell_type": "code",
   "execution_count": null,
   "metadata": {},
   "outputs": [],
   "source": [
    "total_2044_sales = 0\n",
    "  "
   ]
  },
  {
   "cell_type": "code",
   "execution_count": null,
   "metadata": {},
   "outputs": [],
   "source": []
  },
  {
   "cell_type": "code",
   "execution_count": null,
   "metadata": {},
   "outputs": [],
   "source": []
  },
  {
   "cell_type": "markdown",
   "metadata": {},
   "source": [
    "> **Q2B) Write a function that calculates and returns the percent of total sales (for 2044) for each department.**\n",
    "\n",
    "> Then use your function on the simulated data in `dept_store_sales`."
   ]
  },
  {
   "cell_type": "code",
   "execution_count": null,
   "metadata": {},
   "outputs": [],
   "source": []
  },
  {
   "cell_type": "code",
   "execution_count": null,
   "metadata": {},
   "outputs": [],
   "source": []
  },
  {
   "cell_type": "markdown",
   "metadata": {},
   "source": [
    "> **Q3) Building a Copy**\n",
    "\n",
    "> Write a function called `copy_list()` that takes in a list, `original_list`, as a parameter. \n",
    "\n",
    "> Your function should create a new list, `my_new_list`, with the contents of the original list + 2 each. \n",
    "\n",
    "> Your function should return `my_new_list`.\n"
   ]
  },
  {
   "cell_type": "code",
   "execution_count": null,
   "metadata": {},
   "outputs": [],
   "source": []
  },
  {
   "cell_type": "code",
   "execution_count": null,
   "metadata": {},
   "outputs": [],
   "source": []
  }
 ],
 "metadata": {
  "kernelspec": {
   "display_name": "Python 3",
   "language": "python",
   "name": "python3"
  },
  "language_info": {
   "codemirror_mode": {
    "name": "ipython",
    "version": 3
   },
   "file_extension": ".py",
   "mimetype": "text/x-python",
   "name": "python",
   "nbconvert_exporter": "python",
   "pygments_lexer": "ipython3",
   "version": "3.6.8"
  }
 },
 "nbformat": 4,
 "nbformat_minor": 2
}
