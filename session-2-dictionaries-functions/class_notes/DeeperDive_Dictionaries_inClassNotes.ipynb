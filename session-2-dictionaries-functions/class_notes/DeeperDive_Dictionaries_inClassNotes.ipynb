{
 "cells": [
  {
   "cell_type": "markdown",
   "metadata": {},
   "source": [
    "# Deeper Dive: Dictionaries"
   ]
  },
  {
   "cell_type": "markdown",
   "metadata": {},
   "source": [
    "In this section, you will learn how to:\n",
    "- **use Python’s dictionaries**, which allow you to connect pieces of related information. \n",
    "- **access and modify** the information in a dictionary. \n",
    "- **loop through** the data in **a dictionary**. \n",
    "- **nest dictionaries** inside lists, lists inside dictionaries, and even dictionaries inside other dictionaries.\n",
    "***"
   ]
  },
  {
   "cell_type": "markdown",
   "metadata": {},
   "source": [
    "---\n",
    "\n",
    "**Below is a phone directory, which is a great example of a dictionary.**\n",
    "\n",
    "*[Why is that?]*"
   ]
  },
  {
   "cell_type": "code",
   "execution_count": null,
   "metadata": {},
   "outputs": [],
   "source": [
    "#-----------------------------#\n",
    "# Luna          | 444 - 4444\n",
    "# Tee           | 123 - 4567\n",
    "# Ada Lovelace  | 101 - 0101\n",
    "#-----------------------------#"
   ]
  },
  {
   "cell_type": "markdown",
   "metadata": {},
   "source": [
    "**Using what we have learned so far, how would we build a program that takes a name and provides me with the person’s number if they are in our contacts?**\n"
   ]
  },
  {
   "cell_type": "code",
   "execution_count": null,
   "metadata": {},
   "outputs": [],
   "source": [
    "# One possible solution: \n",
    "\n",
    "person_to_find = input(\"Whose number do you need? \")\n",
    "\n",
    "if person_to_find.title() == 'Luna':\n",
    "    print('444 - 4444')\n",
    "elif person_to_find.title() == 'Tee':\n",
    "    print('123 - 4567')\n",
    "elif person_to_find.title() == 'Ada Lovelace':\n",
    "    print('101 - 0101')\n",
    "else:\n",
    "    print(\"You are not friends with that person. Sorry.\")"
   ]
  },
  {
   "cell_type": "markdown",
   "metadata": {},
   "source": [
    "#### TAKEAWAY: When an if-elif-else chain isn’t the best approach...\n",
    "\n",
    "What is the biggest issue with using an `if-elif-else` chain to keep track of information as we did in the phonebook solution above?\n",
    "\n",
    "The biggest issue is the fact that the solution is hard-coding information into the program, rather than storing and accessing information in a collection.\n"
   ]
  },
  {
   "cell_type": "markdown",
   "metadata": {
    "collapsed": true
   },
   "source": [
    "##### Enter: Dictionaries\n",
    "\n",
    "- A dictionary is a collection of key-value pairs.\n",
    "- A key-value pair is a set of values associated with each other.\n",
    "- A dictionary is accessed by key (not position)\n",
    "- A key is unique and *must* be immutable.\n",
    "\n",
    "Below is our phone directory in a python dictionary object:"
   ]
  },
  {
   "cell_type": "code",
   "execution_count": null,
   "metadata": {},
   "outputs": [],
   "source": [
    "phone_book = {\n",
    "    'Luna': '444 - 4444',\n",
    "    'Tee': '123 - 4567',\n",
    "    'Ada Lovelace': '101 - 0101',\n",
    "    }"
   ]
  },
  {
   "cell_type": "markdown",
   "metadata": {},
   "source": [
    "> _SYNTAX:_\n",
    "\n",
    "> `dictionary_name = { ‘key1’: ‘value1’, ‘key2’: ’value2’ }`\n",
    "\n",
    "- Dictionaries are indicated by the curly braces `{ }`\n",
    "- Key-value pairs are separated by commas\n",
    "- Keys precede their values and go before the colon `:` Values go after the colon\n",
    "\n",
    "---\n",
    "\n",
    "__To get the value associated with a key:__ \n",
    "- give the name of the dictionary\n",
    "- and then place the key inside a set of square brackets\n",
    "\n",
    "as shown below:"
   ]
  },
  {
   "cell_type": "code",
   "execution_count": null,
   "metadata": {},
   "outputs": [],
   "source": [
    "print(phone_book['Luna'])"
   ]
  },
  {
   "cell_type": "markdown",
   "metadata": {},
   "source": [
    "##### And you can assign values found in the dictionary to variables by referencing their keys.\n"
   ]
  },
  {
   "cell_type": "code",
   "execution_count": null,
   "metadata": {},
   "outputs": [],
   "source": [
    "person_to_find = (input(\"Whose number do you need? \"))   ## .title()\n",
    "number = phone_book[person_to_find]\n",
    "\n",
    "print(person_to_find + \": \" + number)"
   ]
  },
  {
   "cell_type": "markdown",
   "metadata": {},
   "source": [
    "**Is the key case-sensitive?**"
   ]
  },
  {
   "cell_type": "code",
   "execution_count": null,
   "metadata": {},
   "outputs": [],
   "source": []
  },
  {
   "cell_type": "markdown",
   "metadata": {},
   "source": [
    "---\n",
    "# GUIDED WALKTHROUGH: Dictionaries"
   ]
  },
  {
   "cell_type": "markdown",
   "metadata": {},
   "source": [
    "---\n",
    "## Working with Dictionaries\n",
    "\n",
    "### Accessing items in a Dictionary\n",
    "- reference key for value\n",
    "- .keys()\n",
    "- .values()"
   ]
  },
  {
   "cell_type": "code",
   "execution_count": null,
   "metadata": {},
   "outputs": [],
   "source": [
    "# Let's continue with our phonebook example.\n",
    "\n",
    "phone_book = {\n",
    "    'Luna': '444 - 4444',\n",
    "    'Tee': '123 - 4567',\n",
    "    'Ada Lovelace': '101 - 0101',\n",
    "    }"
   ]
  },
  {
   "cell_type": "markdown",
   "metadata": {},
   "source": [
    "---\n",
    "\n",
    "**To access the information in a dictionary object, you can reference a key for its value using the syntax shown below.**\n",
    "\n",
    "> SYNTAX:\n",
    "\n",
    "> `dictionary_name['key'] ==> 'value'`"
   ]
  },
  {
   "cell_type": "code",
   "execution_count": null,
   "metadata": {},
   "outputs": [],
   "source": [
    "phone_book['Ada Lovelace']"
   ]
  },
  {
   "cell_type": "markdown",
   "metadata": {},
   "source": [
    "But what if you don't know what keys exist in the dictionary?\n",
    "\n",
    "---\n",
    "**To check what keys are in the dictionary, use .keys() method:**\n",
    "\n",
    "(method creates an iterable view object)"
   ]
  },
  {
   "cell_type": "code",
   "execution_count": null,
   "metadata": {},
   "outputs": [],
   "source": [
    "print(phone_book.keys())\n",
    "print(type(phone_book.keys()))"
   ]
  },
  {
   "cell_type": "markdown",
   "metadata": {},
   "source": [
    "> We can loop through this iterable view object:"
   ]
  },
  {
   "cell_type": "code",
   "execution_count": null,
   "metadata": {},
   "outputs": [],
   "source": [
    "for k in phone_book.keys():\n",
    "    print(k)"
   ]
  },
  {
   "cell_type": "markdown",
   "metadata": {},
   "source": [
    "> But if we want to use it as a list object, we need to convert it."
   ]
  },
  {
   "cell_type": "code",
   "execution_count": null,
   "metadata": {},
   "outputs": [],
   "source": [
    "list_version = list(phone_book.keys())\n",
    "\n",
    "print(list_version)\n",
    "print(type(list_version))"
   ]
  },
  {
   "cell_type": "markdown",
   "metadata": {},
   "source": [
    "> __Default behavior__ without specifying method is equivalent to using __`.keys()`__:"
   ]
  },
  {
   "cell_type": "code",
   "execution_count": null,
   "metadata": {},
   "outputs": [],
   "source": [
    "for k in phone_book:\n",
    "    print(k)"
   ]
  },
  {
   "cell_type": "markdown",
   "metadata": {},
   "source": [
    "---\n",
    "__To check what values are in the dictionary, use .values() method:__\n",
    "\n",
    "(method creates an iterable view object)"
   ]
  },
  {
   "cell_type": "code",
   "execution_count": null,
   "metadata": {},
   "outputs": [],
   "source": [
    "print(phone_book.values())"
   ]
  },
  {
   "cell_type": "markdown",
   "metadata": {},
   "source": [
    "---\n",
    "\n",
    "__You can use set for a unique list of values:__"
   ]
  },
  {
   "cell_type": "code",
   "execution_count": null,
   "metadata": {},
   "outputs": [],
   "source": [
    "favorite_languages = {\n",
    "    'jim': 'python',\n",
    "    'sarah': 'javascript',\n",
    "    'edward': 'SQL',\n",
    "    'phil': 'python',\n",
    "    }\n",
    "\n",
    "for language in set(favorite_languages.values()):\n",
    "    print(language.title())\n",
    "    \n",
    "    # Add an if statement to your for loop to uppercase all letters for SQL"
   ]
  },
  {
   "cell_type": "markdown",
   "metadata": {},
   "source": [
    "> Add an if statement to the for loop to uppercase all letters for SQL"
   ]
  },
  {
   "cell_type": "code",
   "execution_count": null,
   "metadata": {},
   "outputs": [],
   "source": [
    "# Your Solution\n",
    "\n",
    "\n"
   ]
  },
  {
   "cell_type": "markdown",
   "metadata": {
    "collapsed": true
   },
   "source": [
    "---\n",
    "__To check what items are in the dictionary, use .items() method.__\n",
    "\n",
    "(method creates an iterable view object)"
   ]
  },
  {
   "cell_type": "code",
   "execution_count": null,
   "metadata": {},
   "outputs": [],
   "source": [
    "print(phone_book.items())"
   ]
  },
  {
   "cell_type": "markdown",
   "metadata": {},
   "source": [
    "> The method creates tuple pairs (key, value)\n",
    "> - one for each entry in the dictionary"
   ]
  },
  {
   "cell_type": "code",
   "execution_count": null,
   "metadata": {},
   "outputs": [],
   "source": []
  },
  {
   "cell_type": "markdown",
   "metadata": {},
   "source": [
    "---\n",
    "## Creating dictionaries\n",
    "\n",
    "\n",
    "### Starting with an empty dictionary"
   ]
  },
  {
   "cell_type": "code",
   "execution_count": null,
   "metadata": {},
   "outputs": [],
   "source": [
    "dict_1 = {}"
   ]
  },
  {
   "cell_type": "code",
   "execution_count": null,
   "metadata": {},
   "outputs": [],
   "source": [
    "dict_1['add key'] = 'add value'\n",
    "print(dict_1)"
   ]
  },
  {
   "cell_type": "markdown",
   "metadata": {},
   "source": [
    "> Add a few more key-value pairs to the dictionary called `dict_1`. Or create your own dictionary!"
   ]
  },
  {
   "cell_type": "code",
   "execution_count": null,
   "metadata": {},
   "outputs": [],
   "source": []
  },
  {
   "cell_type": "code",
   "execution_count": null,
   "metadata": {},
   "outputs": [],
   "source": []
  },
  {
   "cell_type": "markdown",
   "metadata": {},
   "source": [
    "---\n",
    "## Updating a Dictionary\n",
    "\n",
    "\n",
    "### Adding New Key-Value Pairs\n",
    "\n",
    "Dictionaries are ___dynamic___ structures, which means you can add new key-value pairs to a dictionary at any time.\n",
    "\n",
    "To add a new key-value pair, you would give the name of the dictionary followed by the new key in square brackets along with the new value. It's the same as adding new key-value pairs to a dictionary.\n",
    "\n",
    "---\n",
    "\n",
    "**Let's add contacts to our phone_book:**"
   ]
  },
  {
   "cell_type": "code",
   "execution_count": null,
   "metadata": {},
   "outputs": [],
   "source": [
    "phone_book = {\n",
    "    'Luna': '444 - 4444',\n",
    "    'Tee': '123 - 4567',\n",
    "    'Ada Lovelace': '101 - 0101',\n",
    "    }"
   ]
  },
  {
   "cell_type": "code",
   "execution_count": null,
   "metadata": {},
   "outputs": [],
   "source": [
    "phone_book['A. Pearson'] = '232 - 2323'\n",
    "phone_book['Another Contact'] = '454 - 4545'\n",
    "\n",
    "phone_book"
   ]
  },
  {
   "cell_type": "markdown",
   "metadata": {},
   "source": [
    "> You can't have the same key twice. Consider the dictionary below:\n"
   ]
  },
  {
   "cell_type": "code",
   "execution_count": null,
   "metadata": {},
   "outputs": [],
   "source": [
    "dict_2 = {'key1': 'value', 1:'One', 2:'Two', 'Three':[1,2,3], 'key1':4}\n"
   ]
  },
  {
   "cell_type": "markdown",
   "metadata": {},
   "source": [
    "> What happens when we try to access 'key1' in dict_2?\n",
    "\n",
    "> Anything missing?"
   ]
  },
  {
   "cell_type": "code",
   "execution_count": null,
   "metadata": {},
   "outputs": [],
   "source": [
    "dict_2['key1']"
   ]
  },
  {
   "cell_type": "code",
   "execution_count": null,
   "metadata": {},
   "outputs": [],
   "source": [
    "dict_2"
   ]
  },
  {
   "cell_type": "markdown",
   "metadata": {},
   "source": [
    "> **Other notes:**\n",
    "\n",
    "> - You can use an integer for a key.\n",
    "\n",
    "> - You can have a list of items assigned to a key in a dictionary.\n",
    "\n",
    "> - Printing a key that doesn't exist gives an error.\n"
   ]
  },
  {
   "cell_type": "markdown",
   "metadata": {},
   "source": [
    "---\n",
    "### Modifying Values in a Dictionary\n",
    "\n",
    "__Assign new value to key__\n",
    "\n",
    "To modify a value in a dictionary, you can use the same syntax you used to add new entries to a dictionary: \n",
    "- give the name of the dictionary with the key in square brackets\n",
    "- then assign the new value you want associated with that key"
   ]
  },
  {
   "cell_type": "code",
   "execution_count": null,
   "metadata": {},
   "outputs": [],
   "source": [
    "phone_book.items()\n",
    "\n",
    "phone_book['A. Pearson'] = '333 - 3333'\n",
    "print(phone_book['A. Pearson'])"
   ]
  },
  {
   "cell_type": "code",
   "execution_count": null,
   "metadata": {},
   "outputs": [],
   "source": [
    "phone_book"
   ]
  },
  {
   "cell_type": "code",
   "execution_count": null,
   "metadata": {},
   "outputs": [],
   "source": []
  },
  {
   "cell_type": "markdown",
   "metadata": {},
   "source": [
    "### Removing Items from a Dictionary\n",
    "- del\n",
    "- .clear()\n",
    "- .popitem()\n",
    "- .pop()\n",
    "\n",
    "---\n",
    "\n",
    "__You can use the `del` statement to permanently and completely remove a key-value pair__ \n",
    "\n",
    "(and leave the rest of the dictionary unaffected)."
   ]
  },
  {
   "cell_type": "code",
   "execution_count": null,
   "metadata": {},
   "outputs": [],
   "source": [
    "del phone_book['A. Pearson']\n",
    "\n",
    "print(phone_book.keys())"
   ]
  },
  {
   "cell_type": "markdown",
   "metadata": {},
   "source": [
    "---\n",
    "__You can use the `.clear()` method to remove all items from a dictionary__\n"
   ]
  },
  {
   "cell_type": "code",
   "execution_count": null,
   "metadata": {},
   "outputs": [],
   "source": [
    "another_phonebook = {\n",
    "    'P1': '1emailAddress@gmail.com',\n",
    "    'P2': 'emailAddress2@gmail.com',\n",
    "    'P3': 'P3emailAddress@gmail.com',\n",
    "    }\n",
    "\n",
    "another_phonebook"
   ]
  },
  {
   "cell_type": "code",
   "execution_count": null,
   "metadata": {},
   "outputs": [],
   "source": [
    "another_phonebook.clear()\n",
    "print(another_phonebook)"
   ]
  },
  {
   "cell_type": "markdown",
   "metadata": {},
   "source": [
    "---\n",
    "__You can specify the item you want to pop out using `.pop()` method.__ \n",
    "\n",
    "- The method returns the value associated with the key that is specified, or a key error or default if key is non-existent.\n"
   ]
  },
  {
   "cell_type": "code",
   "execution_count": null,
   "metadata": {},
   "outputs": [],
   "source": [
    "pop_2 = phone_book.pop('Tee')\n",
    "\n",
    "print(phone_book)\n",
    "print('\\n')\n",
    "print(pop_2)\n",
    "\n"
   ]
  },
  {
   "cell_type": "code",
   "execution_count": null,
   "metadata": {},
   "outputs": [],
   "source": [
    "# What's happening here?\n",
    "\n",
    "pop_2 = phone_book.pop('Friend One', \"Nope\")\n",
    "\n",
    "print(pop_2)"
   ]
  },
  {
   "cell_type": "code",
   "execution_count": null,
   "metadata": {},
   "outputs": [],
   "source": []
  },
  {
   "cell_type": "markdown",
   "metadata": {},
   "source": [
    "---\n",
    "\n",
    "# ☕️ You should take a break! ☕️"
   ]
  },
  {
   "cell_type": "code",
   "execution_count": null,
   "metadata": {},
   "outputs": [],
   "source": []
  },
  {
   "cell_type": "markdown",
   "metadata": {},
   "source": [
    "--- \n",
    "# Nested Dictionaries\n",
    "\n",
    "### Here is an example of a nested dictionary:"
   ]
  },
  {
   "cell_type": "code",
   "execution_count": null,
   "metadata": {},
   "outputs": [],
   "source": [
    "nested_example = {'info': {42: 1, type(''): 2}, 'spam': [1,2,3,'four']}"
   ]
  },
  {
   "cell_type": "markdown",
   "metadata": {},
   "source": [
    "> If we wanted to access the value associated with the key `42`, you would use the syntax below:"
   ]
  },
  {
   "cell_type": "code",
   "execution_count": null,
   "metadata": {},
   "outputs": [],
   "source": [
    "print(nested_example['info'][42]) # fetches 1"
   ]
  },
  {
   "cell_type": "markdown",
   "metadata": {},
   "source": [
    "---\n",
    "\n",
    "> You can nest a dictionary inside another dictionary.\n",
    "\n",
    "> For example, if you have several users for a website, each with a unique username, you can use the usernames as the keys in a dictionary.\n",
    "\n",
    "> You can then store information about each user by using a dictionary as the value associated with their username.\n",
    "\n",
    "\n",
    "In the following dictionary, we store three pieces of information about each user:\n",
    "- their first name\n",
    "- last name\n",
    "- location\n",
    "\n",
    "We’ll access this information by: \n",
    "- looping through the usernames \n",
    "- and the dictionary of information associated with each username"
   ]
  },
  {
   "cell_type": "code",
   "execution_count": null,
   "metadata": {},
   "outputs": [],
   "source": [
    "users = {\n",
    "    'aeinstein': {\n",
    "    'first': 'albert',\n",
    "    'last': 'einstein',\n",
    "    'location': 'princeton',\n",
    "    },\n",
    "    'mcurie': {\n",
    "    'first': 'marie',\n",
    "    'last': 'curie',\n",
    "    'location': 'paris',\n",
    "    },\n",
    "    }"
   ]
  },
  {
   "cell_type": "markdown",
   "metadata": {},
   "source": [
    "> **Let's review a program that loops through nested dictionaries:**\n"
   ]
  },
  {
   "cell_type": "code",
   "execution_count": null,
   "metadata": {},
   "outputs": [],
   "source": [
    "for username, user_info in users.items():\n",
    "    print(\"\\nUsername: \" + username)\n",
    "\n",
    "    full_name = user_info['first'] + \" \" + user_info['last']\n",
    "    location = user_info['location']\n",
    "    print(\"\\tFull name: \" + full_name.title())\n",
    "    print(\"\\tLocation: \" + location.title())"
   ]
  },
  {
   "cell_type": "markdown",
   "metadata": {
    "collapsed": true
   },
   "source": [
    "- In the example above, notice that the structure of each user’s dictionary is identical.\n",
    "- Although not required by Python, this structure makes nested dictionaries easier to work with.\n",
    "- If each user’s dictionary had different keys, the code inside the for loop would be more complicated.\n",
    "\n",
    "> __NOTE:__\n",
    "\n",
    "> You should not nest lists and dictionaries too deeply.\n",
    "\n",
    "> If you’re nesting items much deeper than what you see in the preceding examples or you’re working with someone else’s code with significant levels of nesting, most likely a simpler way to solve the problem exists.\n"
   ]
  },
  {
   "cell_type": "code",
   "execution_count": null,
   "metadata": {},
   "outputs": [],
   "source": []
  },
  {
   "cell_type": "code",
   "execution_count": null,
   "metadata": {},
   "outputs": [],
   "source": []
  },
  {
   "cell_type": "markdown",
   "metadata": {},
   "source": [
    "---\n",
    "# GUIDED WALKTHROUGH: Nesting Dictionaries\n",
    "\n",
    "---\n",
    "## List OF dictionaries\n",
    "\n",
    "- It’s common to store a number of dictionaries in a list when each dictionary contains many kinds of information about one object.\n",
    "\n",
    "- For example, you might create a dictionary for each user on a website and store the individual dictionaries in a list called users.\n",
    "\n",
    "- All of the dictionaries in the list **should have an identical structure** so you can loop through the list and work with each dictionary object in the same way.\n",
    "\n",
    "---\n",
    "\n",
    "> Consider the dictionary called `users` below. \n",
    "\n",
    "> **Filter through the array of users, returning only those who are older than 18. Add these users to a new list and print the list.**\n",
    "\n",
    "> Expected Output:\n",
    "\n",
    "> `[{'age': 21, 'name': 'Sally'},\n",
    "  {'age': 77, 'name': 'Moe'},\n",
    "  {'age': 19, 'name': 'Leslie'}]`"
   ]
  },
  {
   "cell_type": "code",
   "execution_count": null,
   "metadata": {},
   "outputs": [],
   "source": [
    "users = [\n",
    "    {'name': 'John', 'age': 17},\n",
    "    {'name': 'Sally', 'age': 21},\n",
    "    {'name': 'Bill', 'age': 10},\n",
    "    {'name': 'Moe', 'age': 77},\n",
    "    {'name': 'Jane', 'age': 18},\n",
    "    {'name': 'Leslie', 'age': 19}\n",
    "]"
   ]
  },
  {
   "cell_type": "code",
   "execution_count": null,
   "metadata": {},
   "outputs": [],
   "source": []
  },
  {
   "cell_type": "code",
   "execution_count": null,
   "metadata": {},
   "outputs": [],
   "source": []
  },
  {
   "cell_type": "markdown",
   "metadata": {},
   "source": [
    "> Consider the dictionary called `users` below. \n",
    "\n",
    "> **Filter through the array of users, returning only those who are students. Add these students to a new list and print the list.**\n",
    "\n",
    "> Expected Output:\n",
    "\n",
    "> `[{'name': 'Kelly', 'role': 'Student'},\n",
    "  {'name': 'Alex', 'role': 'Student'},\n",
    "  {'name': 'Lia', 'role': 'Student'}]`\n",
    "    "
   ]
  },
  {
   "cell_type": "code",
   "execution_count": null,
   "metadata": {},
   "outputs": [],
   "source": [
    "users = [\n",
    "    {'name': 'Kelly', 'role': 'Student'},\n",
    "    {'name': 'Alex', 'role': 'Student'},\n",
    "    {'name': 'Lia', 'role': 'Student'},\n",
    "    {'name': 'Luna', 'role': 'Teacher'}\n",
    "]"
   ]
  },
  {
   "cell_type": "code",
   "execution_count": null,
   "metadata": {},
   "outputs": [],
   "source": []
  },
  {
   "cell_type": "code",
   "execution_count": null,
   "metadata": {},
   "outputs": [],
   "source": []
  },
  {
   "cell_type": "markdown",
   "metadata": {},
   "source": [
    "> Consider the list called `names` below. \n",
    "\n",
    "> **Return a list of full names based on the dictionaries in the list.**\n",
    "\n",
    "> Expected Output:\n",
    "\n",
    "> `['Grace Hopper', 'Radia Perlman', 'Ada Lovelace']`"
   ]
  },
  {
   "cell_type": "code",
   "execution_count": null,
   "metadata": {},
   "outputs": [],
   "source": [
    "names = [\n",
    "    {'first_name': 'Grace', 'last_name': 'Hopper'},\n",
    "    {'first_name': 'Radia', 'last_name': 'Perlman'},\n",
    "    {'first_name': 'Ada', 'last_name': 'Lovelace'}\n",
    "]"
   ]
  },
  {
   "cell_type": "code",
   "execution_count": null,
   "metadata": {},
   "outputs": [],
   "source": []
  },
  {
   "cell_type": "code",
   "execution_count": null,
   "metadata": {},
   "outputs": [],
   "source": []
  },
  {
   "cell_type": "markdown",
   "metadata": {},
   "source": [
    "# Notes from end of session -- actual task brainstorming"
   ]
  },
  {
   "cell_type": "code",
   "execution_count": 1,
   "metadata": {},
   "outputs": [
    {
     "name": "stdout",
     "output_type": "stream",
     "text": [
      "['fake', 'name']\n",
      "['last', 'name']\n"
     ]
    }
   ],
   "source": [
    "new_list = ['fake name', 'last name']\n",
    "\n",
    "for item in new_list:\n",
    "    print(item.split(\" \"))"
   ]
  },
  {
   "cell_type": "code",
   "execution_count": null,
   "metadata": {},
   "outputs": [],
   "source": []
  }
 ],
 "metadata": {
  "kernelspec": {
   "display_name": "Python 3",
   "language": "python",
   "name": "python3"
  },
  "language_info": {
   "codemirror_mode": {
    "name": "ipython",
    "version": 3
   },
   "file_extension": ".py",
   "mimetype": "text/x-python",
   "name": "python",
   "nbconvert_exporter": "python",
   "pygments_lexer": "ipython3",
   "version": "3.6.8"
  }
 },
 "nbformat": 4,
 "nbformat_minor": 2
}
