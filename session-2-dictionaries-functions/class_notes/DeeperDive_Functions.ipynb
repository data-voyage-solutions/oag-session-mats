{
 "cells": [
  {
   "cell_type": "code",
   "execution_count": null,
   "metadata": {},
   "outputs": [],
   "source": []
  },
  {
   "cell_type": "markdown",
   "metadata": {},
   "source": [
    "---\n",
    "# Functions\n",
    "\n",
    "---\n",
    "\n",
    "### Introduction to user-defined functions\n",
    "\n",
    "In this lesson, we'll learn to write functions, which are named blocks of code that are _designed to do one specific job_.\n",
    "\n",
    "---\n",
    "\n",
    "**Here’s a simple function named `greet_user()` that prints a greeting:**\n"
   ]
  },
  {
   "cell_type": "code",
   "execution_count": null,
   "metadata": {},
   "outputs": [],
   "source": [
    "def greet_user():\n",
    "    \"\"\"Display a simple greeting.\"\"\"\n",
    "    print(\"Hello!\")"
   ]
  },
  {
   "cell_type": "markdown",
   "metadata": {},
   "source": [
    "__Why didn't anything print?__"
   ]
  },
  {
   "cell_type": "code",
   "execution_count": null,
   "metadata": {},
   "outputs": [],
   "source": []
  },
  {
   "cell_type": "markdown",
   "metadata": {},
   "source": [
    "** **\n",
    "_Notes on syntax:_\n",
    "\n",
    "- The keyword `def` informs Python that you are defining a function.\n",
    "- This is the function definition, which tells Python: \n",
    "    - the name of the function \n",
    "    - and, if applicaable, what kind of information the function needs to do its job.\n",
    "- Any indented lines that follow `def greet_user():` make up the body of the function.\n",
    "\n",
    "\n",
    "__Now let's use that function!__\n",
    "\n",
    "___\n",
    "\n",
    "### Calling a function:"
   ]
  },
  {
   "cell_type": "code",
   "execution_count": null,
   "metadata": {},
   "outputs": [],
   "source": [
    "greet_user()"
   ]
  },
  {
   "cell_type": "markdown",
   "metadata": {},
   "source": [
    "#### When you want to use this function, you call it.\n",
    "\n",
    "A function call tells Python to execute the code in the function.\n",
    "\n",
    "- To call a function, you write the name of the function, followed by any necessary information in parentheses.\n",
    "\n",
    "Because no information is needed in the example above, calling our function is as simple as entering `greet_user()`.\n",
    "\n",
    "---\n",
    "\n",
    "---\n",
    "\n",
    "What about this line of code:\n",
    "> `\"\"\"Display a simple greeting.\"\"\"`\n",
    "\n",
    "This is a comment called a __docstring__, which describes what the function does.\n",
    "- Docstrings are enclosed in triple quotes, which Python looks for when it generates documentation for the functions in your programs.\n",
    "\n",
    "__Use the `help()` function to generate the docstrings in the function.__"
   ]
  },
  {
   "cell_type": "code",
   "execution_count": null,
   "metadata": {},
   "outputs": [],
   "source": [
    "help(greet_user)\n",
    "\n",
    "\n",
    "# You can try the `help()` function with any built-in function, like `range()`.\n",
    "# help(range)"
   ]
  },
  {
   "cell_type": "markdown",
   "metadata": {},
   "source": [
    "***\n",
    "\n",
    "## Passing information to a function\n",
    "\n",
    "#### What's going on in the function below?\n",
    "- What is the main difference from the previous version of this function?\n",
    "\n",
    "** **\n"
   ]
  },
  {
   "cell_type": "code",
   "execution_count": null,
   "metadata": {},
   "outputs": [],
   "source": [
    "def greet_user(username):\n",
    "    \"\"\"Display a simple greeting.\"\"\"\n",
    "    print(\"Hello, \" + username.title() + \"!\")\n",
    "\n",
    "\n",
    "greet_user('jesse')"
   ]
  },
  {
   "cell_type": "markdown",
   "metadata": {},
   "source": [
    "___\n",
    "### Arguments and Parameters\n",
    "\n",
    "1) We defined `greet_user()` to __require__ a value for the variable `username`.\n",
    "\n",
    "2) Once we called the function and gave it the information it requires (a person’s name), it printed the greeting.\n",
    "\n",
    "- The variable `username` in the definition of `greet_user()` is an example of a __parameter__, a piece of information the function needs to do its job.\n",
    "\n",
    "- The value 'jesse' in `greet_user('jesse')` is an example of an __argument__, a piece of information that is passed from a function call to a function.\n",
    "\n",
    "When we call the function, we place the value we want the function to work with in parentheses.\n",
    "\n",
    "- In this case the argument 'jesse' was passed to the function `greet_user()`, and the value was stored in the parameter `username`.\n",
    "\n",
    "> __NOTE:__\n",
    "\n",
    "> People sometimes speak of arguments and parameters interchangeably. Don’t be surprised if you see the variables in a function definition referred to as arguments or the variables in a function call referred to as parameters."
   ]
  },
  {
   "cell_type": "code",
   "execution_count": null,
   "metadata": {},
   "outputs": [],
   "source": []
  },
  {
   "cell_type": "markdown",
   "metadata": {},
   "source": [
    "___\n",
    "### Avoiding Argument Errors\n",
    "\n",
    "__Unmatched arguments__ occur when you provide _fewer or more arguments_ than a function needs to do its work. \n",
    "\n",
    "- For example, here’s what happens if we try to call `greet_user()` with no arguments:"
   ]
  },
  {
   "cell_type": "code",
   "execution_count": null,
   "metadata": {},
   "outputs": [],
   "source": [
    "greet_user()"
   ]
  },
  {
   "cell_type": "markdown",
   "metadata": {},
   "source": [
    "- And here’s what happens if we try to call `greet_user()` with 2 arguments:"
   ]
  },
  {
   "cell_type": "code",
   "execution_count": null,
   "metadata": {},
   "outputs": [],
   "source": [
    "greet_user('person1','person2')"
   ]
  },
  {
   "cell_type": "markdown",
   "metadata": {},
   "source": [
    "__Answer: Python recognizes that some information is missing from the function call.__\n",
    "\n",
    "Python is helpful in that it reads the function’s code for us and tells us the names of the arguments we need to provide in the error message.\n",
    "- This is another motivation for giving your variables and functions descriptive names.\n",
    "- If you do, Python’s error messages will be more useful to you and anyone else who might use your code.\n",
    "\n",
    "If you provide too many arguments, you should get a similar traceback that can help you correctly match your function call to the function definition."
   ]
  },
  {
   "cell_type": "code",
   "execution_count": null,
   "metadata": {},
   "outputs": [],
   "source": []
  },
  {
   "cell_type": "code",
   "execution_count": null,
   "metadata": {},
   "outputs": [],
   "source": []
  },
  {
   "cell_type": "markdown",
   "metadata": {},
   "source": [
    "---\n",
    "\n",
    "# ☕️ You should take a break! ☕️"
   ]
  },
  {
   "cell_type": "code",
   "execution_count": null,
   "metadata": {},
   "outputs": [],
   "source": []
  },
  {
   "cell_type": "code",
   "execution_count": null,
   "metadata": {},
   "outputs": [],
   "source": []
  },
  {
   "cell_type": "markdown",
   "metadata": {},
   "source": [
    "# Functions: Multiple Parameters\n",
    "\n",
    "- Because a function definition can have multiple parameters, a function call may need multiple arguments.\n",
    "\n",
    "> You can pass arguments to your functions in a number of ways.\n",
    "\n",
    "> You can use:\n",
    "> - __positional arguments__, which need to be in the same order the parameters were written\n",
    "> - __keyword arguments__, where each argument consists of a variable name and a value\n",
    "> - __lists and dictionaries__ of values\n",
    "  \n",
    "** **\n",
    "\n",
    "Let's Review:\n",
    "\n",
    "    - Positional Arguments\n",
    "    - Keyword Arguments\n",
    "    \n",
    "---"
   ]
  },
  {
   "cell_type": "markdown",
   "metadata": {},
   "source": [
    "### Positional Arguments\n",
    "\n",
    "When you call a function, Python must match each argument in the function call with a parameter in the function definition.\n",
    "\n",
    "> The simplest way to do this is based on the __order of the arguments provided__.\n",
    "\n",
    "> Values matched up this way are called __positional arguments__.\n"
   ]
  },
  {
   "cell_type": "code",
   "execution_count": null,
   "metadata": {},
   "outputs": [],
   "source": [
    "def describe_pet(animal_type, pet_name):\n",
    "    \"\"\"Display information about a pet.\"\"\"\n",
    "    print(\"\\nI have a \" + animal_type + \".\")\n",
    "    print(\"My \" + animal_type + \"'s name is \" + pet_name.title() + \".\")"
   ]
  },
  {
   "cell_type": "markdown",
   "metadata": {},
   "source": [
    "__Notes:__\n",
    "\n",
    "- You can use _as many_ positional arguments as you need in your functions.\n",
    "- Python works through the arguments you provide when calling the function and matches each one with the corresponding parameter in the function’s definition.\n"
   ]
  },
  {
   "cell_type": "code",
   "execution_count": null,
   "metadata": {},
   "outputs": [],
   "source": [
    "describe_pet('hamster', 'harry')\n",
    "describe_pet('dog', 'willie')\n",
    "describe_pet('cat', 'felix')"
   ]
  },
  {
   "cell_type": "markdown",
   "metadata": {},
   "source": [
    "** **\n",
    "\n",
    "__What's happening in the function call below?__"
   ]
  },
  {
   "cell_type": "code",
   "execution_count": null,
   "metadata": {},
   "outputs": [],
   "source": [
    "describe_pet('harry', 'hamster')"
   ]
  },
  {
   "cell_type": "markdown",
   "metadata": {},
   "source": [
    "__Answer: Order matters in positional arguments.__\n",
    "\n",
    "You can get unexpected results if you mix up the order of the arguments in a function call when using positional arguments.\n",
    "\n",
    "- In this function call, we list the name first and the type of animal second.\n",
    "- Because the argument 'harry' is listed first this time, that value is stored in the parameter `animal_type`.\n",
    "- Likewise, 'hamster' is stored in `pet_name`."
   ]
  },
  {
   "cell_type": "code",
   "execution_count": null,
   "metadata": {},
   "outputs": [],
   "source": []
  },
  {
   "cell_type": "markdown",
   "metadata": {},
   "source": [
    "** **\n",
    "### Keyword Arguments\n",
    " \n",
    "A keyword argument is a __name-value pair__ that you pass to a function.\n",
    "\n",
    "_Advantages of keyword arguments:_\n",
    "- You directly associate the name and the value within the argument, so when you pass the argument to the function, there’s no confusion (you won’t end up with a harry named Hamster).\n",
    "\n",
    "- Keyword arguments free you from having to worry about correctly ordering your arguments in the function call, and they clarify the role of each value in the function call."
   ]
  },
  {
   "cell_type": "code",
   "execution_count": null,
   "metadata": {},
   "outputs": [],
   "source": [
    "def describe_pet(animal_type, pet_name):\n",
    "    \"\"\"Display information about a pet.\"\"\"\n",
    "    print(\"\\nI have a \" + animal_type + \".\")\n",
    "    print(\"My \" + animal_type + \"'s name is \" + pet_name.title() + \".\")"
   ]
  },
  {
   "cell_type": "markdown",
   "metadata": {},
   "source": [
    "> __NOTE:__ The function `describe_pet()` hasn’t changed.\n"
   ]
  },
  {
   "cell_type": "code",
   "execution_count": null,
   "metadata": {},
   "outputs": [],
   "source": [
    "describe_pet(pet_name='harry', animal_type='hamster')"
   ]
  },
  {
   "cell_type": "markdown",
   "metadata": {},
   "source": [
    "- But now when we call the function, we __explicitly__ tell Python which parameter each argument should be matched with.\n",
    "- When Python reads the function call, it knows to store the argument 'hamster' in the parameter `animal_type` and the argument 'harry' in `pet_name`.\n",
    "    - The output correctly shows that we have a hamster named Harry.\n",
    "\n",
    "#### The order of keyword arguments doesn’t matter because Python knows where each value should go.\n",
    "\n",
    "The following two function calls are equivalent:"
   ]
  },
  {
   "cell_type": "code",
   "execution_count": null,
   "metadata": {},
   "outputs": [],
   "source": [
    "describe_pet(animal_type='hamster', pet_name='harry')"
   ]
  },
  {
   "cell_type": "code",
   "execution_count": null,
   "metadata": {},
   "outputs": [],
   "source": [
    "describe_pet(pet_name='harry', animal_type='hamster')"
   ]
  },
  {
   "cell_type": "markdown",
   "metadata": {},
   "source": [
    "> __NOTE:__\n",
    "\n",
    "> - When you use keyword arguments, be sure to use the _exact_ names of the parameters in the function’s definition."
   ]
  },
  {
   "cell_type": "code",
   "execution_count": null,
   "metadata": {},
   "outputs": [],
   "source": []
  },
  {
   "cell_type": "markdown",
   "metadata": {},
   "source": [
    "---\n",
    "\n",
    "# ☕️ You should take a break! ☕️"
   ]
  },
  {
   "cell_type": "code",
   "execution_count": null,
   "metadata": {},
   "outputs": [],
   "source": []
  },
  {
   "cell_type": "markdown",
   "metadata": {},
   "source": [
    "---\n",
    "# GUIDED WALKTHROUGH: Return Statement\n",
    "\n",
    "---\n",
    "\n",
    "A function doesn’t always have to display its output directly.\n",
    "\n",
    "- In fact, some would argue that printing in a function should really only be used for debugging or learning.\n",
    "\n",
    "> Instead, it can process some data and then __return__ a value or set of values.\n",
    "\n",
    "> The value the function returns is called a ___return value___.\n",
    "\n",
    "\n",
    "The `return` statement takes a value from inside a function and sends it back to the line that called the function.\n",
    "\n",
    "Return values allow you to move much of your program’s grunt work into functions, which can simplify the body of your program.\n",
    "  \n",
    "** **\n",
    "\n",
    "Topics to review:\n",
    "\n",
    "- Returning a Simple Value\n"
   ]
  },
  {
   "cell_type": "code",
   "execution_count": null,
   "metadata": {},
   "outputs": [],
   "source": []
  },
  {
   "cell_type": "markdown",
   "metadata": {},
   "source": [
    "** **\n",
    "### Returning a Simple Value\n",
    "\n",
    "> Let’s look at a function that takes a first and last name, and creates a neatly formatted full name:"
   ]
  },
  {
   "cell_type": "code",
   "execution_count": null,
   "metadata": {},
   "outputs": [],
   "source": [
    "def get_formatted_name(first_name, last_name):\n",
    "    \"\"\"Return a full name, neatly formatted.\"\"\"\n",
    "    full_name = first_name + ' ' + last_name"
   ]
  },
  {
   "cell_type": "code",
   "execution_count": null,
   "metadata": {},
   "outputs": [],
   "source": [
    "musician = get_formatted_name('regina', 'spektor')\n",
    "print(musician)"
   ]
  },
  {
   "cell_type": "markdown",
   "metadata": {},
   "source": [
    "> Now let's at a function that takes a first and last name, and ***returns*** a neatly formatted full name:"
   ]
  },
  {
   "cell_type": "code",
   "execution_count": null,
   "metadata": {},
   "outputs": [],
   "source": [
    "def get_formatted_name(first_name, last_name):\n",
    "    \"\"\"Return a full name, neatly formatted.\"\"\"\n",
    "    full_name = first_name + ' ' + last_name\n",
    "    return full_name.title()"
   ]
  },
  {
   "cell_type": "code",
   "execution_count": null,
   "metadata": {},
   "outputs": [],
   "source": [
    "musician = get_formatted_name('regina', 'spektor')\n",
    "print(musician)"
   ]
  },
  {
   "cell_type": "markdown",
   "metadata": {},
   "source": [
    "> What is the `return` statement doing?"
   ]
  },
  {
   "cell_type": "markdown",
   "metadata": {},
   "source": [
    "---\n",
    "### Let's break down the execution of the function step-by-step:\n",
    "\n",
    "\n",
    "1) The definition of `get_formatted_name()` takes as parameters a first and last name.\n",
    "___\n",
    "\n",
    "2) The function combines these two names, adds a space between them, and stores the result in `full_name`.\n",
    "___\n",
    "\n",
    "3) The value of `full_name` is converted to title case, and then returned to the calling line.\n",
    "\n",
    "> __NOTE:__\n",
    "\n",
    "> When you call a function that returns a value, you need to provide a variable where the return value can be stored.\n",
    "\n",
    "> In this case, the returned value is stored in the variable `musician`. \n",
    "\n",
    "___\n",
    "4) The output shows a neatly formatted name made up of the parts of a person’s name.\n",
    "\n",
    "___\n",
    "\n",
    "\n",
    "_Now, this might seem like a lot of work to get a neatly formatted name when we could have just written:_"
   ]
  },
  {
   "cell_type": "code",
   "execution_count": null,
   "metadata": {},
   "outputs": [],
   "source": [
    "print(\"Regina Spektor\")"
   ]
  },
  {
   "cell_type": "markdown",
   "metadata": {},
   "source": [
    "__But when you consider working with a large program that needs to store many first and last names separately, functions like `get_formatted_name()` become very useful.__ \n",
    "\n",
    "You store first and last names separately and then call this function whenever you want to display a full name."
   ]
  },
  {
   "cell_type": "code",
   "execution_count": null,
   "metadata": {},
   "outputs": [],
   "source": []
  },
  {
   "cell_type": "markdown",
   "metadata": {},
   "source": [
    "> Define a function called `add_two()` that takes a parameter `number`.\n",
    "\n",
    "> It adds 2 to `number`, saving that in a new variable called `total`.\n",
    "\n",
    "> In the function definition, include code that **prints** the total and **then, returns** total.\n",
    "\n"
   ]
  },
  {
   "cell_type": "code",
   "execution_count": null,
   "metadata": {},
   "outputs": [],
   "source": []
  },
  {
   "cell_type": "markdown",
   "metadata": {},
   "source": [
    "> The return statement **exits a function**, not executing any further code in it. \n",
    "\n",
    "> **What do you think the following will print?**"
   ]
  },
  {
   "cell_type": "code",
   "execution_count": null,
   "metadata": {},
   "outputs": [],
   "source": [
    "def mystery():\n",
    "    return 6\n",
    "    return 5\n",
    "\n",
    "my_number = mystery()\n",
    "print(my_number)\n"
   ]
  },
  {
   "cell_type": "markdown",
   "metadata": {},
   "source": [
    "> **And how about now? What do you think will print out?**\n"
   ]
  },
  {
   "cell_type": "code",
   "execution_count": null,
   "metadata": {},
   "outputs": [],
   "source": [
    "def add_bonus_points(score):\n",
    "    if score > 50:\n",
    "        return score + 10\n",
    "    score += 20\n",
    "    return score\n",
    "\n",
    "total_points = add_bonus_points(55)\n",
    "print(total_points)\n"
   ]
  },
  {
   "cell_type": "markdown",
   "metadata": {},
   "source": [
    "> The code that's below the return statement will never be executed and will be ignored completely.\n",
    "\n",
    "> The function stopped executing at the first return statement it hit.\n",
    "\n",
    "> Because the score in this case is greater than 50, we will hit the return statement return score + 10, and the function stops running.\n"
   ]
  },
  {
   "cell_type": "markdown",
   "metadata": {},
   "source": [
    "---\n",
    "## Exiting a Function\n",
    "\n",
    "We can also use return by itself as a way to exit the function and prevent any code that follows from running."
   ]
  },
  {
   "cell_type": "code",
   "execution_count": null,
   "metadata": {},
   "outputs": [],
   "source": [
    "def rock_and_roll(muted):\n",
    "    song = \"It's only Rock 'N' Roll\"\n",
    "    artist = \"Rolling Stones\"\n",
    "\n",
    "    if (muted == True):\n",
    "        return\n",
    "        # Here, we use return as a way to exit a function\n",
    "        # We don't actually return any value.\n",
    "    print(\"Now playing: \", song, \" by \", artist)\n",
    "\n",
    "rock_and_roll(True)"
   ]
  },
  {
   "cell_type": "markdown",
   "metadata": {},
   "source": [
    "> Here, we use return as a way to exit the function instead of returning any value. \n",
    "\n",
    "> When we call the function and pass in `True` as an argument for muted, this statement will **never** run: \n",
    "\n",
    "> `print \"Now playing: \", song, \" by \", artist.\"`\n",
    "\n",
    "> **Try changing true to false.**\n"
   ]
  },
  {
   "cell_type": "code",
   "execution_count": null,
   "metadata": {},
   "outputs": [],
   "source": []
  },
  {
   "cell_type": "markdown",
   "metadata": {},
   "source": [
    "> **Quick Knowledge Check**\n",
    "\n",
    "> Looking at the code below, where will the function stop if x is 10?\n"
   ]
  },
  {
   "cell_type": "code",
   "execution_count": null,
   "metadata": {},
   "outputs": [],
   "source": [
    "def categorize(x):\n",
    "    if (x < 8):\n",
    "        return 8\n",
    "    x += 3\n",
    "    if (x < 15):\n",
    "        return x\n",
    "    return 100\n"
   ]
  },
  {
   "cell_type": "code",
   "execution_count": null,
   "metadata": {},
   "outputs": [],
   "source": []
  },
  {
   "cell_type": "code",
   "execution_count": null,
   "metadata": {},
   "outputs": [],
   "source": [
    "categorize(10)"
   ]
  },
  {
   "cell_type": "markdown",
   "metadata": {},
   "source": [
    "> **Another Knowledge Check**\n",
    "\n",
    "> Take this simple adder function:"
   ]
  },
  {
   "cell_type": "code",
   "execution_count": null,
   "metadata": {},
   "outputs": [],
   "source": [
    "def adder(number1, number2):\n",
    "    return number1 + number2"
   ]
  },
  {
   "cell_type": "markdown",
   "metadata": {},
   "source": [
    "> Which of the following statements will result in an error?\n",
    "\n",
    "> A. adder(10, 100.) \n",
    "\n",
    "> B. adder(10, '10') \n",
    "\n",
    "> C. adder(100) \n",
    "\n",
    "> D. adder('abc', 'def') \n",
    "\n",
    "> E. adder(10, 20, 30) "
   ]
  },
  {
   "cell_type": "code",
   "execution_count": null,
   "metadata": {},
   "outputs": [],
   "source": [
    "print(adder(10, 100.))"
   ]
  },
  {
   "cell_type": "code",
   "execution_count": null,
   "metadata": {},
   "outputs": [],
   "source": [
    "print(adder(10, '10'))\n"
   ]
  },
  {
   "cell_type": "code",
   "execution_count": null,
   "metadata": {},
   "outputs": [],
   "source": [
    "print(adder(100))\n"
   ]
  },
  {
   "cell_type": "code",
   "execution_count": null,
   "metadata": {},
   "outputs": [],
   "source": [
    "print(adder('abc', 'def'))\n"
   ]
  },
  {
   "cell_type": "code",
   "execution_count": null,
   "metadata": {},
   "outputs": [],
   "source": [
    "print(adder(10, 20, 30))"
   ]
  },
  {
   "cell_type": "code",
   "execution_count": null,
   "metadata": {},
   "outputs": [],
   "source": []
  }
 ],
 "metadata": {
  "kernelspec": {
   "display_name": "Python 3",
   "language": "python",
   "name": "python3"
  },
  "language_info": {
   "codemirror_mode": {
    "name": "ipython",
    "version": 3
   },
   "file_extension": ".py",
   "mimetype": "text/x-python",
   "name": "python",
   "nbconvert_exporter": "python",
   "pygments_lexer": "ipython3",
   "version": "3.6.8"
  }
 },
 "nbformat": 4,
 "nbformat_minor": 2
}
