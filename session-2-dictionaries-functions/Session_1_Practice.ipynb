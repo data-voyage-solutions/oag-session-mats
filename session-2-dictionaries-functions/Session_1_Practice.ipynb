{
 "cells": [
  {
   "cell_type": "markdown",
   "metadata": {},
   "source": [
    "---\n",
    "# Review Questions\n",
    "\n",
    "\n",
    "### Get through as many of the questions below.\n",
    "\n",
    "__Start!__\n",
    "___"
   ]
  },
  {
   "cell_type": "markdown",
   "metadata": {},
   "source": [
    "> __Q1) Using the lists defined below (`list1` and `list2`), add one list to the other.__\n",
    ">\n",
    "> Expected Output:\n",
    ">\n",
    "> `[1, 2, 3, 4]`\n"
   ]
  },
  {
   "cell_type": "code",
   "execution_count": null,
   "metadata": {},
   "outputs": [],
   "source": [
    "list1 = [1, 2]\n",
    "list2 = [3, 4]"
   ]
  },
  {
   "cell_type": "code",
   "execution_count": null,
   "metadata": {},
   "outputs": [],
   "source": []
  },
  {
   "cell_type": "markdown",
   "metadata": {},
   "source": [
    "---\n",
    "\n",
    "> __Q2)__ If we list all the natural numbers below 10 that are multiples of 3 or 5, we get: 3, 5, 6 and 9.\n",
    ">\n",
    "> The sum of these multiples is 23.\n",
    ">\n",
    "> __Find the sum of all the multiples of 3 or 5 below 1000.__\n"
   ]
  },
  {
   "cell_type": "code",
   "execution_count": null,
   "metadata": {},
   "outputs": [],
   "source": [
    "multiples_list = []\n"
   ]
  },
  {
   "cell_type": "code",
   "execution_count": null,
   "metadata": {},
   "outputs": [],
   "source": []
  },
  {
   "cell_type": "markdown",
   "metadata": {
    "collapsed": true
   },
   "source": [
    "---\n",
    "> __Q3)__ I have a list of genders from a database:"
   ]
  },
  {
   "cell_type": "code",
   "execution_count": null,
   "metadata": {},
   "outputs": [],
   "source": [
    "genders = ['Male', 'Female', 'Female', 'Male', 'Female', 'Male', 'Male', 'Male', 'Female', 'Female', 'Male', 'Female', 'Female', 'Female']"
   ]
  },
  {
   "cell_type": "markdown",
   "metadata": {},
   "source": [
    "> In order to use this list in a machine learning algorithm, we need `genders` to be converted to 1's and 0's.\n",
    ">\n",
    "> __First, write a for loop that appends a new list called `females` with a 1 if the gender is female and 0 otherwise.__\n",
    "\n",
    "> Expected Output:\n",
    ">\n",
    "> `[0, 1, 1, 0, 1, 0, 0, 0, 1, 1, 0, 1, 1, 1]`"
   ]
  },
  {
   "cell_type": "code",
   "execution_count": null,
   "metadata": {},
   "outputs": [],
   "source": [
    "females = []\n"
   ]
  },
  {
   "cell_type": "code",
   "execution_count": null,
   "metadata": {},
   "outputs": [],
   "source": []
  },
  {
   "cell_type": "code",
   "execution_count": null,
   "metadata": {},
   "outputs": [],
   "source": []
  },
  {
   "cell_type": "markdown",
   "metadata": {},
   "source": [
    "---\n",
    "> __Q4) Using a for loop, filter the following array of numbers into a new list containing only the even numbers.__\n",
    "\n",
    "> **Hint:** If i is even, i % 2 == 0. Otherwise, i % 2 == 1. (% is the modulus operator. It returns the remainder.)\n",
    "\n",
    "> Expected Output:\n",
    ">\n",
    "> `[2, 4, 6, 8, 10]`"
   ]
  },
  {
   "cell_type": "code",
   "execution_count": null,
   "metadata": {},
   "outputs": [],
   "source": [
    "numbers = [1, 2, 3, 4, 5, 6, 7, 8, 9, 10]\n",
    "even_numbers = []"
   ]
  },
  {
   "cell_type": "code",
   "execution_count": null,
   "metadata": {},
   "outputs": [],
   "source": []
  },
  {
   "cell_type": "code",
   "execution_count": null,
   "metadata": {},
   "outputs": [],
   "source": []
  },
  {
   "cell_type": "markdown",
   "metadata": {},
   "source": [
    "---\n",
    "> **Q5) Sort the list of numbers below from greatest to least** \n"
   ]
  },
  {
   "cell_type": "code",
   "execution_count": null,
   "metadata": {},
   "outputs": [],
   "source": [
    "numbers = [10, 2, -1, 0, 3, 5]"
   ]
  },
  {
   "cell_type": "code",
   "execution_count": null,
   "metadata": {},
   "outputs": [],
   "source": []
  },
  {
   "cell_type": "code",
   "execution_count": null,
   "metadata": {},
   "outputs": [],
   "source": []
  },
  {
   "cell_type": "markdown",
   "metadata": {},
   "source": [
    "---\n",
    "### CHALLENGE QUESTIONS\n",
    "\n",
    "> __Q6A) Create a list called `dwarves_list` that splits `dwarves_string` on the spaces.__\n",
    ">\n",
    "> *Hint: Use the method `.split()`*\n",
    "\n",
    "> Expected Output:\n",
    ">\n",
    "> `['Bashful,', 'Doc,', 'Dopey,', 'Happy,', 'Sleepy,', 'Sneezy', 'and', 'Grumpy']`"
   ]
  },
  {
   "cell_type": "code",
   "execution_count": null,
   "metadata": {},
   "outputs": [],
   "source": [
    "dwarves_string = \"Bashful, Doc, Dopey, Happy, Sleepy, Sneezy and Grumpy\""
   ]
  },
  {
   "cell_type": "code",
   "execution_count": null,
   "metadata": {},
   "outputs": [],
   "source": [
    "dwarves_list = # this is where you create a list from dwarves_string\n"
   ]
  },
  {
   "cell_type": "markdown",
   "metadata": {},
   "source": [
    "> **Q6B) Now use a for loop to remove the commas.**\n",
    "\n",
    "> *Hint: use method `.replace()` on string*\n",
    "\n",
    "> *NOTE: You'll still see commas in your output between each element in the list. Just make sure they aren't in the strings.*\n",
    "\n",
    "> Expected Output:\n",
    "\n",
    "> `['Bashful', 'Doc', 'Dopey', 'Happy', 'Sleepy', 'Sneezy', 'and', 'Grumpy']`"
   ]
  },
  {
   "cell_type": "code",
   "execution_count": null,
   "metadata": {},
   "outputs": [],
   "source": []
  },
  {
   "cell_type": "code",
   "execution_count": null,
   "metadata": {},
   "outputs": [],
   "source": []
  },
  {
   "cell_type": "markdown",
   "metadata": {},
   "source": [
    "> **Q6C) Finally, remove the word 'and' from your list.**\n",
    "\n",
    "> Expected Output:\n",
    "\n",
    "> `['Bashful,', 'Doc,', 'Dopey,', 'Happy,', 'Sleepy,', 'Sneezy', 'Grumpy']`"
   ]
  },
  {
   "cell_type": "code",
   "execution_count": null,
   "metadata": {},
   "outputs": [],
   "source": []
  },
  {
   "cell_type": "code",
   "execution_count": null,
   "metadata": {},
   "outputs": [],
   "source": []
  },
  {
   "cell_type": "code",
   "execution_count": null,
   "metadata": {},
   "outputs": [],
   "source": []
  }
 ],
 "metadata": {
  "kernelspec": {
   "display_name": "Python 3",
   "language": "python",
   "name": "python3"
  },
  "language_info": {
   "codemirror_mode": {
    "name": "ipython",
    "version": 3
   },
   "file_extension": ".py",
   "mimetype": "text/x-python",
   "name": "python",
   "nbconvert_exporter": "python",
   "pygments_lexer": "ipython3",
   "version": "3.6.8"
  }
 },
 "nbformat": 4,
 "nbformat_minor": 2
}
